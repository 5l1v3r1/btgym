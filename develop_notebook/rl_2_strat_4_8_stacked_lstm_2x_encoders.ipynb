{
 "cells": [
  {
   "cell_type": "code",
   "execution_count": 1,
   "metadata": {},
   "outputs": [],
   "source": [
    "import os\n",
    "import backtrader as bt\n",
    "import numpy as np\n",
    "from gym import spaces\n",
    "\n",
    "from btgym import BTgymEnv, BTgymDataset\n",
    "from btgym.strategy.observers import Reward, Position, NormPnL\n",
    "from btgym.algorithms import Launcher, A3C, PPO, Unreal, Aac1dPolicy\n",
    "\n",
    "from btgym.research import DevStrat_4_7, DevStrat_4_8, DevStrat_4_9, DevStrat_4_10, DevStrat_4_11\n",
    "from btgym.research import AacRL2Policy, StackedLstmPolicy, AacStackedRL2Policy\n",
    "\n",
    "from btgym.datafeed import BTgymRandomTrial, BTgymSequentialTrial"
   ]
  },
  {
   "cell_type": "code",
   "execution_count": 22,
   "metadata": {},
   "outputs": [],
   "source": [
    "# Set backtesting engine parameters:\n",
    "\n",
    "MyCerebro = bt.Cerebro()\n",
    "\n",
    "MyCerebro.addstrategy(\n",
    "    DevStrat_4_11,\n",
    "    drawdown_call=10, # max % to loose, in percent of initial cash\n",
    "    target_call=10,  # max % to win, same\n",
    "    skip_frame=10,\n",
    "    gamma=0.99,\n",
    "    reward_scale=5, # gardients nitrox\n",
    ")\n",
    "# Set leveraged account:\n",
    "MyCerebro.broker.setcash(2000)\n",
    "MyCerebro.broker.setcommission(commission=0.0001, leverage=10.0) # commisssion to imitate spread\n",
    "MyCerebro.addsizer(bt.sizers.SizerFix, stake=5000,)  \n",
    "\n",
    "#MyCerebro.addanalyzer(bt.analyzers.DrawDown)\n",
    "\n",
    "# Visualisations for reward, position and PnL dynamics:\n",
    "MyCerebro.addobserver(Reward)\n",
    "MyCerebro.addobserver(Position)\n",
    "MyCerebro.addobserver(NormPnL)\n",
    "\n",
    "# Data var. 1: up to seven years of 1 minute bars:\n",
    "data_m1_7_year = [\n",
    "    #'../examples/data/DAT_ASCII_EURUSD_M1_2010.csv',\n",
    "    #'../examples/data/DAT_ASCII_EURUSD_M1_2011.csv',\n",
    "    #'../examples/data/DAT_ASCII_EURUSD_M1_2012.csv',\n",
    "    '../examples/data/DAT_ASCII_EURUSD_M1_2013.csv',\n",
    "    '../examples/data/DAT_ASCII_EURUSD_M1_2014.csv',\n",
    "    '../examples/data/DAT_ASCII_EURUSD_M1_2015.csv',\n",
    "    '../examples/data/DAT_ASCII_EURUSD_M1_2016.csv',\n",
    "]\n",
    "\n",
    "# Data var. 2: up to six month of 1 minute bars:\n",
    "data_m1_6_month = [\n",
    "    '../examples/data/DAT_ASCII_EURUSD_M1_201701.csv',\n",
    "    '../examples/data/DAT_ASCII_EURUSD_M1_201702.csv',\n",
    "    '../examples/data/DAT_ASCII_EURUSD_M1_201703.csv',\n",
    "    '../examples/data/DAT_ASCII_EURUSD_M1_201704.csv',\n",
    "    '../examples/data/DAT_ASCII_EURUSD_M1_201705.csv',\n",
    "    '../examples/data/DAT_ASCII_EURUSD_M1_201706.csv',\n",
    "]\n",
    "\n",
    "# Uncomment single choice:\n",
    "MyDataset = BTgymDataset( #BTgymSequentialTrial(  \n",
    "    #filename=data_m1_7_year,\n",
    "    #filename=data_m1_6_month,\n",
    "    #filename='../examples/data/DAT_ASCII_EURUSD_M1_2015.csv',\n",
    "    #filename='../examples/data/DAT_ASCII_EURUSD_M1_2016.csv',\n",
    "    filename='../examples/data/DAT_ASCII_EURUSD_M1_201703.csv',\n",
    "    #filename='../examples/data/DAT_ASCII_EURUSD_M1_201704.csv',\n",
    "    #filename='../examples/data/DAT_ASCII_EURUSD_M1_201703_1_10.csv',  # ten days\n",
    "    #filename='../examples/data/test_sine_1min_period256_delta0002.csv',  # simple sine \n",
    "    #filename='../examples/data/test_bent_sine_1min_period1500_300_delta0002.csv',  # increasing sine freq\n",
    "    #filename='../examples/data/test_bent_sine_1min_period_300>1500_delta0002.csv',  # decreasing sine freq\n",
    "    start_weekdays={0, 1, 2, 3, 4, 5, 6},\n",
    "    episode_duration={'days': 0, 'hours': 23, 'minutes': 55},\n",
    "    start_00=False,\n",
    "    time_gap={'hours': 10},\n",
    "    train_range={'days': 20, 'hours': 0, 'minutes': 0},\n",
    "    test_range={'days': 10, 'hours': 0, 'minutes': 0},\n",
    "    train_samples=100000,\n",
    "    test_samples=10,\n",
    "    test_period=200,\n",
    "    trial_start_00=True,\n",
    "    expanding=False,\n",
    "    b_alpha=200,\n",
    "    b_beta=0.8,\n",
    "    b_anneal_steps=10000\n",
    ")\n",
    "\n",
    "env_config = dict(\n",
    "    class_ref=BTgymEnv, \n",
    "    kwargs=dict(\n",
    "        dataset=MyDataset,\n",
    "        engine=MyCerebro,\n",
    "        render_modes=['episode', 'human', 'external', 'internal'],\n",
    "        render_state_as_image=True,\n",
    "        render_ylabel='OHL_diff. / Internals',\n",
    "        render_size_episode=(12,8),\n",
    "        render_size_human=(9, 4),\n",
    "        render_size_state=(11, 3),\n",
    "        render_dpi=75,\n",
    "        port=5000,\n",
    "        data_port=4999,\n",
    "        connect_timeout=60,\n",
    "        verbose=0,\n",
    "    )\n",
    ")\n",
    "\n",
    "cluster_config = dict(\n",
    "    host='127.0.0.1',\n",
    "    port=12230,\n",
    "    num_workers=6,  # Set according CPU's available or so\n",
    "    num_ps=1,\n",
    "    num_envs=1,\n",
    "    log_dir=os.path.expanduser('~/tmp/test_4_8'),\n",
    ")\n",
    "\n",
    "policy_config = dict(\n",
    "    class_ref=AacStackedRL2Policy,\n",
    "    kwargs={\n",
    "        'lstm_layers': (256, 256),\n",
    "        'lstm_2_init_period': 60,\n",
    "        'encode_internal_state': False,\n",
    "        #'dropout_keep_prob': 0.99,\n",
    "    }\n",
    ")\n",
    "\n",
    "trainer_config = dict(\n",
    "    class_ref=Unreal,\n",
    "    kwargs=dict(\n",
    "        opt_learn_rate=[1e-4, 1e-4], # Random log-uniform \n",
    "        opt_end_learn_rate=1e-5,\n",
    "        opt_decay_steps=20*10**6,\n",
    "        model_gamma=0.99,\n",
    "        model_gae_lambda=1.0,\n",
    "        model_beta=[0.1, 0.03], # Entropy reg, random log-uniform\n",
    "        rollout_length=20,\n",
    "        time_flat=True,\n",
    "        use_value_replay=False,\n",
    "        use_pixel_control=False,\n",
    "        use_reward_prediction=False,\n",
    "        rp_reward_threshold=0.1,\n",
    "        rp_sequence_size=4,\n",
    "        rp_lambda=0.01,\n",
    "        model_summary_freq=100,\n",
    "        episode_summary_freq=5,\n",
    "        env_render_freq=20,\n",
    "    )\n",
    ")"
   ]
  },
  {
   "cell_type": "code",
   "execution_count": null,
   "metadata": {
    "scrolled": false
   },
   "outputs": [
    {
     "name": "stdout",
     "output_type": "stream",
     "text": [
      "</Users/muzikin/tmp/test_4_8> already exists. Override[y/n]? y\n"
     ]
    },
    {
     "name": "stderr",
     "output_type": "stream",
     "text": [
      "[2017-12-27 20:25:15,379] Files in </Users/muzikin/tmp/test_4_8> purged.\n",
      "[2017-12-27 20:25:19,737] AAC_0: learn_rate: 0.000100, entropy_beta: 0.083925\n"
     ]
    },
    {
     "name": "stdout",
     "output_type": "stream",
     "text": [
      "Press `Ctrl-C` or [Kernel]->[Interrupt] to stop training and close launcher.\n"
     ]
    },
    {
     "name": "stderr",
     "output_type": "stream",
     "text": [
      "[2017-12-27 20:25:22,402] AAC_5: learn_rate: 0.000100, entropy_beta: 0.030710\n",
      "[2017-12-27 20:25:22,402] AAC_1: learn_rate: 0.000100, entropy_beta: 0.044168\n",
      "[2017-12-27 20:25:22,402] AAC_3: learn_rate: 0.000100, entropy_beta: 0.082202\n",
      "[2017-12-27 20:25:22,415] AAC_2: learn_rate: 0.000100, entropy_beta: 0.061766\n",
      "[2017-12-27 20:25:22,426] AAC_4: learn_rate: 0.000100, entropy_beta: 0.030711\n"
     ]
    },
    {
     "name": "stdout",
     "output_type": "stream",
     "text": [
      "INFO:tensorflow:Starting queue runners.\n"
     ]
    },
    {
     "name": "stderr",
     "output_type": "stream",
     "text": [
      "[2017-12-27 20:25:50,468] Starting queue runners.\n",
      "[2017-12-27 20:25:50,745] worker_2: started training at step: 0\n"
     ]
    },
    {
     "name": "stdout",
     "output_type": "stream",
     "text": [
      "INFO:tensorflow:Starting queue runners.\n"
     ]
    },
    {
     "name": "stderr",
     "output_type": "stream",
     "text": [
      "[2017-12-27 20:25:50,753] Starting queue runners.\n"
     ]
    },
    {
     "name": "stdout",
     "output_type": "stream",
     "text": [
      "INFO:tensorflow:Starting queue runners.\n"
     ]
    },
    {
     "name": "stderr",
     "output_type": "stream",
     "text": [
      "[2017-12-27 20:25:50,906] Starting queue runners.\n",
      "[2017-12-27 20:25:50,992] worker_3: started training at step: 0\n"
     ]
    },
    {
     "name": "stdout",
     "output_type": "stream",
     "text": [
      "INFO:tensorflow:Starting queue runners.\n"
     ]
    },
    {
     "name": "stderr",
     "output_type": "stream",
     "text": [
      "[2017-12-27 20:25:50,999] Starting queue runners.\n"
     ]
    },
    {
     "name": "stdout",
     "output_type": "stream",
     "text": [
      "INFO:tensorflow:Starting queue runners.\n"
     ]
    },
    {
     "name": "stderr",
     "output_type": "stream",
     "text": [
      "[2017-12-27 20:25:51,023] Starting queue runners.\n",
      "[2017-12-27 20:25:51,185] worker_1: started training at step: 0\n",
      "[2017-12-27 20:25:51,206] worker_4: started training at step: 0\n",
      "[2017-12-27 20:25:51,253] worker_5: started training at step: 0\n"
     ]
    },
    {
     "name": "stdout",
     "output_type": "stream",
     "text": [
      "INFO:tensorflow:Starting standard services.\n"
     ]
    },
    {
     "name": "stderr",
     "output_type": "stream",
     "text": [
      "[2017-12-27 20:26:04,528] Starting standard services.\n"
     ]
    },
    {
     "name": "stdout",
     "output_type": "stream",
     "text": [
      "INFO:tensorflow:Saving checkpoint to path /Users/muzikin/tmp/test_4_8/train/model.ckpt\n",
      "INFO:tensorflow:Starting queue runners.\n"
     ]
    },
    {
     "name": "stderr",
     "output_type": "stream",
     "text": [
      "[2017-12-27 20:26:04,620] Saving checkpoint to path /Users/muzikin/tmp/test_4_8/train/model.ckpt\n"
     ]
    },
    {
     "name": "stdout",
     "output_type": "stream",
     "text": [
      "INFO:tensorflow:global/global_step/sec: 0\n"
     ]
    },
    {
     "name": "stderr",
     "output_type": "stream",
     "text": [
      "[2017-12-27 20:26:04,620] Starting queue runners.\n",
      "[2017-12-27 20:26:04,621] global/global_step/sec: 0\n",
      "[2017-12-27 20:26:04,812] worker_0: started training at step: 0\n",
      "[2017-12-27 20:26:04,815] Data_master `reset()` called prior to `reset_data()` with [possibly inconsistent] defaults.\n"
     ]
    },
    {
     "name": "stdout",
     "output_type": "stream",
     "text": [
      "INFO:tensorflow:global/global_step/sec: 228.2\n"
     ]
    },
    {
     "name": "stderr",
     "output_type": "stream",
     "text": [
      "[2017-12-27 20:28:04,622] global/global_step/sec: 228.2\n"
     ]
    },
    {
     "name": "stdout",
     "output_type": "stream",
     "text": [
      "INFO:tensorflow:global/global_step/sec: 240.809\n"
     ]
    },
    {
     "name": "stderr",
     "output_type": "stream",
     "text": [
      "[2017-12-27 20:30:04,617] global/global_step/sec: 240.809\n"
     ]
    },
    {
     "name": "stdout",
     "output_type": "stream",
     "text": [
      "INFO:tensorflow:Saving checkpoint to path /Users/muzikin/tmp/test_4_8/train/model.ckpt\n"
     ]
    },
    {
     "name": "stderr",
     "output_type": "stream",
     "text": [
      "[2017-12-27 20:31:04,612] Saving checkpoint to path /Users/muzikin/tmp/test_4_8/train/model.ckpt\n"
     ]
    },
    {
     "name": "stdout",
     "output_type": "stream",
     "text": [
      "INFO:tensorflow:global/global_step/sec: 220.857\n"
     ]
    },
    {
     "name": "stderr",
     "output_type": "stream",
     "text": [
      "[2017-12-27 20:32:04,620] global/global_step/sec: 220.857\n"
     ]
    },
    {
     "name": "stdout",
     "output_type": "stream",
     "text": [
      "INFO:tensorflow:global/global_step/sec: 221.852\n"
     ]
    },
    {
     "name": "stderr",
     "output_type": "stream",
     "text": [
      "[2017-12-27 20:34:04,622] global/global_step/sec: 221.852\n"
     ]
    },
    {
     "name": "stdout",
     "output_type": "stream",
     "text": [
      "INFO:tensorflow:Saving checkpoint to path /Users/muzikin/tmp/test_4_8/train/model.ckpt\n"
     ]
    },
    {
     "name": "stderr",
     "output_type": "stream",
     "text": [
      "[2017-12-27 20:36:04,609] Saving checkpoint to path /Users/muzikin/tmp/test_4_8/train/model.ckpt\n"
     ]
    },
    {
     "name": "stdout",
     "output_type": "stream",
     "text": [
      "INFO:tensorflow:global/global_step/sec: 230.5\n"
     ]
    },
    {
     "name": "stderr",
     "output_type": "stream",
     "text": [
      "[2017-12-27 20:36:04,617] global/global_step/sec: 230.5\n"
     ]
    },
    {
     "name": "stdout",
     "output_type": "stream",
     "text": [
      "INFO:tensorflow:global/global_step/sec: 230.441\n"
     ]
    },
    {
     "name": "stderr",
     "output_type": "stream",
     "text": [
      "[2017-12-27 20:38:04,618] global/global_step/sec: 230.441\n"
     ]
    },
    {
     "name": "stdout",
     "output_type": "stream",
     "text": [
      "INFO:tensorflow:global/global_step/sec: 233.265\n"
     ]
    },
    {
     "name": "stderr",
     "output_type": "stream",
     "text": [
      "[2017-12-27 20:40:04,623] global/global_step/sec: 233.265\n"
     ]
    },
    {
     "name": "stdout",
     "output_type": "stream",
     "text": [
      "INFO:tensorflow:Saving checkpoint to path /Users/muzikin/tmp/test_4_8/train/model.ckpt\n"
     ]
    },
    {
     "name": "stderr",
     "output_type": "stream",
     "text": [
      "[2017-12-27 20:41:04,607] Saving checkpoint to path /Users/muzikin/tmp/test_4_8/train/model.ckpt\n"
     ]
    }
   ],
   "source": [
    "launcher = Launcher(\n",
    "    cluster_config=cluster_config,\n",
    "    env_config=env_config,\n",
    "    trainer_config=trainer_config,\n",
    "    policy_config=policy_config,\n",
    "    test_mode=False,\n",
    "    max_env_steps=100*10**6,\n",
    "    root_random_seed=0,\n",
    "    purge_previous=1,  # ask to override previously saved model and logs\n",
    "    verbose=0\n",
    ")\n",
    "\n",
    "# Train it:\n",
    "launcher.run()"
   ]
  },
  {
   "cell_type": "code",
   "execution_count": null,
   "metadata": {
    "collapsed": true
   },
   "outputs": [],
   "source": []
  }
 ],
 "metadata": {
  "kernelspec": {
   "display_name": "Python 3",
   "language": "python",
   "name": "python3"
  },
  "language_info": {
   "codemirror_mode": {
    "name": "ipython",
    "version": 3
   },
   "file_extension": ".py",
   "mimetype": "text/x-python",
   "name": "python",
   "nbconvert_exporter": "python",
   "pygments_lexer": "ipython3",
   "version": "3.6.0"
  }
 },
 "nbformat": 4,
 "nbformat_minor": 2
}
