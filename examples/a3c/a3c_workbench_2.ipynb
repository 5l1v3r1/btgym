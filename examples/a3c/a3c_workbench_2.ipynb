{
 "cells": [
  {
   "cell_type": "code",
   "execution_count": 1,
   "metadata": {
    "collapsed": true
   },
   "outputs": [],
   "source": [
    "#%load_ext autoreload\n",
    "#%autoreload 2\n",
    "\n",
    "#import sys\n",
    "#sys.path.insert(0,'..')\n",
    "\n",
    "\n",
    "\n",
    "import os\n",
    "\n",
    "import logging\n",
    "\n",
    "\n",
    "import time\n",
    "import psutil\n",
    "from subprocess import PIPE\n",
    "import multiprocessing\n",
    "\n",
    "import tensorflow as tf\n",
    "\n",
    "from btgym import BTgymEnv, BTgymDataset\n",
    "\n",
    "from launcher import Launcher"
   ]
  },
  {
   "cell_type": "code",
   "execution_count": 2,
   "metadata": {},
   "outputs": [
    {
     "name": "stderr",
     "output_type": "stream",
     "text": [
      "[2017-08-11 13:12:31,180] ./a3c_log created.\n",
      "[2017-08-11 13:12:31,468] ready.\n"
     ]
    }
   ],
   "source": [
    "cluster_config = dict(\n",
    "    host='127.0.0.1',\n",
    "    port=12222,\n",
    "    num_workers=2,\n",
    "    num_ps=1,\n",
    "    log_dir='./a3c_log',\n",
    ")\n",
    "\n",
    "# Provide data:\n",
    "MyDataset = BTgymDataset(\n",
    "    filename='../data/DAT_ASCII_EURUSD_M1_2016.csv',\n",
    "    start_weekdays=[0, 1, 2, 3, 4],\n",
    "    episode_len_days=0,\n",
    "    episode_len_hours=23,\n",
    "    episode_len_minutes=0,\n",
    "    start_00=False,\n",
    "    time_gap_hours=2,\n",
    ")\n",
    "\n",
    "env_config = dict(\n",
    "    dataset=MyDataset,\n",
    "    port=5000,\n",
    "    data_port=4999,\n",
    "    connect_timeout=5,\n",
    "    verbose=1,\n",
    ")\n",
    "\n",
    "launcher = Launcher(\n",
    "    cluster_config=cluster_config,\n",
    "    env_class=BTgymEnv,\n",
    "    env_config=env_config,\n",
    "    \n",
    ")"
   ]
  },
  {
   "cell_type": "code",
   "execution_count": null,
   "metadata": {
    "collapsed": true
   },
   "outputs": [],
   "source": [
    "launcher.env_config"
   ]
  },
  {
   "cell_type": "code",
   "execution_count": 3,
   "metadata": {
    "scrolled": false
   },
   "outputs": [
    {
     "name": "stderr",
     "output_type": "stream",
     "text": [
      "[2017-08-11 13:12:44,710] tf.server started.\n",
      "[2017-08-11 13:12:44,710] tf.server started.\n",
      "[2017-08-11 13:12:44,710] parameters_server started.\n",
      "[2017-08-11 13:12:44,726] making environment.\n",
      "[2017-08-11 13:12:44,727] making environment.\n",
      "[2017-08-11 13:12:44,781] Connecting data_server...\n",
      "[2017-08-11 13:12:44,781] Custom Dataset class used.\n",
      "[2017-08-11 13:12:44,783] Connecting data_server...\n",
      "[2017-08-11 13:12:44,891] DataServer PID: 13664\n",
      "[2017-08-11 13:12:45,733] Loaded 372678 records from <../data/DAT_ASCII_EURUSD_M1_2016.csv>.\n",
      "[2017-08-11 13:12:45,869] Data summary:\n",
      "                open           high            low          close    volume\n",
      "count  372678.000000  372678.000000  372678.000000  372678.000000  372678.0\n",
      "mean        1.107109       1.107198       1.107019       1.107108       0.0\n",
      "std         0.024843       0.024840       0.024847       0.024844       0.0\n",
      "min         1.035250       1.035470       1.035220       1.035220       0.0\n",
      "25%         1.092140       1.092230       1.092040       1.092140       0.0\n",
      "50%         1.113530       1.113610       1.113450       1.113530       0.0\n",
      "75%         1.124710       1.124780       1.124630       1.124710       0.0\n",
      "max         1.161440       1.161600       1.160770       1.161450       0.0\n",
      "[2017-08-11 13:12:45,931] ...done.\n",
      "[2017-08-11 13:12:45,935] Base Cerebro class used. Base Strategy class used.\n",
      "[2017-08-11 13:12:45,941] Inferring obs. space high/low form dataset: 1.035220 / 1.161600.\n",
      "[2017-08-11 13:12:45,988] BTgymServer PID: 13669\n",
      "[2017-08-11 13:12:46,999] Environment is ready.\n"
     ]
    },
    {
     "name": "stdout",
     "output_type": "stream",
     "text": [
      "INFO:tensorflow:Starting standard services.\n"
     ]
    },
    {
     "name": "stderr",
     "output_type": "stream",
     "text": [
      "[2017-08-11 13:12:47,319] Starting standard services.\n"
     ]
    },
    {
     "name": "stdout",
     "output_type": "stream",
     "text": [
      "INFO:tensorflow:Starting queue runners.\n"
     ]
    },
    {
     "name": "stderr",
     "output_type": "stream",
     "text": [
      "[2017-08-11 13:12:47,333] Starting queue runners.\n"
     ]
    },
    {
     "name": "stdout",
     "output_type": "stream",
     "text": [
      "Trainer_0: sync`ed.\n",
      "Trainer_0 started.\n"
     ]
    },
    {
     "name": "stderr",
     "output_type": "stream",
     "text": [
      "[2017-08-11 13:12:47,337] Starting training at step=0\n"
     ]
    },
    {
     "name": "stdout",
     "output_type": "stream",
     "text": [
      "Traner_0: processed step 0\n",
      "Traner_0: processed step 1\n",
      "Traner_0: processed step 2\n",
      "Traner_0: processed step 3\n",
      "Traner_0: processed step 4\n",
      "Traner_0: processed step 5\n",
      "Traner_0: processed step 6\n",
      "Traner_0: processed step 7\n",
      "Traner_0: processed step 8\n",
      "Traner_0: processed step 9\n"
     ]
    },
    {
     "name": "stderr",
     "output_type": "stream",
     "text": [
      "[2017-08-11 13:12:47,355] Server is exiting.\n",
      "[2017-08-11 13:12:47,357] Server is exiting. Exit code: None\n",
      "[2017-08-11 13:12:47,359] DataServer is exiting.\n",
      "[2017-08-11 13:12:47,361] DataServer is exiting. Exit code: None\n",
      "[2017-08-11 13:12:47,363] Environment closed.\n",
      "[2017-08-11 13:12:47,365] reached 10 steps, exiting.\n",
      "[2017-08-11 13:12:47,376] worker_0 has joined.\n",
      "[2017-08-11 13:12:47,378] worker_1 has joined.\n",
      "[2017-08-11 13:12:47,383] parameter_server_0 has joined.\n",
      "[2017-08-11 13:12:47,385] launcher closed.\n"
     ]
    }
   ],
   "source": [
    "launcher.run()"
   ]
  },
  {
   "cell_type": "code",
   "execution_count": null,
   "metadata": {
    "collapsed": true
   },
   "outputs": [],
   "source": []
  }
 ],
 "metadata": {
  "kernelspec": {
   "display_name": "Python 3",
   "language": "python",
   "name": "python3"
  },
  "language_info": {
   "codemirror_mode": {
    "name": "ipython",
    "version": 3
   },
   "file_extension": ".py",
   "mimetype": "text/x-python",
   "name": "python",
   "nbconvert_exporter": "python",
   "pygments_lexer": "ipython3",
   "version": "3.6.0"
  }
 },
 "nbformat": 4,
 "nbformat_minor": 2
}
