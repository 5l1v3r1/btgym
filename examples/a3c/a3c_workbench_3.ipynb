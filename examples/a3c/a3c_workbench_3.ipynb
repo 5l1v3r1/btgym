{
 "cells": [
  {
   "cell_type": "code",
   "execution_count": 1,
   "metadata": {
    "collapsed": true
   },
   "outputs": [],
   "source": [
    "#%load_ext autoreload\n",
    "#%autoreload 2\n",
    "\n",
    "#import sys\n",
    "#sys.path.insert(0,'..')\n",
    "\n",
    "import os\n",
    "\n",
    "import backtrader as bt\n",
    "import backtrader.indicators as btind\n",
    "import numpy as np\n",
    "import scipy.signal as signal\n",
    "\n",
    "from gym import spaces\n",
    "\n",
    "from btgym import BTgymEnv, BTgymStrategy, BTgymDataset\n",
    "\n",
    "from launcher import Launcher"
   ]
  },
  {
   "cell_type": "code",
   "execution_count": 4,
   "metadata": {},
   "outputs": [
    {
     "name": "stderr",
     "output_type": "stream",
     "text": [
      "[2017-08-22 14:36:57,411] ./tmp/a3c_testing_gym created.\n"
     ]
    }
   ],
   "source": [
    "# GYM TEST ENV:\n",
    "cluster_config = dict(\n",
    "    host='127.0.0.1',\n",
    "    port=12222,\n",
    "    num_workers=8,\n",
    "    num_ps=1,\n",
    "    log_dir='./tmp/a3c_testing_gym',\n",
    ")\n",
    "\n",
    "env_config = dict(\n",
    "    gym_id='Breakout-v0'\n",
    ")\n",
    "\n",
    "\n",
    "launcher = Launcher(\n",
    "    cluster_config=cluster_config,\n",
    "    env_config=env_config,\n",
    "    train_steps=500000000,\n",
    "    opt_learn_rate=1e-4,\n",
    "    rollout_length=30,\n",
    "    test_mode=True,\n",
    "    model_summary_freq=50,\n",
    "    episode_summary_freq=2,\n",
    "    env_render_freq=10,\n",
    "    verbose=1\n",
    ")"
   ]
  },
  {
   "cell_type": "code",
   "execution_count": null,
   "metadata": {
    "collapsed": true
   },
   "outputs": [],
   "source": [
    "launcher.cluster_spec"
   ]
  },
  {
   "cell_type": "code",
   "execution_count": 5,
   "metadata": {
    "scrolled": false
   },
   "outputs": [
    {
     "name": "stderr",
     "output_type": "stream",
     "text": [
      "[2017-08-22 14:37:00,994] Making new env: Breakout-v0\n",
      "[2017-08-22 14:37:06,085] Press `Ctrl-C` to stop training and close launcher.\n",
      "[2017-08-22 14:37:06,047] Making new env: Breakout-v0\n",
      "[2017-08-22 14:37:06,136] Making new env: Breakout-v0\n",
      "[2017-08-22 14:37:06,152] Making new env: Breakout-v0\n",
      "[2017-08-22 14:37:06,141] Making new env: Breakout-v0\n",
      "[2017-08-22 14:37:06,144] Making new env: Breakout-v0\n",
      "[2017-08-22 14:37:06,186] Making new env: Breakout-v0\n",
      "[2017-08-22 14:37:06,198] Making new env: Breakout-v0\n"
     ]
    },
    {
     "name": "stdout",
     "output_type": "stream",
     "text": [
      "Press `Ctrl-C` to stop training and close launcher.\n",
      "INFO:tensorflow:Starting standard services.\n"
     ]
    },
    {
     "name": "stderr",
     "output_type": "stream",
     "text": [
      "[2017-08-22 14:37:11,444] Starting standard services.\n"
     ]
    },
    {
     "name": "stdout",
     "output_type": "stream",
     "text": [
      "INFO:tensorflow:Saving checkpoint to path ./tmp/a3c_testing_gym/train/model.ckpt\n"
     ]
    },
    {
     "name": "stderr",
     "output_type": "stream",
     "text": [
      "[2017-08-22 14:37:11,464] Saving checkpoint to path ./tmp/a3c_testing_gym/train/model.ckpt\n"
     ]
    },
    {
     "name": "stdout",
     "output_type": "stream",
     "text": [
      "INFO:tensorflow:Starting queue runners.\n",
      "INFO:tensorflow:global/global_step/sec: 0\n"
     ]
    },
    {
     "name": "stderr",
     "output_type": "stream",
     "text": [
      "[2017-08-22 14:37:11,465] Starting queue runners.\n",
      "[2017-08-22 14:37:11,466] global/global_step/sec: 0\n",
      "[2017-08-22 14:37:11,548] worker_0: starting training at step: 0\n"
     ]
    },
    {
     "name": "stdout",
     "output_type": "stream",
     "text": [
      "INFO:tensorflow:Starting queue runners.\n"
     ]
    },
    {
     "name": "stderr",
     "output_type": "stream",
     "text": [
      "[2017-08-22 14:37:14,880] Starting queue runners.\n",
      "[2017-08-22 14:37:14,972] worker_7: starting training at step: 314\n"
     ]
    },
    {
     "name": "stdout",
     "output_type": "stream",
     "text": [
      "INFO:tensorflow:Starting queue runners.\n",
      "INFO:tensorflow:Starting queue runners.\n"
     ]
    },
    {
     "name": "stderr",
     "output_type": "stream",
     "text": [
      "[2017-08-22 14:37:15,031] Starting queue runners.\n",
      "[2017-08-22 14:37:15,029] Starting queue runners.\n",
      "[2017-08-22 14:37:15,092] worker_6: starting training at step: 344\n",
      "[2017-08-22 14:37:15,107] worker_2: starting training at step: 344\n"
     ]
    },
    {
     "name": "stdout",
     "output_type": "stream",
     "text": [
      "INFO:tensorflow:Starting queue runners.\n"
     ]
    },
    {
     "name": "stderr",
     "output_type": "stream",
     "text": [
      "[2017-08-22 14:37:15,071] Starting queue runners.\n",
      "[2017-08-22 14:37:15,213] worker_1: starting training at step: 344\n"
     ]
    },
    {
     "name": "stdout",
     "output_type": "stream",
     "text": [
      "INFO:tensorflow:Starting queue runners.\n"
     ]
    },
    {
     "name": "stderr",
     "output_type": "stream",
     "text": [
      "[2017-08-22 14:37:15,231] Starting queue runners.\n"
     ]
    },
    {
     "name": "stdout",
     "output_type": "stream",
     "text": [
      "INFO:tensorflow:Starting queue runners.\n"
     ]
    },
    {
     "name": "stderr",
     "output_type": "stream",
     "text": [
      "[2017-08-22 14:37:15,270] Starting queue runners.\n",
      "[2017-08-22 14:37:15,318] worker_4: starting training at step: 344\n",
      "[2017-08-22 14:37:15,365] worker_3: starting training at step: 344\n"
     ]
    },
    {
     "name": "stdout",
     "output_type": "stream",
     "text": [
      "INFO:tensorflow:Starting queue runners.\n"
     ]
    },
    {
     "name": "stderr",
     "output_type": "stream",
     "text": [
      "[2017-08-22 14:37:15,425] Starting queue runners.\n",
      "[2017-08-22 14:37:15,485] worker_5: starting training at step: 344\n"
     ]
    },
    {
     "name": "stdout",
     "output_type": "stream",
     "text": [
      "INFO:tensorflow:global/global_step/sec: 522.932\n"
     ]
    },
    {
     "name": "stderr",
     "output_type": "stream",
     "text": [
      "[2017-08-22 14:39:11,477] global/global_step/sec: 522.932\n",
      "[2017-08-22 14:40:43,043] worker_1 has joined.\n",
      "[2017-08-22 14:40:43,049] worker_2 has joined.\n",
      "[2017-08-22 14:40:43,050] worker_3 has joined.\n",
      "[2017-08-22 14:40:43,051] worker_4 has joined.\n",
      "[2017-08-22 14:40:43,052] worker_5 has joined.\n",
      "[2017-08-22 14:40:43,053] worker_6 has joined.\n",
      "[2017-08-22 14:40:43,054] worker_7 has joined.\n",
      "[2017-08-22 14:40:43,055] chief_worker_0 has joined.\n",
      "[2017-08-22 14:40:43,055] parameter_server_0 has joined.\n",
      "[2017-08-22 14:40:43,056] Launcher closed.\n"
     ]
    }
   ],
   "source": [
    "launcher.run()\n"
   ]
  },
  {
   "cell_type": "code",
   "execution_count": 6,
   "metadata": {},
   "outputs": [
    {
     "name": "stderr",
     "output_type": "stream",
     "text": [
      "[2017-08-22 14:40:58,831] ./tmp/a3c_testing created.\n"
     ]
    }
   ],
   "source": [
    "class MyStrategy(BTgymStrategy):\n",
    "    \"\"\"\n",
    "    Example subclass of BT server inner computation startegy.\n",
    "    \"\"\"\n",
    "    \n",
    "    def __init__(self, **kwargs):\n",
    "        super(MyStrategy,self).__init__(**kwargs)\n",
    "        \n",
    "        self.order_penalty = 0.5\n",
    "        self.trade_just_closed = False\n",
    "        self.trade_result = None\n",
    "        \n",
    "    def notify_trade(self, trade):\n",
    "        #if trade.justopened:\n",
    "            #print('trade {} just opened'.format(trade.ref))\n",
    "            \n",
    "        if trade.isclosed:\n",
    "            #print('trade {} closed, pnl_comm: {}'.format(trade.ref, trade.pnlcomm))\n",
    "            # Set trade flag and result:\n",
    "            self.trade_just_closed = True\n",
    "            self.trade_result = trade.pnlcomm\n",
    "    \n",
    "    def sigmoid(self, x):\n",
    "        return 1/(1 + np.exp(-x))\n",
    "        \n",
    "    def get_state(self):\n",
    "        \"\"\"\n",
    "        Computes featurized RL-ready environment observation state\n",
    "        by applying continious wavelet transform to time-embedded vector\n",
    "        of close-price gradients.\n",
    "        \"\"\"\n",
    "        # Z-normalize raw inputs:\n",
    "        mean = self.p.dataset_stat[1:3].values[0,:-1]\n",
    "        std = self.p.dataset_stat[1:3].values[1,:-1]\n",
    "        X = (self.raw_state - mean) / std\n",
    "        #X = self.raw_state\n",
    "        \n",
    "        # Prepare parameters:\n",
    "        Tau = 2\n",
    "        max_cwt_scale = self.p.state_shape['model_input'].shape[1]\n",
    "        cwt_width = np.linspace(Tau, max_cwt_scale + Tau - 1, max_cwt_scale) # scale of wavelet transdorm [n]\n",
    "    \n",
    "        \n",
    "        # 'gamma'-like signal hyperparameter\n",
    "        # for our signal to be in about [-5,+5] range before passing it to sigmoid;\n",
    "        # tweak it by hand to add/remove \"contrast\":\n",
    "        T = 2.5e+2\n",
    "        \n",
    "        # Get vector of gradients of last [n] prices:\n",
    "        X = np.gradient(X, axis=0) * T\n",
    "        \n",
    "        # Use close price:\n",
    "        channel = 3\n",
    "        # Compute continious wavelet transform using Ricker wavelet, get [n,m,1]-dim. matrix:\n",
    "        self.state['model_input'] = signal.cwt(X[:, channel], signal.ricker, cwt_width).T[:, :, None]\n",
    "        \n",
    "        # Squash values in [0,1]:\n",
    "        self.state['model_input'] = self.sigmoid(self.state['model_input'])\n",
    "        \n",
    "        return self.state\n",
    "    \n",
    "\n",
    "    def R(self, val, val_start, R_max, DD_max):\n",
    "        \"\"\"\n",
    "        Piecewise-linear normalized reward:\n",
    "        val > 0         - values scalar or vector;\n",
    "        val_start > 1   - start value, scalar;\n",
    "        0 < R_max < 1   - maximum gain, percent/100,\n",
    "        0 < DD_max < 1  - maximum draw-down, percent/100,\n",
    "                          scalar (minimal acceptable value: = val_start*(1-DD_max) );\n",
    "        returns vector in [-1,+1] range :\n",
    "        \"\"\"\n",
    "\n",
    "        f_neg = np.asarray((val/val_start + DD_max - 1) / DD_max - 1)\n",
    "        f_neg[f_neg > 0] = 0 \n",
    "        f_neg[f_neg < -1] = -0.999\n",
    "        f_pos = np.asarray((val/val_start - 1) / R_max)\n",
    "        f_pos[f_pos < 0] = 0\n",
    "        f_pos[f_pos > 1] = 1 \n",
    "\n",
    "        return (f_neg + f_pos) / 2 +.5  # shift reward to [0,1] range\n",
    "    \n",
    "    def log_utility_R(self, val, val_start, R_max, DD_max, epsilon=0.001):\n",
    "        \"\"\"\n",
    "        Normalized log utility reward function.\n",
    "        Args:\n",
    "            val > 0         - values scalar or vector;\n",
    "            val_start > 1   - start value, scalar;\n",
    "            0 < R_max < 1   - maximum gain, percent/100,\n",
    "            0 < DD_max < 1  - maximum draw-down, percent/100,\n",
    "                              scalar (minimal acceptable value: = val_start*(1-DD_max) );\n",
    "            0 < epsilon <<1 - 'steepness' tuning parameter, scalar;\n",
    "        Returns:\n",
    "            piece-wise log utility in [0,1]\n",
    "        \"\"\"\n",
    "        y = np.asarray((val/val_start + DD_max - 1)/(R_max + DD_max))\n",
    "        y[y <= epsilon] = epsilon\n",
    "        y[y > 1] = 1\n",
    "\n",
    "        return 1 - np.log(y) / np.log(epsilon) \n",
    "    \n",
    "    def power_utility_R(self, val, val_start, R_max, DD_max, power=2):\n",
    "        \"\"\"\n",
    "        Normalized power utility Reward function.\n",
    "        Args:\n",
    "            val > 0         - values scalar or vector;\n",
    "            val_start > 1   - start value, scalar;\n",
    "            0 < R_max < 1   - maximum gain, percent/100,\n",
    "            0 < DD_max < 1  - maximum draw-down, percent/100,\n",
    "                              scalar (minimal acceptable value: = val_start*(1-DD_max) );\n",
    "            1 < power       - 'steepness' tuning parameter, scalar;\n",
    "        Returns:\n",
    "            piece-wise power utility in [0,1]\n",
    "        \"\"\"\n",
    "        y = np.asarray((val/val_start + DD_max - 1)/(R_max + DD_max))\n",
    "        y[y < 0] = 0\n",
    "        y[y > 1] = 1\n",
    "\n",
    "        return y ** power\n",
    "    \n",
    "    def __get_reward(self):\n",
    "        \"\"\"\n",
    "        Defines reward as [0,1]-bounded linear function of current to initial portfolio value ratio.\n",
    "        \"\"\"\n",
    "        r = float(\n",
    "            self.log_utility_R(\n",
    "                val=self.env.broker.get_value(),\n",
    "                val_start=self.env.broker.startingcash,\n",
    "                R_max=self.p.target_call/100,\n",
    "                DD_max=self.p.drawdown_call/100,\n",
    "                epsilon=0.0001\n",
    "            )\n",
    "        )\n",
    "        \n",
    "        r /= 10 # normalize (kind of...)\n",
    "\n",
    "        # Penalty for failed order:\n",
    "        if self.order_failed:\n",
    "            #print('Failed order!')\n",
    "            r -= self.order_penalty\n",
    "            self.order_failed = False\n",
    "        \n",
    "        return r \n",
    "    \n",
    "    def get_reward(self):\n",
    "        \"\"\"\n",
    "        Defines reward as [0,1]-bounded function of last closed trade result.\n",
    "        \"\"\"\n",
    "        r = 0\n",
    "        \n",
    "        # Result\n",
    "        if self.trade_just_closed:\n",
    "            r = self.trade_result\n",
    "            self.trade_just_closed = False\n",
    "            \n",
    "        # Penalty for failed order:\n",
    "        if self.order_failed:\n",
    "            #print('Failed order!')\n",
    "            r -= self.order_penalty\n",
    "            self.order_failed = False\n",
    "            \n",
    "        #print('reward_', r)\n",
    "        \n",
    "        return r / 20\n",
    "            \n",
    "# Set backtesting engine parameters:\n",
    "\n",
    "state_shape = {\n",
    "    'raw_state': spaces.Box(low=-1, high=1, shape=(90, 4)),\n",
    "    'model_input': spaces.Box(low=0, high=1, shape=(90, 20, 1))\n",
    "}\n",
    "\n",
    "MyCerebro = bt.Cerebro()\n",
    "MyCerebro.addstrategy(MyStrategy,\n",
    "                      state_shape=state_shape,\n",
    "                      portfolio_actions=('hold', 'buy', 'sell'),\n",
    "                      drawdown_call=5, # in percent\n",
    "                      target_call=10,\n",
    "                      skip_frame=10,\n",
    "                     )\n",
    "\n",
    "# Set leveraged account:\n",
    "MyCerebro.broker.setcash(2000)\n",
    "MyCerebro.broker.setcommission(commission=0.0001, leverage=10.0)\n",
    "MyCerebro.broker.set_shortcash(False)\n",
    "MyCerebro.addsizer(bt.sizers.SizerFix, stake=10000,)\n",
    "\n",
    "\n",
    "MyCerebro.addanalyzer(bt.analyzers.DrawDown)\n",
    "\n",
    "# Provide data:\n",
    "MyDataset = BTgymDataset(\n",
    "    filename='../data/DAT_ASCII_EURUSD_M1_2016.csv',\n",
    "    #filename='../data/test_sine_1min_period256_delta0002.csv',\n",
    "    start_weekdays=[0, 1, 2, 3, 4],\n",
    "    episode_len_days=0,\n",
    "    episode_len_hours=23,\n",
    "    episode_len_minutes=0,\n",
    "    start_00=True,\n",
    "    time_gap_hours=2,\n",
    ")\n",
    "env_config = dict(\n",
    "    dataset=MyDataset,\n",
    "    engine=MyCerebro,\n",
    "    render_modes=['episode', 'human', 'model_input'],\n",
    "    render_state_as_image=True,\n",
    "    render_ylabel='Z-norm/CWT',\n",
    "    render_size_episode=(12,8),\n",
    "    render_size_human=(8, 3.5),\n",
    "    render_size_state=(10, 5),\n",
    "    render_dpi=75,\n",
    "    port=5000,\n",
    "    data_port=4999,\n",
    "    connect_timeout=60,\n",
    "    verbose=0,\n",
    ")\n",
    "cluster_config = dict(\n",
    "    host='127.0.0.1',\n",
    "    port=12222,\n",
    "    num_workers=8,\n",
    "    num_ps=1,\n",
    "    log_dir='./tmp/a3c_testing',\n",
    ")\n",
    "launcher = Launcher(\n",
    "    cluster_config=cluster_config,\n",
    "    env_class=BTgymEnv,\n",
    "    env_config=env_config,\n",
    "    rollout_length=20,\n",
    "    test_mode=False,\n",
    "    train_steps=1000000000,\n",
    "    model_summary_freq=20,\n",
    "    episode_summary_freq=1,\n",
    "    env_render_freq=20,\n",
    "    verbose=1\n",
    "    \n",
    ")"
   ]
  },
  {
   "cell_type": "code",
   "execution_count": 7,
   "metadata": {
    "scrolled": false
   },
   "outputs": [
    {
     "name": "stderr",
     "output_type": "stream",
     "text": [
      "[2017-08-22 14:41:06,353] Press `Ctrl-C` to stop training and close launcher.\n"
     ]
    },
    {
     "name": "stdout",
     "output_type": "stream",
     "text": [
      "Press `Ctrl-C` to stop training and close launcher.\n",
      "INFO:tensorflow:Starting standard services.\n"
     ]
    },
    {
     "name": "stderr",
     "output_type": "stream",
     "text": [
      "[2017-08-22 14:41:13,092] Starting standard services.\n"
     ]
    },
    {
     "name": "stdout",
     "output_type": "stream",
     "text": [
      "INFO:tensorflow:Saving checkpoint to path ./tmp/a3c_testing/train/model.ckpt\n"
     ]
    },
    {
     "name": "stderr",
     "output_type": "stream",
     "text": [
      "[2017-08-22 14:41:13,197] Saving checkpoint to path ./tmp/a3c_testing/train/model.ckpt\n"
     ]
    },
    {
     "name": "stdout",
     "output_type": "stream",
     "text": [
      "INFO:tensorflow:Starting queue runners.\n",
      "INFO:tensorflow:global/global_step/sec: 0\n"
     ]
    },
    {
     "name": "stderr",
     "output_type": "stream",
     "text": [
      "[2017-08-22 14:41:13,198] Starting queue runners.\n",
      "[2017-08-22 14:41:13,209] global/global_step/sec: 0\n",
      "[2017-08-22 14:41:13,337] worker_0: starting training at step: 0\n"
     ]
    },
    {
     "name": "stdout",
     "output_type": "stream",
     "text": [
      "INFO:tensorflow:Starting queue runners.\n"
     ]
    },
    {
     "name": "stderr",
     "output_type": "stream",
     "text": [
      "[2017-08-22 14:41:15,287] Starting queue runners.\n",
      "[2017-08-22 14:41:15,341] worker_2: starting training at step: 80\n"
     ]
    },
    {
     "name": "stdout",
     "output_type": "stream",
     "text": [
      "INFO:tensorflow:Starting queue runners.\n"
     ]
    },
    {
     "name": "stderr",
     "output_type": "stream",
     "text": [
      "[2017-08-22 14:41:15,454] Starting queue runners.\n",
      "[2017-08-22 14:41:15,528] worker_7: starting training at step: 80\n"
     ]
    },
    {
     "name": "stdout",
     "output_type": "stream",
     "text": [
      "INFO:tensorflow:Starting queue runners.\n"
     ]
    },
    {
     "name": "stderr",
     "output_type": "stream",
     "text": [
      "[2017-08-22 14:41:15,528] Starting queue runners.\n",
      "[2017-08-22 14:41:15,632] worker_1: starting training at step: 100\n"
     ]
    },
    {
     "name": "stdout",
     "output_type": "stream",
     "text": [
      "INFO:tensorflow:Starting queue runners.\n"
     ]
    },
    {
     "name": "stderr",
     "output_type": "stream",
     "text": [
      "[2017-08-22 14:41:16,134] Starting queue runners.\n",
      "[2017-08-22 14:41:16,221] worker_6: starting training at step: 120\n"
     ]
    },
    {
     "name": "stdout",
     "output_type": "stream",
     "text": [
      "INFO:tensorflow:Starting queue runners.\n"
     ]
    },
    {
     "name": "stderr",
     "output_type": "stream",
     "text": [
      "[2017-08-22 14:41:16,281] Starting queue runners.\n"
     ]
    },
    {
     "name": "stdout",
     "output_type": "stream",
     "text": [
      "INFO:tensorflow:Starting queue runners.\n"
     ]
    },
    {
     "name": "stderr",
     "output_type": "stream",
     "text": [
      "[2017-08-22 14:41:16,321] Starting queue runners.\n",
      "[2017-08-22 14:41:16,359] worker_5: starting training at step: 140\n",
      "[2017-08-22 14:41:16,415] worker_3: starting training at step: 140\n"
     ]
    },
    {
     "name": "stdout",
     "output_type": "stream",
     "text": [
      "INFO:tensorflow:Starting queue runners.\n"
     ]
    },
    {
     "name": "stderr",
     "output_type": "stream",
     "text": [
      "[2017-08-22 14:41:16,558] Starting queue runners.\n",
      "[2017-08-22 14:41:16,659] worker_4: starting training at step: 160\n"
     ]
    },
    {
     "name": "stdout",
     "output_type": "stream",
     "text": [
      "INFO:tensorflow:global/global_step/sec: 258.185\n"
     ]
    },
    {
     "name": "stderr",
     "output_type": "stream",
     "text": [
      "[2017-08-22 14:43:13,205] global/global_step/sec: 258.185\n"
     ]
    },
    {
     "name": "stdout",
     "output_type": "stream",
     "text": [
      "INFO:tensorflow:global/global_step/sec: 267.186\n"
     ]
    },
    {
     "name": "stderr",
     "output_type": "stream",
     "text": [
      "[2017-08-22 14:45:13,196] global/global_step/sec: 267.186\n",
      "Process BTgymServer-19:1:\n",
      "Process BTgymServer-17:1:\n",
      "Process BTgymDataFeedServer-14:1:\n",
      "Process BTgymServer-21:1:\n",
      "Process BTgymServer-16:1:\n",
      "[2017-08-22 14:45:16,947] worker_1 has joined.\n",
      "Process BTgymServer-20:1:\n",
      "Process BTgymServer-15:1:\n",
      "Process BTgymServer-14:2:\n",
      "Process BTgymServer-18:1:\n",
      "[2017-08-22 14:45:16,953] worker_2 has joined.\n",
      "[2017-08-22 14:45:16,954] worker_3 has joined.\n",
      "[2017-08-22 14:45:16,955] worker_4 has joined.\n",
      "[2017-08-22 14:45:16,956] worker_5 has joined.\n",
      "[2017-08-22 14:45:16,957] worker_6 has joined.\n",
      "[2017-08-22 14:45:17,008] worker_7 has joined.\n",
      "[2017-08-22 14:45:17,009] chief_worker_0 has joined.\n",
      "[2017-08-22 14:45:17,010] parameter_server_0 has joined.\n",
      "[2017-08-22 14:45:17,010] Launcher closed.\n",
      "Traceback (most recent call last):\n",
      "  File \"/Users/muzikin/anaconda/envs/tensorforce/lib/python3.6/multiprocessing/process.py\", line 249, in _bootstrap\n",
      "    self.run()\n",
      "  File \"/Users/muzikin/Yandex.Disk.localized/work/btgym/btgym/server.py\", line 413, in run\n",
      "    episode = cerebro.run(stdstats=True, preload=False, oldbuysell=True)[0]\n",
      "  File \"/Users/muzikin/anaconda/envs/tensorforce/lib/python3.6/site-packages/backtrader/cerebro.py\", line 1073, in run\n",
      "    runstrat = self.runstrategies(iterstrat)\n",
      "  File \"/Users/muzikin/anaconda/envs/tensorforce/lib/python3.6/site-packages/backtrader/cerebro.py\", line 1235, in runstrategies\n",
      "    self._runnext(runstrats)\n",
      "  File \"/Users/muzikin/anaconda/envs/tensorforce/lib/python3.6/site-packages/backtrader/cerebro.py\", line 1486, in _runnext\n",
      "    for i, ret in enumerate(drets):\n",
      "KeyboardInterrupt\n",
      "Traceback (most recent call last):\n",
      "Traceback (most recent call last):\n",
      "  File \"/Users/muzikin/anaconda/envs/tensorforce/lib/python3.6/multiprocessing/process.py\", line 249, in _bootstrap\n",
      "    self.run()\n",
      "  File \"/Users/muzikin/anaconda/envs/tensorforce/lib/python3.6/multiprocessing/process.py\", line 249, in _bootstrap\n",
      "    self.run()\n",
      "  File \"/Users/muzikin/Yandex.Disk.localized/work/btgym/btgym/server.py\", line 413, in run\n",
      "    episode = cerebro.run(stdstats=True, preload=False, oldbuysell=True)[0]\n",
      "  File \"/Users/muzikin/Yandex.Disk.localized/work/btgym/btgym/server.py\", line 413, in run\n",
      "    episode = cerebro.run(stdstats=True, preload=False, oldbuysell=True)[0]\n",
      "  File \"/Users/muzikin/anaconda/envs/tensorforce/lib/python3.6/site-packages/backtrader/cerebro.py\", line 1073, in run\n",
      "    runstrat = self.runstrategies(iterstrat)\n",
      "  File \"/Users/muzikin/anaconda/envs/tensorforce/lib/python3.6/site-packages/backtrader/cerebro.py\", line 1073, in run\n",
      "    runstrat = self.runstrategies(iterstrat)\n",
      "  File \"/Users/muzikin/anaconda/envs/tensorforce/lib/python3.6/site-packages/backtrader/cerebro.py\", line 1235, in runstrategies\n",
      "    self._runnext(runstrats)\n",
      "  File \"/Users/muzikin/anaconda/envs/tensorforce/lib/python3.6/site-packages/backtrader/cerebro.py\", line 1235, in runstrategies\n",
      "    self._runnext(runstrats)\n",
      "  File \"/Users/muzikin/anaconda/envs/tensorforce/lib/python3.6/site-packages/backtrader/cerebro.py\", line 1557, in _runnext\n",
      "    self._brokernotify()\n",
      "  File \"/Users/muzikin/anaconda/envs/tensorforce/lib/python3.6/site-packages/backtrader/cerebro.py\", line 1564, in _runnext\n",
      "    strat._next()\n",
      "  File \"/Users/muzikin/anaconda/envs/tensorforce/lib/python3.6/site-packages/backtrader/strategy.py\", line 324, in _next\n",
      "    super(Strategy, self)._next()\n",
      "  File \"/Users/muzikin/anaconda/envs/tensorforce/lib/python3.6/site-packages/backtrader/cerebro.py\", line 1297, in _brokernotify\n",
      "    self._broker.next()\n",
      "  File \"/Users/muzikin/anaconda/envs/tensorforce/lib/python3.6/site-packages/backtrader/lineiterator.py\", line 258, in _next\n",
      "    indicator._next()\n",
      "  File \"/Users/muzikin/anaconda/envs/tensorforce/lib/python3.6/site-packages/backtrader/brokers/bbroker.py\", line 1087, in next\n",
      "    self._get_value()  # update value\n",
      "  File \"/Users/muzikin/anaconda/envs/tensorforce/lib/python3.6/site-packages/backtrader/lineiterator.py\", line 255, in _next\n",
      "    clock_len = self._clk_update()\n",
      "  File \"/Users/muzikin/anaconda/envs/tensorforce/lib/python3.6/site-packages/backtrader/brokers/bbroker.py\", line 461, in _get_value\n",
      "    self._valuemkt = pos_value_unlever\n",
      "  File \"/Users/muzikin/anaconda/envs/tensorforce/lib/python3.6/site-packages/backtrader/lineiterator.py\", line 282, in _clk_update\n",
      "    clock_len = len(self._clock)\n",
      "KeyboardInterrupt\n",
      "KeyboardInterrupt\n",
      "Traceback (most recent call last):\n",
      "  File \"/Users/muzikin/anaconda/envs/tensorforce/lib/python3.6/multiprocessing/process.py\", line 249, in _bootstrap\n",
      "    self.run()\n",
      "  File \"/Users/muzikin/Yandex.Disk.localized/work/btgym/btgym/dataserver.py\", line 100, in run\n",
      "    service_input = socket.recv_pyobj()\n",
      "  File \"/Users/muzikin/anaconda/envs/tensorforce/lib/python3.6/site-packages/zmq/sugar/socket.py\", line 491, in recv_pyobj\n",
      "    msg = self.recv(flags)\n",
      "Traceback (most recent call last):\n",
      "  File \"zmq/backend/cython/socket.pyx\", line 693, in zmq.backend.cython.socket.Socket.recv (zmq/backend/cython/socket.c:7683)\n",
      "  File \"/Users/muzikin/anaconda/envs/tensorforce/lib/python3.6/multiprocessing/process.py\", line 249, in _bootstrap\n",
      "    self.run()\n",
      "  File \"zmq/backend/cython/socket.pyx\", line 727, in zmq.backend.cython.socket.Socket.recv (zmq/backend/cython/socket.c:7460)\n",
      "  File \"zmq/backend/cython/socket.pyx\", line 145, in zmq.backend.cython.socket._recv_copy (zmq/backend/cython/socket.c:2344)\n",
      "  File \"/Users/muzikin/Yandex.Disk.localized/work/btgym/btgym/server.py\", line 413, in run\n",
      "    episode = cerebro.run(stdstats=True, preload=False, oldbuysell=True)[0]\n",
      "  File \"/Users/muzikin/anaconda/envs/tensorforce/lib/python3.6/site-packages/backtrader/cerebro.py\", line 1073, in run\n",
      "    runstrat = self.runstrategies(iterstrat)\n",
      "  File \"zmq/backend/cython/checkrc.pxd\", line 12, in zmq.backend.cython.checkrc._check_rc (zmq/backend/cython/socket.c:9621)\n",
      "  File \"/Users/muzikin/anaconda/envs/tensorforce/lib/python3.6/site-packages/backtrader/cerebro.py\", line 1235, in runstrategies\n",
      "    self._runnext(runstrats)\n",
      "KeyboardInterrupt\n",
      "  File \"/Users/muzikin/anaconda/envs/tensorforce/lib/python3.6/site-packages/backtrader/cerebro.py\", line 1564, in _runnext\n",
      "    strat._next()\n",
      "  File \"/Users/muzikin/anaconda/envs/tensorforce/lib/python3.6/site-packages/backtrader/strategy.py\", line 328, in _next\n",
      "    self._next_observers(minperstatus)\n",
      "  File \"/Users/muzikin/anaconda/envs/tensorforce/lib/python3.6/site-packages/backtrader/strategy.py\", line 356, in _next_observers\n",
      "    observer._next()\n",
      "  File \"/Users/muzikin/anaconda/envs/tensorforce/lib/python3.6/site-packages/backtrader/lineiterator.py\", line 275, in _next\n",
      "    self.next()\n",
      "  File \"/Users/muzikin/anaconda/envs/tensorforce/lib/python3.6/site-packages/backtrader/observers/buysell.py\", line 99, in next\n",
      "    cursell = self.lines.sell[0]\n",
      "  File \"/Users/muzikin/anaconda/envs/tensorforce/lib/python3.6/site-packages/backtrader/lineseries.py\", line 62, in __get__\n",
      "    return obj.lines[self.line]\n",
      "KeyboardInterrupt\n",
      "Traceback (most recent call last):\n",
      "  File \"/Users/muzikin/anaconda/envs/tensorforce/lib/python3.6/multiprocessing/process.py\", line 249, in _bootstrap\n",
      "    self.run()\n",
      "  File \"/Users/muzikin/Yandex.Disk.localized/work/btgym/btgym/server.py\", line 413, in run\n",
      "    episode = cerebro.run(stdstats=True, preload=False, oldbuysell=True)[0]\n",
      "  File \"/Users/muzikin/anaconda/envs/tensorforce/lib/python3.6/site-packages/backtrader/cerebro.py\", line 1073, in run\n",
      "    runstrat = self.runstrategies(iterstrat)\n",
      "  File \"/Users/muzikin/anaconda/envs/tensorforce/lib/python3.6/site-packages/backtrader/cerebro.py\", line 1235, in runstrategies\n",
      "    self._runnext(runstrats)\n",
      "  File \"/Users/muzikin/anaconda/envs/tensorforce/lib/python3.6/site-packages/backtrader/cerebro.py\", line 1564, in _runnext\n",
      "    strat._next()\n",
      "  File \"/Users/muzikin/anaconda/envs/tensorforce/lib/python3.6/site-packages/backtrader/strategy.py\", line 327, in _next\n",
      "    self._next_analyzers(minperstatus)\n",
      "  File \"/Users/muzikin/anaconda/envs/tensorforce/lib/python3.6/site-packages/backtrader/strategy.py\", line 361, in _next_analyzers\n",
      "    analyzer._next()\n",
      "  File \"/Users/muzikin/anaconda/envs/tensorforce/lib/python3.6/site-packages/backtrader/analyzer.py\", line 188, in _next\n",
      "    self.next()\n",
      "  File \"/Users/muzikin/Yandex.Disk.localized/work/btgym/btgym/server.py\", line 103, in next\n",
      "    state = self.strategy.get_state()\n"
     ]
    },
    {
     "name": "stderr",
     "output_type": "stream",
     "text": [
      "  File \"<ipython-input-6-67ba51bd3845>\", line 55, in get_state\n",
      "    self.state['model_input'] = signal.cwt(X[:, channel], signal.ricker, cwt_width).T[:, :, None]\n",
      "  File \"/Users/muzikin/anaconda/envs/tensorforce/lib/python3.6/site-packages/scipy/signal/wavelets.py\", line 362, in cwt\n",
      "    wavelet_data = wavelet(min(10 * width, len(data)), width)\n",
      "  File \"/Users/muzikin/anaconda/envs/tensorforce/lib/python3.6/site-packages/scipy/signal/wavelets.py\", line 303, in ricker\n",
      "    vec = np.arange(0, points) - (points - 1.0) / 2\n",
      "KeyboardInterrupt\n",
      "Traceback (most recent call last):\n",
      "  File \"/Users/muzikin/anaconda/envs/tensorforce/lib/python3.6/multiprocessing/process.py\", line 249, in _bootstrap\n",
      "    self.run()\n",
      "  File \"/Users/muzikin/Yandex.Disk.localized/work/btgym/btgym/server.py\", line 413, in run\n",
      "    episode = cerebro.run(stdstats=True, preload=False, oldbuysell=True)[0]\n",
      "  File \"/Users/muzikin/anaconda/envs/tensorforce/lib/python3.6/site-packages/backtrader/cerebro.py\", line 1073, in run\n",
      "    runstrat = self.runstrategies(iterstrat)\n",
      "  File \"/Users/muzikin/anaconda/envs/tensorforce/lib/python3.6/site-packages/backtrader/cerebro.py\", line 1235, in runstrategies\n",
      "    self._runnext(runstrats)\n",
      "  File \"/Users/muzikin/anaconda/envs/tensorforce/lib/python3.6/site-packages/backtrader/cerebro.py\", line 1564, in _runnext\n",
      "    strat._next()\n",
      "  File \"/Users/muzikin/anaconda/envs/tensorforce/lib/python3.6/site-packages/backtrader/strategy.py\", line 327, in _next\n",
      "    self._next_analyzers(minperstatus)\n",
      "  File \"/Users/muzikin/anaconda/envs/tensorforce/lib/python3.6/site-packages/backtrader/strategy.py\", line 361, in _next_analyzers\n",
      "    analyzer._next()\n",
      "  File \"/Users/muzikin/anaconda/envs/tensorforce/lib/python3.6/site-packages/backtrader/analyzer.py\", line 188, in _next\n",
      "    self.next()\n",
      "  File \"/Users/muzikin/Yandex.Disk.localized/work/btgym/btgym/server.py\", line 102, in next\n",
      "    raw_state = self.strategy._get_raw_state()\n",
      "  File \"/Users/muzikin/Yandex.Disk.localized/work/btgym/btgym/strategy.py\", line 123, in _get_raw_state\n",
      "    np.frombuffer(self.data.close.get(size=self.p.state_shape['raw_state'].shape[0])),\n",
      "  File \"/Users/muzikin/anaconda/envs/tensorforce/lib/python3.6/site-packages/numpy/core/shape_base.py\", line 182, in vstack\n",
      "    def vstack(tup):\n",
      "KeyboardInterrupt\n",
      "Traceback (most recent call last):\n",
      "  File \"/Users/muzikin/anaconda/envs/tensorforce/lib/python3.6/multiprocessing/process.py\", line 249, in _bootstrap\n",
      "    self.run()\n",
      "  File \"/Users/muzikin/Yandex.Disk.localized/work/btgym/btgym/server.py\", line 413, in run\n",
      "    episode = cerebro.run(stdstats=True, preload=False, oldbuysell=True)[0]\n",
      "  File \"/Users/muzikin/anaconda/envs/tensorforce/lib/python3.6/site-packages/backtrader/cerebro.py\", line 1073, in run\n",
      "    runstrat = self.runstrategies(iterstrat)\n",
      "  File \"/Users/muzikin/anaconda/envs/tensorforce/lib/python3.6/site-packages/backtrader/cerebro.py\", line 1235, in runstrategies\n",
      "    self._runnext(runstrats)\n",
      "  File \"/Users/muzikin/anaconda/envs/tensorforce/lib/python3.6/site-packages/backtrader/cerebro.py\", line 1564, in _runnext\n",
      "    strat._next()\n",
      "  File \"/Users/muzikin/anaconda/envs/tensorforce/lib/python3.6/site-packages/backtrader/strategy.py\", line 327, in _next\n",
      "    self._next_analyzers(minperstatus)\n",
      "  File \"/Users/muzikin/anaconda/envs/tensorforce/lib/python3.6/site-packages/backtrader/strategy.py\", line 361, in _next_analyzers\n",
      "    analyzer._next()\n",
      "  File \"/Users/muzikin/anaconda/envs/tensorforce/lib/python3.6/site-packages/backtrader/analyzer.py\", line 188, in _next\n",
      "    self.next()\n",
      "  File \"/Users/muzikin/Yandex.Disk.localized/work/btgym/btgym/server.py\", line 103, in next\n",
      "    state = self.strategy.get_state()\n",
      "  File \"<ipython-input-6-67ba51bd3845>\", line 55, in get_state\n",
      "    self.state['model_input'] = signal.cwt(X[:, channel], signal.ricker, cwt_width).T[:, :, None]\n",
      "  File \"/Users/muzikin/anaconda/envs/tensorforce/lib/python3.6/site-packages/scipy/signal/wavelets.py\", line 364, in cwt\n",
      "    mode='same')\n",
      "  File \"/Users/muzikin/anaconda/envs/tensorforce/lib/python3.6/site-packages/scipy/signal/signaltools.py\", line 783, in convolve\n",
      "    method = choose_conv_method(volume, kernel, mode=mode)\n",
      "  File \"/Users/muzikin/anaconda/envs/tensorforce/lib/python3.6/site-packages/scipy/signal/signaltools.py\", line 679, in choose_conv_method\n",
      "    if _fftconv_faster(volume, kernel, mode):\n",
      "  File \"/Users/muzikin/anaconda/envs/tensorforce/lib/python3.6/site-packages/scipy/signal/signaltools.py\", line 483, in _fftconv_faster\n",
      "    tuple(out_shape)))\n",
      "  File \"/Users/muzikin/anaconda/envs/tensorforce/lib/python3.6/site-packages/scipy/signal/signaltools.py\", line 482, in <genexpr>\n",
      "    fft_time = sum(n * math.log(n) for n in (x.shape + h.shape +\n",
      "KeyboardInterrupt\n",
      "Traceback (most recent call last):\n",
      "  File \"/Users/muzikin/anaconda/envs/tensorforce/lib/python3.6/multiprocessing/process.py\", line 249, in _bootstrap\n",
      "    self.run()\n",
      "  File \"/Users/muzikin/Yandex.Disk.localized/work/btgym/btgym/server.py\", line 413, in run\n",
      "    episode = cerebro.run(stdstats=True, preload=False, oldbuysell=True)[0]\n",
      "  File \"/Users/muzikin/anaconda/envs/tensorforce/lib/python3.6/site-packages/backtrader/cerebro.py\", line 1073, in run\n",
      "    runstrat = self.runstrategies(iterstrat)\n",
      "  File \"/Users/muzikin/anaconda/envs/tensorforce/lib/python3.6/site-packages/backtrader/cerebro.py\", line 1235, in runstrategies\n",
      "    self._runnext(runstrats)\n",
      "  File \"/Users/muzikin/anaconda/envs/tensorforce/lib/python3.6/site-packages/backtrader/cerebro.py\", line 1564, in _runnext\n",
      "    strat._next()\n",
      "  File \"/Users/muzikin/anaconda/envs/tensorforce/lib/python3.6/site-packages/backtrader/strategy.py\", line 327, in _next\n",
      "    self._next_analyzers(minperstatus)\n",
      "  File \"/Users/muzikin/anaconda/envs/tensorforce/lib/python3.6/site-packages/backtrader/strategy.py\", line 361, in _next_analyzers\n",
      "    analyzer._next()\n",
      "  File \"/Users/muzikin/anaconda/envs/tensorforce/lib/python3.6/site-packages/backtrader/analyzer.py\", line 188, in _next\n",
      "    self.next()\n",
      "  File \"/Users/muzikin/Yandex.Disk.localized/work/btgym/btgym/server.py\", line 157, in next\n",
      "    self.early_stop()\n",
      "  File \"/Users/muzikin/Yandex.Disk.localized/work/btgym/btgym/server.py\", line 81, in early_stop\n",
      "    self.render.render(self.render_at_stop, step_to_render=self.step_to_render, send_img=False)\n",
      "  File \"/Users/muzikin/Yandex.Disk.localized/work/btgym/btgym/rendering/renderer.py\", line 236, in render\n",
      "    xlabel=self.render_xlabel,\n",
      "  File \"/Users/muzikin/Yandex.Disk.localized/work/btgym/btgym/rendering/renderer.py\", line 353, in draw_image\n",
      "    self.plt.tight_layout()\n",
      "  File \"/Users/muzikin/anaconda/envs/tensorforce/lib/python3.6/site-packages/matplotlib/pyplot.py\", line 1406, in tight_layout\n",
      "    fig.tight_layout(pad=pad, h_pad=h_pad, w_pad=w_pad, rect=rect)\n",
      "  File \"/Users/muzikin/anaconda/envs/tensorforce/lib/python3.6/site-packages/matplotlib/figure.py\", line 1753, in tight_layout\n",
      "    rect=rect)\n",
      "  File \"/Users/muzikin/anaconda/envs/tensorforce/lib/python3.6/site-packages/matplotlib/tight_layout.py\", line 353, in get_tight_layout_figure\n",
      "    pad=pad, h_pad=h_pad, w_pad=w_pad)\n",
      "  File \"/Users/muzikin/anaconda/envs/tensorforce/lib/python3.6/site-packages/matplotlib/tight_layout.py\", line 129, in auto_adjust_subplotpars\n",
      "    tight_bbox_raw = union([ax.get_tightbbox(renderer) for ax in subplots\n",
      "  File \"/Users/muzikin/anaconda/envs/tensorforce/lib/python3.6/site-packages/matplotlib/tight_layout.py\", line 130, in <listcomp>\n",
      "    if ax.get_visible()])\n",
      "  File \"/Users/muzikin/anaconda/envs/tensorforce/lib/python3.6/site-packages/matplotlib/axes/_base.py\", line 3827, in get_tightbbox\n",
      "    bb_yaxis = self.yaxis.get_tightbbox(renderer)\n",
      "  File \"/Users/muzikin/anaconda/envs/tensorforce/lib/python3.6/site-packages/matplotlib/axis.py\", line 1093, in get_tightbbox\n",
      "    ticks_to_draw = self._update_ticks(renderer)\n",
      "  File \"/Users/muzikin/anaconda/envs/tensorforce/lib/python3.6/site-packages/matplotlib/axis.py\", line 969, in _update_ticks\n",
      "    tick_tups = [t for t in self.iter_ticks()]\n",
      "  File \"/Users/muzikin/anaconda/envs/tensorforce/lib/python3.6/site-packages/matplotlib/axis.py\", line 969, in <listcomp>\n",
      "    tick_tups = [t for t in self.iter_ticks()]\n",
      "  File \"/Users/muzikin/anaconda/envs/tensorforce/lib/python3.6/site-packages/matplotlib/axis.py\", line 913, in iter_ticks\n",
      "    majorTicks = self.get_major_ticks(len(majorLocs))\n"
     ]
    },
    {
     "name": "stderr",
     "output_type": "stream",
     "text": [
      "  File \"/Users/muzikin/anaconda/envs/tensorforce/lib/python3.6/site-packages/matplotlib/axis.py\", line 1324, in get_major_ticks\n",
      "    tick = self._get_tick(major=True)\n",
      "  File \"/Users/muzikin/anaconda/envs/tensorforce/lib/python3.6/site-packages/matplotlib/axis.py\", line 2060, in _get_tick\n",
      "    return YTick(self.axes, 0, '', major=major, **tick_kw)\n",
      "  File \"/Users/muzikin/anaconda/envs/tensorforce/lib/python3.6/site-packages/matplotlib/axis.py\", line 150, in __init__\n",
      "    self.tick1line = self._get_tick1line()\n",
      "  File \"/Users/muzikin/anaconda/envs/tensorforce/lib/python3.6/site-packages/matplotlib/axis.py\", line 556, in _get_tick1line\n",
      "    zorder=self._zorder)\n",
      "  File \"/Users/muzikin/anaconda/envs/tensorforce/lib/python3.6/site-packages/matplotlib/lines.py\", line 404, in __init__\n",
      "    self._marker = MarkerStyle()\n",
      "  File \"/Users/muzikin/anaconda/envs/tensorforce/lib/python3.6/site-packages/matplotlib/markers.py\", line 186, in __init__\n",
      "    self.set_marker(marker)\n",
      "  File \"/Users/muzikin/anaconda/envs/tensorforce/lib/python3.6/site-packages/matplotlib/markers.py\", line 272, in set_marker\n",
      "    self._recache()\n",
      "  File \"/Users/muzikin/anaconda/envs/tensorforce/lib/python3.6/site-packages/matplotlib/markers.py\", line 201, in _recache\n",
      "    self._transform = IdentityTransform()\n",
      "  File \"/Users/muzikin/anaconda/envs/tensorforce/lib/python3.6/site-packages/matplotlib/transforms.py\", line 1663, in __init__\n",
      "    Transform.__init__(self, *args, **kwargs)\n",
      "  File \"/Users/muzikin/anaconda/envs/tensorforce/lib/python3.6/site-packages/matplotlib/transforms.py\", line 99, in __init__\n",
      "    self._parents = WeakValueDictionary()\n",
      "  File \"/Users/muzikin/anaconda/envs/tensorforce/lib/python3.6/weakref.py\", line 101, in __init__\n",
      "    def __init__(*args, **kw):\n",
      "KeyboardInterrupt\n"
     ]
    }
   ],
   "source": [
    "launcher.run()"
   ]
  },
  {
   "cell_type": "code",
   "execution_count": null,
   "metadata": {
    "collapsed": true,
    "scrolled": false
   },
   "outputs": [],
   "source": [
    "print(launcher.kwargs, '\\n\\n')\n",
    "print(launcher.env_config)\n",
    "print(launcher.cluster_config)\n",
    "print(launcher.cluster_spec)\n",
    "for config in launcher.workers_config_list:\n",
    "    print('============')\n",
    "    for k, v in config.items():\n",
    "        print('{}:\\n{}\\n'.format(k, v))\n",
    "    "
   ]
  },
  {
   "cell_type": "code",
   "execution_count": null,
   "metadata": {
    "collapsed": true
   },
   "outputs": [],
   "source": [
    "def func1(max_step):\n",
    "    step = 0\n",
    "    done = False\n",
    "    \n",
    "    def func2(max_step):\n",
    "        nonlocal step\n",
    "        nonlocal done\n",
    "        step +=1\n",
    "        if step == max_step:\n",
    "            step = 0\n",
    "            done = True\n",
    "        return step\n",
    "    \n",
    "    for i in range(20):\n",
    "        done = False\n",
    "        print(func2(max_step), step, done)\n",
    "        \n",
    "\n",
    "\n",
    "func1(7)\n",
    "            "
   ]
  },
  {
   "cell_type": "code",
   "execution_count": null,
   "metadata": {
    "collapsed": true
   },
   "outputs": [],
   "source": [
    "a = dict()\n",
    "a.update({'b': 2, 'c':4})\n",
    "type(a) == dict"
   ]
  },
  {
   "cell_type": "code",
   "execution_count": null,
   "metadata": {
    "collapsed": true
   },
   "outputs": [],
   "source": []
  }
 ],
 "metadata": {
  "kernelspec": {
   "display_name": "Python 3",
   "language": "python",
   "name": "python3"
  },
  "language_info": {
   "codemirror_mode": {
    "name": "ipython",
    "version": 3
   },
   "file_extension": ".py",
   "mimetype": "text/x-python",
   "name": "python",
   "nbconvert_exporter": "python",
   "pygments_lexer": "ipython3",
   "version": "3.6.0"
  }
 },
 "nbformat": 4,
 "nbformat_minor": 2
}
