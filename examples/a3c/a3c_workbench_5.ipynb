{
 "cells": [
  {
   "cell_type": "code",
   "execution_count": 1,
   "metadata": {
    "collapsed": true
   },
   "outputs": [],
   "source": [
    "#%load_ext autoreload\n",
    "#%autoreload 2\n",
    "\n",
    "#import sys\n",
    "#sys.path.insert(0,'..')\n",
    "\n",
    "import os\n",
    "\n",
    "import backtrader as bt\n",
    "import backtrader.indicators as btind\n",
    "import numpy as np\n",
    "import scipy.signal as signal\n",
    "from scipy import stats\n",
    "\n",
    "from gym import spaces\n",
    "\n",
    "from btgym import BTgymEnv, BTgymStrategy, BTgymDataset\n",
    "\n",
    "from launcher import Launcher\n",
    "from model import LSTMPolicy\n",
    "\n",
    "import tensorflow as tf\n",
    "import tensorflow.contrib.rnn as rnn"
   ]
  },
  {
   "cell_type": "code",
   "execution_count": null,
   "metadata": {},
   "outputs": [],
   "source": [
    "# GYM TEST ENV:\n",
    "cluster_config = dict(\n",
    "    host='127.0.0.1',\n",
    "    port=12222,\n",
    "    num_workers=8,\n",
    "    num_ps=1,\n",
    "    log_dir='./tmp/a3c_testing_gym',\n",
    ")\n",
    "\n",
    "env_config = dict(\n",
    "    gym_id='Breakout-v0'\n",
    ")\n",
    "\n",
    "class LSTM_new(LSTMPolicy):\n",
    "    pass\n",
    "\n",
    "launcher = Launcher(\n",
    "    cluster_config=cluster_config,\n",
    "    env_config=env_config,\n",
    "    model_class=LSTM_new,\n",
    "    train_steps=500000000,\n",
    "    opt_learn_rate=1e-4,\n",
    "    rollout_length=20,\n",
    "    test_mode=True,\n",
    "    model_summary_freq=50,\n",
    "    episode_summary_freq=2,\n",
    "    env_render_freq=10,\n",
    "    verbose=2\n",
    ")"
   ]
  },
  {
   "cell_type": "code",
   "execution_count": null,
   "metadata": {
    "scrolled": false
   },
   "outputs": [],
   "source": [
    "launcher.run()\n"
   ]
  },
  {
   "cell_type": "code",
   "execution_count": 2,
   "metadata": {
    "collapsed": true
   },
   "outputs": [],
   "source": [
    "class SimpleLSTM(LSTMPolicy):\n",
    "    def __init__(self, ob_space, ac_space):\n",
    "        \n",
    "        print('LSTM init started')\n",
    "\n",
    "        self.diagnostic = dict()\n",
    "\n",
    "        self.x = x = tf.placeholder(tf.float32, [None] + list(ob_space))\n",
    "\n",
    "        self.diagnostic['input_shape'] = self.x.shape\n",
    "        \n",
    "        print('self.diagnostic0:', self.diagnostic)\n",
    "\n",
    "        # introduce a \"fake\" batch dimension of 1 after flatten so that we can do LSTM over time dim\n",
    "        x = tf.expand_dims(self.flatten(x), [0])\n",
    "\n",
    "        self.diagnostic['flatten_shape'] = x.shape\n",
    "        \n",
    "        print('self.diagnostic1:', self.diagnostic)\n",
    "\n",
    "        size = 256\n",
    "\n",
    "        lstm = rnn.BasicLSTMCell(size, state_is_tuple=True)\n",
    "\n",
    "        self.state_size = lstm.state_size\n",
    "        step_size = tf.shape(self.x)[:1]\n",
    "\n",
    "        self.diagnostic['step_size'] = step_size\n",
    "        \n",
    "        print('self.diagnostic2:', self.diagnostic)\n",
    "\n",
    "        c_init = np.zeros((1, lstm.state_size.c), np.float32)\n",
    "        h_init = np.zeros((1, lstm.state_size.h), np.float32)\n",
    "        self.state_init = [c_init, h_init]\n",
    "        c_in = tf.placeholder(tf.float32, [1, lstm.state_size.c])\n",
    "        h_in = tf.placeholder(tf.float32, [1, lstm.state_size.h])\n",
    "        self.state_in = [c_in, h_in]\n",
    "\n",
    "        state_in = rnn.LSTMStateTuple(c_in, h_in)\n",
    "\n",
    "        lstm_outputs, lstm_state = tf.nn.dynamic_rnn(\n",
    "            lstm, x, initial_state=state_in, sequence_length=step_size,\n",
    "            time_major=False)\n",
    "\n",
    "        lstm_c, lstm_h = lstm_state\n",
    "        x = tf.reshape(lstm_outputs, [-1, size])\n",
    "        self.logits = self.linear(x, ac_space, \"action\", self.normalized_columns_initializer(0.01))\n",
    "        self.vf = tf.reshape(self.linear(x, 1, \"value\", self.normalized_columns_initializer(1.0)), [-1])\n",
    "        self.state_out = [lstm_c[:1, :], lstm_h[:1, :]]\n",
    "        self.sample = self.categorical_sample(self.logits, ac_space)[0, :]\n",
    "        self.var_list = tf.get_collection(tf.GraphKeys.TRAINABLE_VARIABLES, tf.get_variable_scope().name)"
   ]
  },
  {
   "cell_type": "code",
   "execution_count": 3,
   "metadata": {},
   "outputs": [
    {
     "name": "stderr",
     "output_type": "stream",
     "text": [
      "[2017-08-25 13:32:43,646] Launcher ready.\n"
     ]
    }
   ],
   "source": [
    "class MyStrategy(BTgymStrategy):\n",
    "    \"\"\"\n",
    "    Example subclass of BT server inner computation startegy.\n",
    "    \"\"\"\n",
    "    \n",
    "    def __init__(self, **kwargs):\n",
    "        super(MyStrategy,self).__init__(**kwargs)\n",
    "        \n",
    "        self.current_value_embeded = np.ones(self.p.state_shape['raw_state'].shape[0]) * \\\n",
    "            self.p.target_call / (self.p.target_call + self.p.drawdown_call )\n",
    "            \n",
    "        self.data.sma4 = btind.SimpleMovingAverage(self.datas[0], period=4)\n",
    "        self.data.sma8 = btind.SimpleMovingAverage(self.datas[0], period=8)\n",
    "        self.data.sma16 = btind.SimpleMovingAverage(self.datas[0], period=16)\n",
    "        self.data.sma32 = btind.SimpleMovingAverage(self.datas[0], period=32)\n",
    "        self.data.sma64 = btind.SimpleMovingAverage(self.datas[0], period=64)\n",
    "        self.data.sma128 = btind.SimpleMovingAverage(self.datas[0], period=128)\n",
    "        self.data.sma256 = btind.SimpleMovingAverage(self.datas[0], period=256)\n",
    "        \n",
    "        self.sma4_embed = np.ones(self.p.state_shape['raw_state'].shape[0])\n",
    "        self.sma8_embed = np.ones(self.p.state_shape['raw_state'].shape[0])\n",
    "        self.sma16_embed = np.ones(self.p.state_shape['raw_state'].shape[0])\n",
    "        self.sma32_embed = np.ones(self.p.state_shape['raw_state'].shape[0])\n",
    "        self.sma64_embed = np.ones(self.p.state_shape['raw_state'].shape[0])\n",
    "        self.sma128_embed = np.ones(self.p.state_shape['raw_state'].shape[0])\n",
    "        self.sma256_embed = np.ones(self.p.state_shape['raw_state'].shape[0])\n",
    "        \n",
    "        self.order_penalty = 0.5\n",
    "        self.trade_just_closed = False\n",
    "        self.trade_result = None\n",
    "        \n",
    "    def notify_trade(self, trade):\n",
    "        #if trade.justopened:\n",
    "            #print('trade {} just opened'.format(trade.ref))\n",
    "            \n",
    "        if trade.isclosed:\n",
    "            #print('trade {} closed, pnl_comm: {}'.format(trade.ref, trade.pnlcomm))\n",
    "            # Set trade flag and result:\n",
    "            self.trade_just_closed = True\n",
    "            self.trade_result = trade.pnlcomm\n",
    "    \n",
    "    def sigmoid(self, x):\n",
    "        return 1/(1 + np.exp(-x))\n",
    "        \n",
    "    def __get_state(self):\n",
    "        \"\"\"\n",
    "        Computes featurized RL-ready environment observation state\n",
    "        by applying continious wavelet transform to time-embedded vector\n",
    "        of close-price gradients.\n",
    "        \"\"\"\n",
    "        # Use close price:\n",
    "        channel = 3\n",
    "        \n",
    "        X = self.raw_state[:, channel]\n",
    "        \n",
    "        # Prepare parameters:\n",
    "        Tau = 5\n",
    "        max_cwt_scale = self.p.state_shape['model_input'].shape[1]\n",
    "        cwt_width = np.linspace(Tau, max_cwt_scale + Tau - 1, max_cwt_scale) # scale of wavelet transdorm [n]\n",
    "    \n",
    "        T = 1# 000\n",
    "        \n",
    "        # Get vector of gradients of last [n] prices:\n",
    "        X = np.gradient(X, axis=0) * T\n",
    "        \n",
    "        # Compute continious wavelet transform using Ricker wavelet, get [n,m,1]-dim. matrix:\n",
    "        X = signal.cwt(X, signal.ricker, cwt_width).T[:, :, None]\n",
    "        \n",
    "        # Z-score:\n",
    "        X = stats.zscore(X)\n",
    "        \n",
    "        # Local min-max norm:\n",
    "        self.state['model_input'] = (X - X.min()) / (X.max() - X.min())\n",
    "        \n",
    "        # Squash values in [0,1]:\n",
    "        #self.state['model_input'] = self.sigmoid(self.state['model_input'])\n",
    "        \n",
    "        return self.state\n",
    "    \n",
    "    def get_state(self):\n",
    "        \"\"\"___\"\"\"\n",
    "        \n",
    "        t = 1e-2\n",
    "        X = np.row_stack(\n",
    "            (\n",
    "                self.current_value_embeded * t,\n",
    "                self.sma4_embed,\n",
    "                self.sma8_embed,\n",
    "                self.sma16_embed,\n",
    "                self.sma32_embed,\n",
    "                self.sma64_embed,\n",
    "                self.sma128_embed,\n",
    "                self.sma256_embed,\n",
    "            )\n",
    "        ).T\n",
    "        \n",
    "        self.state['model_input']  = self.sigmoid(np.gradient(X, axis=0) * 2.2e4)\n",
    "        \n",
    "        return self.state\n",
    "\n",
    "    \n",
    "    def get_reward(self):\n",
    "        \"\"\"\n",
    "        Defines reward as [0,1]-bounded function of last closed trade result.\n",
    "        \"\"\"\n",
    "        r = 0\n",
    "        \n",
    "        # Result\n",
    "        if self.trade_just_closed:\n",
    "            r = self.trade_result\n",
    "            self.trade_just_closed = False\n",
    "            \n",
    "        # Penalty for failed order:\n",
    "        if self.order_failed:\n",
    "            #print('Failed order!')\n",
    "            r -= self.order_penalty\n",
    "            self.order_failed = False\n",
    "            \n",
    "        #print('reward_', r)\n",
    "        \n",
    "        return r / 20\n",
    "    \n",
    "    def next(self):\n",
    "        \"\"\"\n",
    "        Extension of default implementation.\n",
    "        Defines one step environment routine for server 'Episode mode';\n",
    "        At least, it should handle order execution logic according to action received.\n",
    "        \"\"\"\n",
    "        # Normalized time-embedded vector of broker values:\n",
    "        self.current_value_embeded = np.roll(self.current_value_embeded, -1)\n",
    "        self.sma4_embed = np.roll(self.sma4_embed, -1)\n",
    "        self.sma8_embed =  np.roll(self.sma8_embed, -1)\n",
    "        self.sma16_embed =  np.roll(self.sma16_embed, -1)\n",
    "        self.sma32_embed =  np.roll(self.sma32_embed, -1)\n",
    "        self.sma64_embed =  np.roll(self.sma64_embed, -1)\n",
    "        self.sma128_embed =  np.roll(self.sma128_embed, -1)\n",
    "        self.sma256_embed =  np.roll(self.sma256_embed, -1)\n",
    "        \n",
    "        self.current_value_embeded[-1] =\\\n",
    "            (self.broker.get_value() / self.env.broker.startingcash - 1 + self.p.drawdown_call / 100) / \\\n",
    "            (self.p.target_call + self.p.drawdown_call) * 100\n",
    "            \n",
    "        self.sma4_embed[-1] = self.data.sma4[0]\n",
    "        self.sma8_embed[-1] = self.data.sma8[0]\n",
    "        self.sma16_embed[-1] = self.data.sma16[0]\n",
    "        self.sma32_embed[-1] = self.data.sma32[0]\n",
    "        self.sma64_embed[-1] = self.data.sma64[0]\n",
    "        self.sma128_embed[-1] = self.data.sma128[0]\n",
    "        self.sma256_embed[-1] = self.data.sma256[0]\n",
    "        \n",
    "        # Simple action-to-order logic:\n",
    "        if self.action == 'hold' or self.order:\n",
    "            pass\n",
    "        elif self.action == 'buy':\n",
    "            self.order = self.buy()\n",
    "            self.broker_message = 'New BUY created; ' + self.broker_message\n",
    "        elif self.action == 'sell':\n",
    "            self.order = self.sell()\n",
    "            self.broker_message = 'New SELL created; ' + self.broker_message\n",
    "        elif self.action == 'close':\n",
    "            self.order = self.close()\n",
    "            self.broker_message = 'New CLOSE created; ' + self.broker_message\n",
    "            \n",
    "# Set backtesting engine parameters:\n",
    "\n",
    "state_shape = {\n",
    "    'raw_state': spaces.Box(low=-1, high=1, shape=(30, 4)),\n",
    "    'model_input': spaces.Box(low=0, high=1, shape=(30, 8))\n",
    "}\n",
    "\n",
    "MyCerebro = bt.Cerebro()\n",
    "\n",
    "MyCerebro.addstrategy(\n",
    "    MyStrategy,\n",
    "    state_shape=state_shape,\n",
    "    portfolio_actions=('hold', 'buy', 'sell'),\n",
    "    drawdown_call=5, # in percent of initial cash\n",
    "    target_call=20,\n",
    "    skip_frame=10,\n",
    ")\n",
    "\n",
    "# Set leveraged account:\n",
    "MyCerebro.broker.setcash(2000)\n",
    "MyCerebro.broker.setcommission(commission=0.0001, leverage=10.0)\n",
    "MyCerebro.broker.set_shortcash(False)\n",
    "MyCerebro.addsizer(bt.sizers.SizerFix, stake=10000,)\n",
    "\n",
    "\n",
    "MyCerebro.addanalyzer(bt.analyzers.DrawDown)\n",
    "\n",
    "# Provide data (seven years of 1 minute bars):\n",
    "filenames = [\n",
    "    '../data/DAT_ASCII_EURUSD_M1_2010.csv',\n",
    "    '../data/DAT_ASCII_EURUSD_M1_2011.csv',\n",
    "    '../data/DAT_ASCII_EURUSD_M1_2012.csv',\n",
    "    '../data/DAT_ASCII_EURUSD_M1_2013.csv',\n",
    "    '../data/DAT_ASCII_EURUSD_M1_2014.csv',\n",
    "    '../data/DAT_ASCII_EURUSD_M1_2015.csv',\n",
    "    '../data/DAT_ASCII_EURUSD_M1_2016.csv',\n",
    "]\n",
    "\n",
    "MyDataset = BTgymDataset(\n",
    "    #filename=filenames,\n",
    "    filename='../data/test_sine_1min_period256_delta0002.csv',\n",
    "    start_weekdays=[0, 1, 2, 3, 4],\n",
    "    episode_len_days=0,\n",
    "    episode_len_hours=23,\n",
    "    episode_len_minutes=0,\n",
    "    start_00=False,\n",
    "    time_gap_hours=6,\n",
    ")\n",
    "env_config = dict(\n",
    "    dataset=MyDataset,\n",
    "    engine=MyCerebro,\n",
    "    render_modes=['episode', 'human', 'model_input'],\n",
    "    render_state_as_image=False,\n",
    "    render_ylabel='AVG,VAL Gradients',\n",
    "    render_size_episode=(12,8),\n",
    "    render_size_human=(8, 3.5),\n",
    "    render_size_state=(10, 5),\n",
    "    render_dpi=75,\n",
    "    port=5000,\n",
    "    data_port=4999,\n",
    "    connect_timeout=60,\n",
    "    verbose=0,\n",
    ")\n",
    "cluster_config = dict(\n",
    "    host='127.0.0.1',\n",
    "    port=12222,\n",
    "    num_workers=8,\n",
    "    num_ps=1,\n",
    "    log_dir='./tmp/a3c_testing',\n",
    ")\n",
    "launcher = Launcher(\n",
    "    cluster_config=cluster_config,\n",
    "    env_class=BTgymEnv,\n",
    "    env_config=env_config,\n",
    "    model_class=SimpleLSTM,\n",
    "    rollout_length=20,\n",
    "    test_mode=False,\n",
    "    train_steps=1000000000,\n",
    "    model_summary_freq=20,\n",
    "    episode_summary_freq=1,\n",
    "    env_render_freq=20,\n",
    "    verbose=2\n",
    "    \n",
    ")"
   ]
  },
  {
   "cell_type": "code",
   "execution_count": 4,
   "metadata": {
    "scrolled": false
   },
   "outputs": [
    {
     "name": "stderr",
     "output_type": "stream",
     "text": [
      "[2017-08-25 13:32:47,192] worker_0 tf.server started.\n",
      "[2017-08-25 13:32:47,184] parameters_server started.\n",
      "[2017-08-25 13:32:47,244] making environment.\n",
      "[2017-08-25 13:32:47,247] worker_0 is data_master: True\n",
      "[2017-08-25 13:32:49,429] worker_0:envronment ok.\n",
      "[2017-08-25 13:32:49,432] A3C_0: init() started\n"
     ]
    },
    {
     "name": "stdout",
     "output_type": "stream",
     "text": [
      "LSTM init started\n",
      "self.diagnostic0: {'input_shape': TensorShape([Dimension(None), Dimension(30), Dimension(8)])}\n",
      "self.diagnostic1: {'input_shape': TensorShape([Dimension(None), Dimension(30), Dimension(8)]), 'flatten_shape': TensorShape([Dimension(1), Dimension(None), Dimension(240)])}\n",
      "self.diagnostic2: {'input_shape': TensorShape([Dimension(None), Dimension(30), Dimension(8)]), 'flatten_shape': TensorShape([Dimension(1), Dimension(None), Dimension(240)]), 'step_size': <tf.Tensor 'global/strided_slice:0' shape=(1,) dtype=int32>}\n",
      "LSTM init started\n",
      "self.diagnostic0: {'input_shape': TensorShape([Dimension(None), Dimension(30), Dimension(8)])}\n",
      "self.diagnostic1: {'input_shape': TensorShape([Dimension(None), Dimension(30), Dimension(8)]), 'flatten_shape': TensorShape([Dimension(1), Dimension(None), Dimension(240)])}\n",
      "self.diagnostic2: {'input_shape': TensorShape([Dimension(None), Dimension(30), Dimension(8)]), 'flatten_shape': TensorShape([Dimension(1), Dimension(None), Dimension(240)]), 'step_size': <tf.Tensor 'local/strided_slice:0' shape=(1,) dtype=int32>}\n"
     ]
    },
    {
     "name": "stderr",
     "output_type": "stream",
     "text": [
      "[2017-08-25 13:32:50,760] A3C_0: train op defined\n",
      "[2017-08-25 13:32:50,823] A3C_0: init() done\n",
      "[2017-08-25 13:32:50,825] worker_0:trainer ok.\n",
      "[2017-08-25 13:32:51,556] connecting to the parameter server... \n",
      "[2017-08-25 13:32:52,149] Initializing all parameters.\n",
      "[2017-08-25 13:32:52,218] worker_1 tf.server started.\n",
      "[2017-08-25 13:32:52,254] making environment.\n",
      "[2017-08-25 13:32:52,243] making environment.\n",
      "[2017-08-25 13:32:52,235] worker_2 tf.server started.\n",
      "[2017-08-25 13:32:52,250] worker_1 is data_master: False\n",
      "[2017-08-25 13:32:52,261] worker_2 is data_master: False\n",
      "[2017-08-25 13:32:52,280] worker_3 tf.server started.\n",
      "[2017-08-25 13:32:52,304] worker_4 tf.server started.\n",
      "[2017-08-25 13:32:52,303] making environment.\n",
      "[2017-08-25 13:32:52,311] worker_3 is data_master: False\n",
      "[2017-08-25 13:32:52,337] Press `Ctrl-C` to stop training and close launcher.\n",
      "[2017-08-25 13:32:52,319] making environment.\n",
      "[2017-08-25 13:32:52,348] worker_4 is data_master: False\n",
      "[2017-08-25 13:32:52,338] worker_5 tf.server started.\n",
      "[2017-08-25 13:32:52,360] making environment.\n",
      "[2017-08-25 13:32:52,374] worker_6 tf.server started.\n",
      "[2017-08-25 13:32:52,390] worker_5 is data_master: False\n",
      "[2017-08-25 13:32:52,416] making environment.\n",
      "[2017-08-25 13:32:52,399] worker_7 tf.server started.\n",
      "[2017-08-25 13:32:52,419] worker_6 is data_master: False\n",
      "[2017-08-25 13:32:52,420] making environment.\n",
      "[2017-08-25 13:32:52,431] worker_7 is data_master: False\n"
     ]
    },
    {
     "name": "stdout",
     "output_type": "stream",
     "text": [
      "Press `Ctrl-C` to stop training and close launcher.\n"
     ]
    },
    {
     "name": "stderr",
     "output_type": "stream",
     "text": [
      "[2017-08-25 13:32:53,511] worker_2:envronment ok.\n",
      "[2017-08-25 13:32:53,514] A3C_2: init() started\n"
     ]
    },
    {
     "name": "stdout",
     "output_type": "stream",
     "text": [
      "LSTM init started\n"
     ]
    },
    {
     "name": "stderr",
     "output_type": "stream",
     "text": [
      "[2017-08-25 13:32:53,516] worker_1:envronment ok.\n",
      "[2017-08-25 13:32:53,519] A3C_1: init() started\n"
     ]
    },
    {
     "name": "stdout",
     "output_type": "stream",
     "text": [
      "LSTM init started\n",
      "self.diagnostic0: {'input_shape': TensorShape([Dimension(None), Dimension(30), Dimension(8)])}\n",
      "self.diagnostic0: {'input_shape': TensorShape([Dimension(None), Dimension(30), Dimension(8)])}\n",
      "self.diagnostic1: {'input_shape': TensorShape([Dimension(None), Dimension(30), Dimension(8)]), 'flatten_shape': TensorShape([Dimension(1), Dimension(None), Dimension(240)])}\n"
     ]
    },
    {
     "name": "stderr",
     "output_type": "stream",
     "text": [
      "[2017-08-25 13:32:53,543] worker_3:envronment ok.\n",
      "[2017-08-25 13:32:53,550] A3C_3: init() started\n"
     ]
    },
    {
     "name": "stdout",
     "output_type": "stream",
     "text": [
      "self.diagnostic1: {'input_shape': TensorShape([Dimension(None), Dimension(30), Dimension(8)]), 'flatten_shape': TensorShape([Dimension(1), Dimension(None), Dimension(240)])}\n",
      "LSTM init started\n",
      "self.diagnostic2: {'input_shape': TensorShape([Dimension(None), Dimension(30), Dimension(8)]), 'flatten_shape': TensorShape([Dimension(1), Dimension(None), Dimension(240)]), 'step_size': <tf.Tensor 'global/strided_slice:0' shape=(1,) dtype=int32>}\n",
      "self.diagnostic0: {'input_shape': TensorShape([Dimension(None), Dimension(30), Dimension(8)])}\n",
      "self.diagnostic2: {'input_shape': TensorShape([Dimension(None), Dimension(30), Dimension(8)]), 'flatten_shape': TensorShape([Dimension(1), Dimension(None), Dimension(240)]), 'step_size': <tf.Tensor 'global/strided_slice:0' shape=(1,) dtype=int32>}\n",
      "self.diagnostic1: {'input_shape': TensorShape([Dimension(None), Dimension(30), Dimension(8)]), 'flatten_shape': TensorShape([Dimension(1), Dimension(None), Dimension(240)])}\n",
      "self.diagnostic2: {'input_shape': TensorShape([Dimension(None), Dimension(30), Dimension(8)]), 'flatten_shape': TensorShape([Dimension(1), Dimension(None), Dimension(240)]), 'step_size': <tf.Tensor 'global/strided_slice:0' shape=(1,) dtype=int32>}\n"
     ]
    },
    {
     "name": "stderr",
     "output_type": "stream",
     "text": [
      "[2017-08-25 13:32:53,721] worker_7:envronment ok.\n",
      "[2017-08-25 13:32:53,725] A3C_7: init() started\n"
     ]
    },
    {
     "name": "stdout",
     "output_type": "stream",
     "text": [
      "LSTM init started\n",
      "self.diagnostic0: {'input_shape': TensorShape([Dimension(None), Dimension(30), Dimension(8)])}\n",
      "self.diagnostic1: {'input_shape': TensorShape([Dimension(None), Dimension(30), Dimension(8)]), 'flatten_shape': TensorShape([Dimension(1), Dimension(None), Dimension(240)])}\n"
     ]
    },
    {
     "name": "stderr",
     "output_type": "stream",
     "text": [
      "[2017-08-25 13:32:53,758] worker_4:envronment ok.\n",
      "[2017-08-25 13:32:53,763] A3C_4: init() started\n"
     ]
    },
    {
     "name": "stdout",
     "output_type": "stream",
     "text": [
      "LSTM init started\n",
      "self.diagnostic0: {'input_shape': TensorShape([Dimension(None), Dimension(30), Dimension(8)])}\n",
      "self.diagnostic2: {'input_shape': TensorShape([Dimension(None), Dimension(30), Dimension(8)]), 'flatten_shape': TensorShape([Dimension(1), Dimension(None), Dimension(240)]), 'step_size': <tf.Tensor 'global/strided_slice:0' shape=(1,) dtype=int32>}\n"
     ]
    },
    {
     "name": "stderr",
     "output_type": "stream",
     "text": [
      "[2017-08-25 13:32:53,775] worker_5:envronment ok.\n"
     ]
    },
    {
     "name": "stdout",
     "output_type": "stream",
     "text": [
      "self.diagnostic1: {'input_shape': TensorShape([Dimension(None), Dimension(30), Dimension(8)]), 'flatten_shape': TensorShape([Dimension(1), Dimension(None), Dimension(240)])}\n"
     ]
    },
    {
     "name": "stderr",
     "output_type": "stream",
     "text": [
      "[2017-08-25 13:32:53,800] A3C_5: init() started\n",
      "[2017-08-25 13:32:53,794] worker_6:envronment ok.\n",
      "[2017-08-25 13:32:53,814] A3C_6: init() started\n"
     ]
    },
    {
     "name": "stdout",
     "output_type": "stream",
     "text": [
      "LSTM init started\n",
      "self.diagnostic2: {'input_shape': TensorShape([Dimension(None), Dimension(30), Dimension(8)]), 'flatten_shape': TensorShape([Dimension(1), Dimension(None), Dimension(240)]), 'step_size': <tf.Tensor 'global/strided_slice:0' shape=(1,) dtype=int32>}\n",
      "LSTM init started\n",
      "self.diagnostic0: {'input_shape': TensorShape([Dimension(None), Dimension(30), Dimension(8)])}\n",
      "self.diagnostic0: {'input_shape': TensorShape([Dimension(None), Dimension(30), Dimension(8)])}\n",
      "self.diagnostic1: {'input_shape': TensorShape([Dimension(None), Dimension(30), Dimension(8)]), 'flatten_shape': TensorShape([Dimension(1), Dimension(None), Dimension(240)])}\n",
      "self.diagnostic1: {'input_shape': TensorShape([Dimension(None), Dimension(30), Dimension(8)]), 'flatten_shape': TensorShape([Dimension(1), Dimension(None), Dimension(240)])}\n",
      "self.diagnostic2: {'input_shape': TensorShape([Dimension(None), Dimension(30), Dimension(8)]), 'flatten_shape': TensorShape([Dimension(1), Dimension(None), Dimension(240)]), 'step_size': <tf.Tensor 'global/strided_slice:0' shape=(1,) dtype=int32>}\n",
      "self.diagnostic2: {'input_shape': TensorShape([Dimension(None), Dimension(30), Dimension(8)]), 'flatten_shape': TensorShape([Dimension(1), Dimension(None), Dimension(240)]), 'step_size': <tf.Tensor 'global/strided_slice:0' shape=(1,) dtype=int32>}\n",
      "LSTM init started\n",
      "LSTM init started\n",
      "self.diagnostic0: {'input_shape': TensorShape([Dimension(None), Dimension(30), Dimension(8)])}\n",
      "self.diagnostic0: {'input_shape': TensorShape([Dimension(None), Dimension(30), Dimension(8)])}\n",
      "self.diagnostic1: {'input_shape': TensorShape([Dimension(None), Dimension(30), Dimension(8)]), 'flatten_shape': TensorShape([Dimension(1), Dimension(None), Dimension(240)])}\n",
      "self.diagnostic1: {'input_shape': TensorShape([Dimension(None), Dimension(30), Dimension(8)]), 'flatten_shape': TensorShape([Dimension(1), Dimension(None), Dimension(240)])}\n",
      "self.diagnostic2: {'input_shape': TensorShape([Dimension(None), Dimension(30), Dimension(8)]), 'flatten_shape': TensorShape([Dimension(1), Dimension(None), Dimension(240)]), 'step_size': <tf.Tensor 'local/strided_slice:0' shape=(1,) dtype=int32>}\n",
      "self.diagnostic2: {'input_shape': TensorShape([Dimension(None), Dimension(30), Dimension(8)]), 'flatten_shape': TensorShape([Dimension(1), Dimension(None), Dimension(240)]), 'step_size': <tf.Tensor 'local/strided_slice:0' shape=(1,) dtype=int32>}\n",
      "LSTM init started\n",
      "self.diagnostic0: {'input_shape': TensorShape([Dimension(None), Dimension(30), Dimension(8)])}\n",
      "self.diagnostic1: {'input_shape': TensorShape([Dimension(None), Dimension(30), Dimension(8)]), 'flatten_shape': TensorShape([Dimension(1), Dimension(None), Dimension(240)])}\n",
      "self.diagnostic2: {'input_shape': TensorShape([Dimension(None), Dimension(30), Dimension(8)]), 'flatten_shape': TensorShape([Dimension(1), Dimension(None), Dimension(240)]), 'step_size': <tf.Tensor 'local/strided_slice:0' shape=(1,) dtype=int32>}\n",
      "LSTM init started\n",
      "self.diagnostic0: {'input_shape': TensorShape([Dimension(None), Dimension(30), Dimension(8)])}\n",
      "self.diagnostic1: {'input_shape': TensorShape([Dimension(None), Dimension(30), Dimension(8)]), 'flatten_shape': TensorShape([Dimension(1), Dimension(None), Dimension(240)])}\n",
      "LSTM init started\n",
      "self.diagnostic2: {'input_shape': TensorShape([Dimension(None), Dimension(30), Dimension(8)]), 'flatten_shape': TensorShape([Dimension(1), Dimension(None), Dimension(240)]), 'step_size': <tf.Tensor 'local/strided_slice:0' shape=(1,) dtype=int32>}\n",
      "self.diagnostic0: {'input_shape': TensorShape([Dimension(None), Dimension(30), Dimension(8)])}\n",
      "self.diagnostic1: {'input_shape': TensorShape([Dimension(None), Dimension(30), Dimension(8)]), 'flatten_shape': TensorShape([Dimension(1), Dimension(None), Dimension(240)])}\n",
      "LSTM init started\n",
      "LSTM init started\n",
      "self.diagnostic2: {'input_shape': TensorShape([Dimension(None), Dimension(30), Dimension(8)]), 'flatten_shape': TensorShape([Dimension(1), Dimension(None), Dimension(240)]), 'step_size': <tf.Tensor 'local/strided_slice:0' shape=(1,) dtype=int32>}\n",
      "self.diagnostic0: {'input_shape': TensorShape([Dimension(None), Dimension(30), Dimension(8)])}\n",
      "self.diagnostic0: {'input_shape': TensorShape([Dimension(None), Dimension(30), Dimension(8)])}\n",
      "self.diagnostic1: {'input_shape': TensorShape([Dimension(None), Dimension(30), Dimension(8)]), 'flatten_shape': TensorShape([Dimension(1), Dimension(None), Dimension(240)])}\n",
      "self.diagnostic1: {'input_shape': TensorShape([Dimension(None), Dimension(30), Dimension(8)]), 'flatten_shape': TensorShape([Dimension(1), Dimension(None), Dimension(240)])}\n",
      "self.diagnostic2: {'input_shape': TensorShape([Dimension(None), Dimension(30), Dimension(8)]), 'flatten_shape': TensorShape([Dimension(1), Dimension(None), Dimension(240)]), 'step_size': <tf.Tensor 'local/strided_slice:0' shape=(1,) dtype=int32>}\n",
      "self.diagnostic2: {'input_shape': TensorShape([Dimension(None), Dimension(30), Dimension(8)]), 'flatten_shape': TensorShape([Dimension(1), Dimension(None), Dimension(240)]), 'step_size': <tf.Tensor 'local/strided_slice:0' shape=(1,) dtype=int32>}\n",
      "INFO:tensorflow:Starting standard services.\n"
     ]
    },
    {
     "name": "stderr",
     "output_type": "stream",
     "text": [
      "[2017-08-25 13:32:55,625] Starting standard services.\n"
     ]
    },
    {
     "name": "stdout",
     "output_type": "stream",
     "text": [
      "INFO:tensorflow:Saving checkpoint to path ./tmp/a3c_testing/train/model.ckpt\n"
     ]
    },
    {
     "name": "stderr",
     "output_type": "stream",
     "text": [
      "[2017-08-25 13:32:55,704] Saving checkpoint to path ./tmp/a3c_testing/train/model.ckpt\n"
     ]
    },
    {
     "name": "stdout",
     "output_type": "stream",
     "text": [
      "INFO:tensorflow:Starting queue runners.\n",
      "INFO:tensorflow:global/global_step/sec: 0\n"
     ]
    },
    {
     "name": "stderr",
     "output_type": "stream",
     "text": [
      "[2017-08-25 13:32:55,708] Starting queue runners.\n",
      "[2017-08-25 13:32:55,710] global/global_step/sec: 0\n",
      "[2017-08-25 13:32:55,774] worker_0: starting training at step: 0\n",
      "[2017-08-25 13:32:56,863] A3C_3: train op defined\n",
      "[2017-08-25 13:32:56,947] A3C_1: train op defined\n",
      "[2017-08-25 13:32:57,062] A3C_3: init() done\n",
      "[2017-08-25 13:32:57,085] worker_3:trainer ok.\n",
      "[2017-08-25 13:32:57,088] A3C_2: train op defined\n",
      "[2017-08-25 13:32:57,106] A3C_1: init() done\n",
      "[2017-08-25 13:32:57,129] worker_1:trainer ok.\n",
      "[2017-08-25 13:32:57,171] A3C_5: train op defined\n",
      "[2017-08-25 13:32:57,246] A3C_2: init() done\n",
      "[2017-08-25 13:32:57,269] worker_2:trainer ok.\n",
      "[2017-08-25 13:32:57,318] A3C_7: train op defined\n",
      "[2017-08-25 13:32:57,318] A3C_4: train op defined\n",
      "[2017-08-25 13:32:57,349] A3C_5: init() done\n",
      "[2017-08-25 13:32:57,352] A3C_6: train op defined\n",
      "[2017-08-25 13:32:57,372] worker_5:trainer ok.\n",
      "[2017-08-25 13:32:57,519] A3C_6: init() done\n",
      "[2017-08-25 13:32:57,522] worker_6:trainer ok.\n",
      "[2017-08-25 13:32:57,503] A3C_7: init() done\n",
      "[2017-08-25 13:32:57,513] A3C_4: init() done\n",
      "[2017-08-25 13:32:57,528] worker_7:trainer ok.\n",
      "[2017-08-25 13:32:57,535] worker_4:trainer ok.\n",
      "[2017-08-25 13:32:58,728] connecting to the parameter server... \n",
      "[2017-08-25 13:32:58,757] connecting to the parameter server... \n",
      "[2017-08-25 13:32:59,013] connecting to the parameter server... \n",
      "[2017-08-25 13:32:58,972] connecting to the parameter server... \n",
      "[2017-08-25 13:32:59,044] connecting to the parameter server... \n",
      "[2017-08-25 13:32:58,993] connecting to the parameter server... \n",
      "[2017-08-25 13:32:59,006] connecting to the parameter server... \n"
     ]
    },
    {
     "name": "stdout",
     "output_type": "stream",
     "text": [
      "INFO:tensorflow:Starting queue runners.\n",
      "INFO:tensorflow:Starting queue runners.\n"
     ]
    },
    {
     "name": "stderr",
     "output_type": "stream",
     "text": [
      "[2017-08-25 13:33:00,359] Starting queue runners.\n",
      "[2017-08-25 13:33:00,398] Starting queue runners.\n"
     ]
    },
    {
     "name": "stdout",
     "output_type": "stream",
     "text": [
      "INFO:tensorflow:Starting queue runners.\n"
     ]
    },
    {
     "name": "stderr",
     "output_type": "stream",
     "text": [
      "[2017-08-25 13:33:00,451] Starting queue runners.\n"
     ]
    },
    {
     "name": "stdout",
     "output_type": "stream",
     "text": [
      "INFO:tensorflow:Starting queue runners.\n"
     ]
    },
    {
     "name": "stderr",
     "output_type": "stream",
     "text": [
      "[2017-08-25 13:33:00,462] worker_3: starting training at step: 100\n",
      "[2017-08-25 13:33:00,482] worker_1: starting training at step: 100\n",
      "[2017-08-25 13:33:00,453] Starting queue runners.\n"
     ]
    },
    {
     "name": "stdout",
     "output_type": "stream",
     "text": [
      "INFO:tensorflow:Starting queue runners.\n"
     ]
    },
    {
     "name": "stderr",
     "output_type": "stream",
     "text": [
      "[2017-08-25 13:33:00,509] worker_5: starting training at step: 100\n",
      "[2017-08-25 13:33:00,503] Starting queue runners.\n",
      "[2017-08-25 13:33:00,572] worker_4: starting training at step: 100\n",
      "[2017-08-25 13:33:00,628] worker_7: starting training at step: 100\n"
     ]
    },
    {
     "name": "stdout",
     "output_type": "stream",
     "text": [
      "INFO:tensorflow:Starting queue runners.\n",
      "INFO:tensorflow:Starting queue runners.\n"
     ]
    },
    {
     "name": "stderr",
     "output_type": "stream",
     "text": [
      "[2017-08-25 13:33:00,675] Starting queue runners.\n",
      "[2017-08-25 13:33:00,651] Starting queue runners.\n",
      "[2017-08-25 13:33:00,826] worker_6: starting training at step: 100\n",
      "[2017-08-25 13:33:00,824] worker_2: starting training at step: 100\n"
     ]
    },
    {
     "name": "stdout",
     "output_type": "stream",
     "text": [
      "INFO:tensorflow:global/global_step/sec: 183.771\n"
     ]
    },
    {
     "name": "stderr",
     "output_type": "stream",
     "text": [
      "[2017-08-25 13:34:55,719] global/global_step/sec: 183.771\n"
     ]
    },
    {
     "name": "stdout",
     "output_type": "stream",
     "text": [
      "INFO:tensorflow:global/global_step/sec: 240.492\n"
     ]
    },
    {
     "name": "stderr",
     "output_type": "stream",
     "text": [
      "[2017-08-25 13:36:55,710] global/global_step/sec: 240.492\n"
     ]
    },
    {
     "name": "stdout",
     "output_type": "stream",
     "text": [
      "INFO:tensorflow:Saving checkpoint to path ./tmp/a3c_testing/train/model.ckpt\n"
     ]
    },
    {
     "name": "stderr",
     "output_type": "stream",
     "text": [
      "[2017-08-25 13:37:55,766] Saving checkpoint to path ./tmp/a3c_testing/train/model.ckpt\n"
     ]
    },
    {
     "name": "stdout",
     "output_type": "stream",
     "text": [
      "INFO:tensorflow:global/global_step/sec: 247.067\n"
     ]
    },
    {
     "name": "stderr",
     "output_type": "stream",
     "text": [
      "[2017-08-25 13:38:55,710] global/global_step/sec: 247.067\n"
     ]
    },
    {
     "name": "stdout",
     "output_type": "stream",
     "text": [
      "INFO:tensorflow:global/global_step/sec: 260.655\n"
     ]
    },
    {
     "name": "stderr",
     "output_type": "stream",
     "text": [
      "[2017-08-25 13:40:55,715] global/global_step/sec: 260.655\n"
     ]
    },
    {
     "name": "stdout",
     "output_type": "stream",
     "text": [
      "INFO:tensorflow:Saving checkpoint to path ./tmp/a3c_testing/train/model.ckpt\n"
     ]
    },
    {
     "name": "stderr",
     "output_type": "stream",
     "text": [
      "[2017-08-25 13:42:55,692] Saving checkpoint to path ./tmp/a3c_testing/train/model.ckpt\n"
     ]
    },
    {
     "name": "stdout",
     "output_type": "stream",
     "text": [
      "INFO:tensorflow:global/global_step/sec: 242.447\n"
     ]
    },
    {
     "name": "stderr",
     "output_type": "stream",
     "text": [
      "[2017-08-25 13:42:55,743] global/global_step/sec: 242.447\n"
     ]
    },
    {
     "name": "stdout",
     "output_type": "stream",
     "text": [
      "INFO:tensorflow:global/global_step/sec: 250.09\n"
     ]
    },
    {
     "name": "stderr",
     "output_type": "stream",
     "text": [
      "[2017-08-25 13:44:55,714] global/global_step/sec: 250.09\n"
     ]
    },
    {
     "name": "stdout",
     "output_type": "stream",
     "text": [
      "INFO:tensorflow:global/global_step/sec: 261.585\n"
     ]
    },
    {
     "name": "stderr",
     "output_type": "stream",
     "text": [
      "[2017-08-25 13:46:55,706] global/global_step/sec: 261.585\n"
     ]
    },
    {
     "name": "stdout",
     "output_type": "stream",
     "text": [
      "INFO:tensorflow:Saving checkpoint to path ./tmp/a3c_testing/train/model.ckpt\n"
     ]
    },
    {
     "name": "stderr",
     "output_type": "stream",
     "text": [
      "[2017-08-25 13:47:55,691] Saving checkpoint to path ./tmp/a3c_testing/train/model.ckpt\n"
     ]
    },
    {
     "name": "stdout",
     "output_type": "stream",
     "text": [
      "INFO:tensorflow:global/global_step/sec: 250.141\n"
     ]
    },
    {
     "name": "stderr",
     "output_type": "stream",
     "text": [
      "[2017-08-25 13:48:55,718] global/global_step/sec: 250.141\n"
     ]
    },
    {
     "name": "stdout",
     "output_type": "stream",
     "text": [
      "INFO:tensorflow:global/global_step/sec: 245.156\n"
     ]
    },
    {
     "name": "stderr",
     "output_type": "stream",
     "text": [
      "[2017-08-25 13:50:55,708] global/global_step/sec: 245.156\n",
      "Process BTgymServer-5:1:\n",
      "Process BTgymServer-4:1:\n",
      "Process BTgymServer-3:1:\n",
      "Process BTgymServer-8:1:\n",
      "Process BTgymServer-6:1:\n",
      "Process BTgymServer-9:1:\n",
      "Process BTgymServer-7:1:\n",
      "Process DrawCerebro-2:2:175:\n",
      "Process BTgymDataFeedServer-2:1:\n",
      "  File \"/Users/muzikin/anaconda/envs/tensorforce/lib/python3.6/site-packages/backtrader/brokers/bbroker.py\", line 391, in cancel\n",
      "    self.pending.remove(order)\n",
      "Traceback (most recent call last):\n",
      "ValueError: deque.remove(x): x not in deque\n",
      "[2017-08-25 13:51:49,951] worker_1 has joined.\n",
      "During handling of the above exception, another exception occurred:\n",
      "\n",
      "Traceback (most recent call last):\n",
      "\n",
      "  File \"/Users/muzikin/anaconda/envs/tensorforce/lib/python3.6/multiprocessing/process.py\", line 249, in _bootstrap\n",
      "    self.run()\n",
      "  File \"/Users/muzikin/Yandex.Disk.localized/work/btgym/btgym/server.py\", line 413, in run\n",
      "    episode = cerebro.run(stdstats=True, preload=False, oldbuysell=True)[0]\n",
      "  File \"/Users/muzikin/anaconda/envs/tensorforce/lib/python3.6/site-packages/backtrader/cerebro.py\", line 1073, in run\n",
      "    runstrat = self.runstrategies(iterstrat)\n",
      "  File \"/Users/muzikin/anaconda/envs/tensorforce/lib/python3.6/site-packages/backtrader/cerebro.py\", line 1235, in runstrategies\n",
      "    self._runnext(runstrats)\n",
      "Traceback (most recent call last):\n",
      "Traceback (most recent call last):\n",
      "Traceback (most recent call last):\n",
      "Traceback (most recent call last):\n",
      "Traceback (most recent call last):\n",
      "Traceback (most recent call last):\n",
      "[2017-08-25 13:51:51,363] worker_2 has joined.\n",
      "  File \"/Users/muzikin/anaconda/envs/tensorforce/lib/python3.6/site-packages/backtrader/cerebro.py\", line 1557, in _runnext\n",
      "    self._brokernotify()\n",
      "  File \"/Users/muzikin/anaconda/envs/tensorforce/lib/python3.6/multiprocessing/process.py\", line 249, in _bootstrap\n",
      "    self.run()\n",
      "  File \"/Users/muzikin/anaconda/envs/tensorforce/lib/python3.6/multiprocessing/process.py\", line 249, in _bootstrap\n",
      "    self.run()\n",
      "  File \"/Users/muzikin/anaconda/envs/tensorforce/lib/python3.6/multiprocessing/process.py\", line 249, in _bootstrap\n",
      "    self.run()\n",
      "  File \"/Users/muzikin/anaconda/envs/tensorforce/lib/python3.6/multiprocessing/process.py\", line 249, in _bootstrap\n",
      "    self.run()\n",
      "  File \"/Users/muzikin/anaconda/envs/tensorforce/lib/python3.6/multiprocessing/process.py\", line 249, in _bootstrap\n",
      "    self.run()\n",
      "  File \"/Users/muzikin/anaconda/envs/tensorforce/lib/python3.6/multiprocessing/process.py\", line 249, in _bootstrap\n",
      "    self.run()\n",
      "  File \"/Users/muzikin/Yandex.Disk.localized/work/btgym/btgym/server.py\", line 413, in run\n",
      "    episode = cerebro.run(stdstats=True, preload=False, oldbuysell=True)[0]\n",
      "  File \"/Users/muzikin/Yandex.Disk.localized/work/btgym/btgym/server.py\", line 413, in run\n",
      "    episode = cerebro.run(stdstats=True, preload=False, oldbuysell=True)[0]\n",
      "  File \"/Users/muzikin/Yandex.Disk.localized/work/btgym/btgym/server.py\", line 413, in run\n",
      "    episode = cerebro.run(stdstats=True, preload=False, oldbuysell=True)[0]\n",
      "  File \"/Users/muzikin/anaconda/envs/tensorforce/lib/python3.6/site-packages/backtrader/cerebro.py\", line 1297, in _brokernotify\n",
      "    self._broker.next()\n",
      "  File \"/Users/muzikin/Yandex.Disk.localized/work/btgym/btgym/server.py\", line 413, in run\n",
      "    episode = cerebro.run(stdstats=True, preload=False, oldbuysell=True)[0]\n",
      "  File \"/Users/muzikin/Yandex.Disk.localized/work/btgym/btgym/server.py\", line 413, in run\n",
      "    episode = cerebro.run(stdstats=True, preload=False, oldbuysell=True)[0]\n",
      "  File \"/Users/muzikin/Yandex.Disk.localized/work/btgym/btgym/server.py\", line 413, in run\n",
      "    episode = cerebro.run(stdstats=True, preload=False, oldbuysell=True)[0]\n",
      "[2017-08-25 13:51:51,488] worker_3 has joined.\n",
      "  File \"/Users/muzikin/anaconda/envs/tensorforce/lib/python3.6/site-packages/backtrader/brokers/bbroker.py\", line 1037, in next\n",
      "    self.check_submitted()\n",
      "  File \"/Users/muzikin/anaconda/envs/tensorforce/lib/python3.6/site-packages/backtrader/cerebro.py\", line 1073, in run\n",
      "    runstrat = self.runstrategies(iterstrat)\n",
      "  File \"/Users/muzikin/anaconda/envs/tensorforce/lib/python3.6/site-packages/backtrader/cerebro.py\", line 1073, in run\n",
      "    runstrat = self.runstrategies(iterstrat)\n",
      "  File \"/Users/muzikin/anaconda/envs/tensorforce/lib/python3.6/site-packages/backtrader/cerebro.py\", line 1073, in run\n",
      "    runstrat = self.runstrategies(iterstrat)\n",
      "  File \"/Users/muzikin/anaconda/envs/tensorforce/lib/python3.6/site-packages/backtrader/cerebro.py\", line 1073, in run\n",
      "    runstrat = self.runstrategies(iterstrat)\n",
      "  File \"/Users/muzikin/anaconda/envs/tensorforce/lib/python3.6/site-packages/backtrader/cerebro.py\", line 1073, in run\n",
      "    runstrat = self.runstrategies(iterstrat)\n",
      "  File \"/Users/muzikin/anaconda/envs/tensorforce/lib/python3.6/site-packages/backtrader/cerebro.py\", line 1073, in run\n",
      "    runstrat = self.runstrategies(iterstrat)\n",
      "  File \"/Users/muzikin/anaconda/envs/tensorforce/lib/python3.6/site-packages/backtrader/brokers/bbroker.py\", line 567, in check_submitted\n",
      "    self._bracketize(order, cancel=True)\n",
      "  File \"/Users/muzikin/anaconda/envs/tensorforce/lib/python3.6/site-packages/backtrader/cerebro.py\", line 1235, in runstrategies\n",
      "    self._runnext(runstrats)\n",
      "  File \"/Users/muzikin/anaconda/envs/tensorforce/lib/python3.6/site-packages/backtrader/cerebro.py\", line 1235, in runstrategies\n",
      "    self._runnext(runstrats)\n",
      "[2017-08-25 13:51:51,572] worker_4 has joined.\n",
      "  File \"/Users/muzikin/anaconda/envs/tensorforce/lib/python3.6/site-packages/backtrader/cerebro.py\", line 1235, in runstrategies\n",
      "    self._runnext(runstrats)\n",
      "  File \"/Users/muzikin/anaconda/envs/tensorforce/lib/python3.6/site-packages/backtrader/cerebro.py\", line 1564, in _runnext\n",
      "    strat._next()\n",
      "  File \"/Users/muzikin/anaconda/envs/tensorforce/lib/python3.6/site-packages/backtrader/cerebro.py\", line 1235, in runstrategies\n",
      "    self._runnext(runstrats)\n",
      "  File \"/Users/muzikin/anaconda/envs/tensorforce/lib/python3.6/site-packages/backtrader/brokers/bbroker.py\", line 584, in _bracketize\n",
      "    self.cancel(pc.popleft(), bracket=True)  # idempotent\n",
      "  File \"/Users/muzikin/anaconda/envs/tensorforce/lib/python3.6/site-packages/backtrader/cerebro.py\", line 1235, in runstrategies\n",
      "    self._runnext(runstrats)\n",
      "  File \"/Users/muzikin/anaconda/envs/tensorforce/lib/python3.6/site-packages/backtrader/cerebro.py\", line 1235, in runstrategies\n",
      "    self._runnext(runstrats)\n",
      "  File \"/Users/muzikin/anaconda/envs/tensorforce/lib/python3.6/site-packages/backtrader/cerebro.py\", line 1564, in _runnext\n",
      "    strat._next()\n",
      "  File \"/Users/muzikin/anaconda/envs/tensorforce/lib/python3.6/site-packages/backtrader/strategy.py\", line 324, in _next\n",
      "    super(Strategy, self)._next()\n",
      "  File \"/Users/muzikin/anaconda/envs/tensorforce/lib/python3.6/site-packages/backtrader/cerebro.py\", line 1564, in _runnext\n",
      "    strat._next()\n",
      "  File \"/Users/muzikin/anaconda/envs/tensorforce/lib/python3.6/site-packages/backtrader/brokers/bbroker.py\", line 392, in cancel\n",
      "    except ValueError:\n",
      "[2017-08-25 13:51:51,683] worker_5 has joined.\n",
      "  File \"/Users/muzikin/anaconda/envs/tensorforce/lib/python3.6/site-packages/backtrader/cerebro.py\", line 1564, in _runnext\n",
      "    strat._next()\n",
      "  File \"/Users/muzikin/anaconda/envs/tensorforce/lib/python3.6/site-packages/backtrader/cerebro.py\", line 1525, in _runnext\n",
      "    di._tick_fill(force=True)\n",
      "  File \"/Users/muzikin/anaconda/envs/tensorforce/lib/python3.6/site-packages/backtrader/cerebro.py\", line 1564, in _runnext\n",
      "    strat._next()\n",
      "  File \"/Users/muzikin/anaconda/envs/tensorforce/lib/python3.6/site-packages/backtrader/lineiterator.py\", line 266, in _next\n",
      "    self.next()\n",
      "  File \"/Users/muzikin/anaconda/envs/tensorforce/lib/python3.6/site-packages/backtrader/strategy.py\", line 324, in _next\n",
      "    super(Strategy, self)._next()\n",
      "  File \"/Users/muzikin/anaconda/envs/tensorforce/lib/python3.6/site-packages/backtrader/strategy.py\", line 324, in _next\n",
      "    super(Strategy, self)._next()\n",
      "  File \"/Users/muzikin/anaconda/envs/tensorforce/lib/python3.6/site-packages/backtrader/feed.py\", line 362, in _tick_fill\n",
      "    getattr(self.lines, lalias)[0])\n",
      "[2017-08-25 13:51:51,684] worker_6 has joined.KeyboardInterrupt\n",
      "  File \"/Users/muzikin/anaconda/envs/tensorforce/lib/python3.6/site-packages/backtrader/strategy.py\", line 324, in _next\n",
      "    super(Strategy, self)._next()\n"
     ]
    },
    {
     "name": "stderr",
     "output_type": "stream",
     "text": [
      "  File \"/Users/muzikin/anaconda/envs/tensorforce/lib/python3.6/site-packages/backtrader/strategy.py\", line 324, in _next\n",
      "    super(Strategy, self)._next()\n",
      "\n",
      "  File \"/Users/muzikin/anaconda/envs/tensorforce/lib/python3.6/site-packages/backtrader/lineiterator.py\", line 255, in _next\n",
      "    clock_len = self._clk_update()\n",
      "  File \"/Users/muzikin/anaconda/envs/tensorforce/lib/python3.6/site-packages/backtrader/lineiterator.py\", line 258, in _next\n",
      "    indicator._next()\n",
      "  File \"<ipython-input-3-b76c9a82b5a5>\", line 140, in next\n",
      "    self.sma4_embed[-1] = self.data.sma4[0]\n",
      "  File \"/Users/muzikin/anaconda/envs/tensorforce/lib/python3.6/site-packages/backtrader/lineseries.py\", line 62, in __get__\n",
      "    return obj.lines[self.line]\n",
      "  File \"/Users/muzikin/anaconda/envs/tensorforce/lib/python3.6/site-packages/backtrader/lineiterator.py\", line 266, in _next\n",
      "    self.next()\n",
      "  File \"/Users/muzikin/anaconda/envs/tensorforce/lib/python3.6/site-packages/backtrader/lineiterator.py\", line 258, in _next\n",
      "    indicator._next()\n",
      "  File \"/Users/muzikin/anaconda/envs/tensorforce/lib/python3.6/site-packages/backtrader/lineseries.py\", line 466, in __getitem__\n",
      "    return self.lines[0][key]\n",
      "  File \"/Users/muzikin/anaconda/envs/tensorforce/lib/python3.6/site-packages/backtrader/lineiterator.py\", line 255, in _next\n",
      "    clock_len = self._clk_update()\n",
      "  File \"/Users/muzikin/anaconda/envs/tensorforce/lib/python3.6/site-packages/backtrader/strategy.py\", line 306, in _clk_update\n",
      "    self.forward()\n",
      "  File \"<ipython-input-3-b76c9a82b5a5>\", line 135, in next\n",
      "    self.sma128_embed =  np.roll(self.sma128_embed, -1)\n",
      "[2017-08-25 13:51:51,772] worker_7 has joined.\n",
      "  File \"/Users/muzikin/anaconda/envs/tensorforce/lib/python3.6/site-packages/backtrader/lineseries.py\", line 235, in __getitem__\n",
      "    return self.lines[line]\n",
      "  File \"/Users/muzikin/anaconda/envs/tensorforce/lib/python3.6/site-packages/backtrader/lineseries.py\", line 553, in forward\n",
      "    self.lines.forward(value, size)\n",
      "  File \"/Users/muzikin/anaconda/envs/tensorforce/lib/python3.6/site-packages/backtrader/lineiterator.py\", line 258, in _next\n",
      "    indicator._next()\n",
      "KeyboardInterrupt\n",
      "  File \"/Users/muzikin/anaconda/envs/tensorforce/lib/python3.6/site-packages/backtrader/lineiterator.py\", line 282, in _clk_update\n",
      "    clock_len = len(self._clock)\n",
      "KeyboardInterrupt\n",
      "  File \"/Users/muzikin/anaconda/envs/tensorforce/lib/python3.6/site-packages/backtrader/lineiterator.py\", line 275, in _next\n",
      "    self.next()\n",
      "  File \"/Users/muzikin/anaconda/envs/tensorforce/lib/python3.6/site-packages/backtrader/lineseries.py\", line 254, in forward\n",
      "    line.forward(value, size=size)\n",
      "  File \"/Users/muzikin/anaconda/envs/tensorforce/lib/python3.6/site-packages/numpy/core/numeric.py\", line 1404, in roll\n",
      "    return roll(a.ravel(), shift, 0).reshape(a.shape)\n",
      "  File \"/Users/muzikin/anaconda/envs/tensorforce/lib/python3.6/site-packages/backtrader/lineseries.py\", line 462, in __len__\n",
      "    def __len__(self):\n",
      "[2017-08-25 13:51:51,773] chief_worker_0 has joined.\n",
      "  File \"/Users/muzikin/anaconda/envs/tensorforce/lib/python3.6/site-packages/backtrader/linebuffer.py\", line 258, in forward\n",
      "    self.array.append(value)\n",
      "  File \"/Users/muzikin/anaconda/envs/tensorforce/lib/python3.6/site-packages/backtrader/indicators/basicops.py\", line 356, in next\n",
      "    math.fsum(self.data.get(size=self.p.period)) / self.p.period\n",
      "KeyboardInterrupt\n",
      "KeyboardInterrupt\n",
      "KeyboardInterrupt\n",
      "KeyboardInterrupt\n",
      "[2017-08-25 13:51:51,791] parameter_server_0 has joined.\n",
      "[2017-08-25 13:51:51,793] Launcher closed.\n",
      "Traceback (most recent call last):\n",
      "  File \"/Users/muzikin/anaconda/envs/tensorforce/lib/python3.6/multiprocessing/process.py\", line 249, in _bootstrap\n",
      "    self.run()\n",
      "  File \"/Users/muzikin/Yandex.Disk.localized/work/btgym/btgym/dataserver.py\", line 100, in run\n",
      "    service_input = socket.recv_pyobj()\n",
      "  File \"/Users/muzikin/anaconda/envs/tensorforce/lib/python3.6/site-packages/zmq/sugar/socket.py\", line 491, in recv_pyobj\n",
      "    msg = self.recv(flags)\n",
      "  File \"zmq/backend/cython/socket.pyx\", line 693, in zmq.backend.cython.socket.Socket.recv (zmq/backend/cython/socket.c:7683)\n",
      "  File \"zmq/backend/cython/socket.pyx\", line 727, in zmq.backend.cython.socket.Socket.recv (zmq/backend/cython/socket.c:7460)\n",
      "  File \"zmq/backend/cython/socket.pyx\", line 145, in zmq.backend.cython.socket._recv_copy (zmq/backend/cython/socket.c:2344)\n",
      "  File \"zmq/backend/cython/checkrc.pxd\", line 12, in zmq.backend.cython.checkrc._check_rc (zmq/backend/cython/socket.c:9621)\n",
      "KeyboardInterrupt\n",
      "Traceback (most recent call last):\n",
      "  File \"/Users/muzikin/anaconda/envs/tensorforce/lib/python3.6/multiprocessing/process.py\", line 249, in _bootstrap\n",
      "    self.run()\n",
      "  File \"/Users/muzikin/Yandex.Disk.localized/work/btgym/btgym/rendering/plotter.py\", line 73, in run\n",
      "    figfilename='_tmp_btgym_render.png',\n",
      "  File \"/Users/muzikin/anaconda/envs/tensorforce/lib/python3.6/site-packages/backtrader/cerebro.py\", line 941, in plot\n",
      "    tight=tight)\n",
      "  File \"/Users/muzikin/Yandex.Disk.localized/work/btgym/btgym/rendering/plotter.py\", line 46, in savefig\n",
      "    fig.canvas.draw()\n",
      "  File \"/Users/muzikin/anaconda/envs/tensorforce/lib/python3.6/site-packages/matplotlib/backends/backend_agg.py\", line 464, in draw\n",
      "    self.figure.draw(self.renderer)\n",
      "  File \"/Users/muzikin/anaconda/envs/tensorforce/lib/python3.6/site-packages/matplotlib/artist.py\", line 63, in draw_wrapper\n",
      "    draw(artist, renderer, *args, **kwargs)\n",
      "  File \"/Users/muzikin/anaconda/envs/tensorforce/lib/python3.6/site-packages/matplotlib/figure.py\", line 1135, in draw\n",
      "    self.tight_layout(renderer, **self._tight_parameters)\n",
      "  File \"/Users/muzikin/anaconda/envs/tensorforce/lib/python3.6/site-packages/matplotlib/figure.py\", line 1753, in tight_layout\n",
      "    rect=rect)\n",
      "  File \"/Users/muzikin/anaconda/envs/tensorforce/lib/python3.6/site-packages/matplotlib/tight_layout.py\", line 353, in get_tight_layout_figure\n",
      "    pad=pad, h_pad=h_pad, w_pad=w_pad)\n",
      "  File \"/Users/muzikin/anaconda/envs/tensorforce/lib/python3.6/site-packages/matplotlib/tight_layout.py\", line 129, in auto_adjust_subplotpars\n",
      "    tight_bbox_raw = union([ax.get_tightbbox(renderer) for ax in subplots\n",
      "  File \"/Users/muzikin/anaconda/envs/tensorforce/lib/python3.6/site-packages/matplotlib/tight_layout.py\", line 130, in <listcomp>\n",
      "    if ax.get_visible()])\n",
      "  File \"/Users/muzikin/anaconda/envs/tensorforce/lib/python3.6/site-packages/matplotlib/axes/_base.py\", line 3823, in get_tightbbox\n",
      "    bb_xaxis = self.xaxis.get_tightbbox(renderer)\n",
      "  File \"/Users/muzikin/anaconda/envs/tensorforce/lib/python3.6/site-packages/matplotlib/axis.py\", line 1093, in get_tightbbox\n",
      "    ticks_to_draw = self._update_ticks(renderer)\n",
      "  File \"/Users/muzikin/anaconda/envs/tensorforce/lib/python3.6/site-packages/matplotlib/axis.py\", line 969, in _update_ticks\n",
      "    tick_tups = [t for t in self.iter_ticks()]\n",
      "  File \"/Users/muzikin/anaconda/envs/tensorforce/lib/python3.6/site-packages/matplotlib/axis.py\", line 969, in <listcomp>\n",
      "    tick_tups = [t for t in self.iter_ticks()]\n",
      "  File \"/Users/muzikin/anaconda/envs/tensorforce/lib/python3.6/site-packages/matplotlib/axis.py\", line 916, in iter_ticks\n",
      "    for i, val in enumerate(majorLocs)]\n",
      "  File \"/Users/muzikin/anaconda/envs/tensorforce/lib/python3.6/site-packages/matplotlib/axis.py\", line 916, in <listcomp>\n",
      "    for i, val in enumerate(majorLocs)]\n",
      "  File \"/Users/muzikin/anaconda/envs/tensorforce/lib/python3.6/site-packages/backtrader/plot/locator.py\", line 247, in __call__\n",
      "    return super(AutoDateFormatter, self).__call__(ix, pos)\n",
      "  File \"/Users/muzikin/anaconda/envs/tensorforce/lib/python3.6/site-packages/matplotlib/dates.py\", line 696, in __call__\n",
      "    result = self._formatter(x, pos)\n",
      "  File \"/Users/muzikin/anaconda/envs/tensorforce/lib/python3.6/site-packages/matplotlib/dates.py\", line 467, in __call__\n",
      "    return self.strftime(dt, self.fmt)\n",
      "  File \"/Users/muzikin/anaconda/envs/tensorforce/lib/python3.6/site-packages/matplotlib/dates.py\", line 571, in strftime\n",
      "    return cbook.unicode_safe(dt.strftime(fmt))\n",
      "KeyboardInterrupt\n",
      "[2017-08-25 13:52:54,980] BtgymServer: data_server unreachable with status: <receive_failed>.\n",
      "Process BTgymServer-2:2:\n",
      "Traceback (most recent call last):\n",
      "  File \"/Users/muzikin/anaconda/envs/tensorforce/lib/python3.6/multiprocessing/process.py\", line 249, in _bootstrap\n",
      "    self.run()\n"
     ]
    },
    {
     "name": "stderr",
     "output_type": "stream",
     "text": [
      "  File \"/Users/muzikin/Yandex.Disk.localized/work/btgym/btgym/server.py\", line 398, in run\n",
      "    raise ConnectionError(msg)\n",
      "ConnectionError: BtgymServer: data_server unreachable with status: <receive_failed>.\n"
     ]
    }
   ],
   "source": [
    "launcher.run()"
   ]
  },
  {
   "cell_type": "code",
   "execution_count": null,
   "metadata": {
    "collapsed": true,
    "scrolled": false
   },
   "outputs": [],
   "source": [
    "print(launcher.kwargs, '\\n\\n')\n",
    "print(launcher.env_config)\n",
    "print(launcher.cluster_config)\n",
    "print(launcher.cluster_spec)\n",
    "for config in launcher.workers_config_list:\n",
    "    print('============')\n",
    "    for k, v in config.items():\n",
    "        print('{}:\\n{}\\n'.format(k, v))\n",
    "    "
   ]
  },
  {
   "cell_type": "code",
   "execution_count": null,
   "metadata": {
    "collapsed": true
   },
   "outputs": [],
   "source": [
    "def func1(max_step):\n",
    "    step = 0\n",
    "    done = False\n",
    "    \n",
    "    def func2(max_step):\n",
    "        nonlocal step\n",
    "        nonlocal done\n",
    "        step +=1\n",
    "        if step == max_step:\n",
    "            step = 0\n",
    "            done = True\n",
    "        return step\n",
    "    \n",
    "    for i in range(20):\n",
    "        done = False\n",
    "        print(func2(max_step), step, done)\n",
    "        \n",
    "\n",
    "\n",
    "func1(7)\n",
    "            "
   ]
  },
  {
   "cell_type": "code",
   "execution_count": null,
   "metadata": {
    "collapsed": true
   },
   "outputs": [],
   "source": [
    "a = dict()\n",
    "a.update({'b': 2, 'c':4})\n",
    "type(a) == dict"
   ]
  },
  {
   "cell_type": "code",
   "execution_count": null,
   "metadata": {
    "collapsed": true
   },
   "outputs": [],
   "source": []
  }
 ],
 "metadata": {
  "kernelspec": {
   "display_name": "Python 3",
   "language": "python",
   "name": "python3"
  },
  "language_info": {
   "codemirror_mode": {
    "name": "ipython",
    "version": 3
   },
   "file_extension": ".py",
   "mimetype": "text/x-python",
   "name": "python",
   "nbconvert_exporter": "python",
   "pygments_lexer": "ipython3",
   "version": "3.6.0"
  }
 },
 "nbformat": 4,
 "nbformat_minor": 2
}
