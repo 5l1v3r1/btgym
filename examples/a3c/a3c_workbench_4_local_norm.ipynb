{
 "cells": [
  {
   "cell_type": "code",
   "execution_count": 1,
   "metadata": {
    "collapsed": true
   },
   "outputs": [],
   "source": [
    "#%load_ext autoreload\n",
    "#%autoreload 2\n",
    "\n",
    "#import sys\n",
    "#sys.path.insert(0,'..')\n",
    "\n",
    "import os\n",
    "\n",
    "import backtrader as bt\n",
    "import backtrader.indicators as btind\n",
    "import numpy as np\n",
    "import scipy.signal as signal\n",
    "from scipy import stats\n",
    "\n",
    "from gym import spaces\n",
    "\n",
    "from btgym import BTgymEnv, BTgymStrategy, BTgymDataset\n",
    "\n",
    "from launcher import Launcher\n",
    "from model import LSTMPolicy"
   ]
  },
  {
   "cell_type": "code",
   "execution_count": 4,
   "metadata": {},
   "outputs": [
    {
     "name": "stderr",
     "output_type": "stream",
     "text": [
      "[2017-08-24 13:50:37,143] Launcher ready.\n"
     ]
    }
   ],
   "source": [
    "# GYM TEST ENV:\n",
    "cluster_config = dict(\n",
    "    host='127.0.0.1',\n",
    "    port=12222,\n",
    "    num_workers=8,\n",
    "    num_ps=1,\n",
    "    log_dir='./tmp/a3c_testing_gym',\n",
    ")\n",
    "\n",
    "env_config = dict(\n",
    "    gym_id='Breakout-v0'\n",
    ")\n",
    "\n",
    "class LSTM_new(LSTMPolicy):\n",
    "    pass\n",
    "\n",
    "launcher = Launcher(\n",
    "    cluster_config=cluster_config,\n",
    "    env_config=env_config,\n",
    "    model_class=LSTM_new,\n",
    "    train_steps=500000000,\n",
    "    opt_learn_rate=1e-4,\n",
    "    rollout_length=20,\n",
    "    test_mode=True,\n",
    "    model_summary_freq=50,\n",
    "    episode_summary_freq=2,\n",
    "    env_render_freq=10,\n",
    "    verbose=2\n",
    ")"
   ]
  },
  {
   "cell_type": "code",
   "execution_count": 5,
   "metadata": {
    "scrolled": false
   },
   "outputs": [
    {
     "name": "stderr",
     "output_type": "stream",
     "text": [
      "[2017-08-24 13:50:38,568] parameters_server started.\n",
      "[2017-08-24 13:50:38,572] worker_0 tf.server started.\n",
      "[2017-08-24 13:50:38,575] making environment.\n",
      "[2017-08-24 13:50:38,577] Making new env: Breakout-v0\n",
      "[2017-08-24 13:50:38,770] worker_0:envronment ok.\n",
      "[2017-08-24 13:50:40,699] worker_0:trainer ok.\n",
      "[2017-08-24 13:50:41,828] connecting to the parameter server... \n"
     ]
    },
    {
     "name": "stdout",
     "output_type": "stream",
     "text": [
      "INFO:tensorflow:Restoring parameters from ./tmp/a3c_testing_gym/train/model.ckpt-0\n"
     ]
    },
    {
     "name": "stderr",
     "output_type": "stream",
     "text": [
      "[2017-08-24 13:50:41,836] Restoring parameters from ./tmp/a3c_testing_gym/train/model.ckpt-0\n",
      "[2017-08-24 13:50:43,581] worker_1 tf.server started.\n",
      "[2017-08-24 13:50:43,586] worker_2 tf.server started.\n",
      "[2017-08-24 13:50:43,586] making environment.\n",
      "[2017-08-24 13:50:43,592] making environment.\n",
      "[2017-08-24 13:50:43,593] worker_3 tf.server started.\n",
      "[2017-08-24 13:50:43,601] Press `Ctrl-C` to stop training and close launcher.\n",
      "[2017-08-24 13:50:43,599] Making new env: Breakout-v0\n",
      "[2017-08-24 13:50:43,604] Making new env: Breakout-v0\n",
      "[2017-08-24 13:50:43,604] making environment.\n",
      "[2017-08-24 13:50:43,599] worker_4 tf.server started.\n",
      "[2017-08-24 13:50:43,629] making environment.\n",
      "[2017-08-24 13:50:43,608] worker_5 tf.server started.\n",
      "[2017-08-24 13:50:43,622] Making new env: Breakout-v0\n",
      "[2017-08-24 13:50:43,620] worker_6 tf.server started.\n",
      "[2017-08-24 13:50:43,626] worker_7 tf.server started.\n",
      "[2017-08-24 13:50:43,631] making environment.\n",
      "[2017-08-24 13:50:43,640] making environment.\n",
      "[2017-08-24 13:50:43,632] Making new env: Breakout-v0\n",
      "[2017-08-24 13:50:43,633] making environment.\n",
      "[2017-08-24 13:50:43,644] Making new env: Breakout-v0\n",
      "[2017-08-24 13:50:43,650] Making new env: Breakout-v0\n",
      "[2017-08-24 13:50:43,644] Making new env: Breakout-v0\n",
      "[2017-08-24 13:50:43,738] worker_2:envronment ok.\n",
      "[2017-08-24 13:50:43,755] worker_1:envronment ok.\n",
      "[2017-08-24 13:50:43,752] worker_3:envronment ok.\n",
      "[2017-08-24 13:50:43,761] worker_5:envronment ok.\n",
      "[2017-08-24 13:50:43,765] worker_6:envronment ok.\n",
      "[2017-08-24 13:50:43,762] worker_4:envronment ok.\n",
      "[2017-08-24 13:50:43,774] worker_7:envronment ok.\n"
     ]
    },
    {
     "name": "stdout",
     "output_type": "stream",
     "text": [
      "Press `Ctrl-C` to stop training and close launcher.\n"
     ]
    },
    {
     "name": "stderr",
     "output_type": "stream",
     "text": [
      "[2017-08-24 13:50:47,559] worker_3:trainer ok.\n",
      "[2017-08-24 13:50:47,574] worker_7:trainer ok.\n",
      "[2017-08-24 13:50:47,610] worker_2:trainer ok.\n",
      "[2017-08-24 13:50:47,607] worker_6:trainer ok.\n",
      "[2017-08-24 13:50:47,659] worker_4:trainer ok.\n",
      "[2017-08-24 13:50:47,664] worker_5:trainer ok.\n",
      "[2017-08-24 13:50:47,691] worker_1:trainer ok.\n"
     ]
    },
    {
     "name": "stdout",
     "output_type": "stream",
     "text": [
      "INFO:tensorflow:Starting standard services.\n"
     ]
    },
    {
     "name": "stderr",
     "output_type": "stream",
     "text": [
      "[2017-08-24 13:50:47,757] Starting standard services.\n"
     ]
    },
    {
     "name": "stdout",
     "output_type": "stream",
     "text": [
      "INFO:tensorflow:Saving checkpoint to path ./tmp/a3c_testing_gym/train/model.ckpt\n"
     ]
    },
    {
     "name": "stderr",
     "output_type": "stream",
     "text": [
      "[2017-08-24 13:50:47,829] Saving checkpoint to path ./tmp/a3c_testing_gym/train/model.ckpt\n"
     ]
    },
    {
     "name": "stdout",
     "output_type": "stream",
     "text": [
      "INFO:tensorflow:Starting queue runners.\n",
      "INFO:tensorflow:global/global_step/sec: 0\n"
     ]
    },
    {
     "name": "stderr",
     "output_type": "stream",
     "text": [
      "[2017-08-24 13:50:47,834] Starting queue runners.\n",
      "[2017-08-24 13:50:47,837] global/global_step/sec: 0\n",
      "[2017-08-24 13:50:47,905] worker_0: starting training at step: 0\n",
      "[2017-08-24 13:50:50,368] connecting to the parameter server... \n",
      "[2017-08-24 13:50:50,353] connecting to the parameter server... \n",
      "[2017-08-24 13:50:50,364] connecting to the parameter server... \n",
      "[2017-08-24 13:50:50,383] connecting to the parameter server... \n",
      "[2017-08-24 13:50:50,395] connecting to the parameter server... \n",
      "[2017-08-24 13:50:50,393] connecting to the parameter server... \n",
      "[2017-08-24 13:50:50,468] connecting to the parameter server... \n"
     ]
    },
    {
     "name": "stdout",
     "output_type": "stream",
     "text": [
      "INFO:tensorflow:Starting queue runners.\n"
     ]
    },
    {
     "name": "stderr",
     "output_type": "stream",
     "text": [
      "[2017-08-24 13:50:51,983] Starting queue runners.\n"
     ]
    },
    {
     "name": "stdout",
     "output_type": "stream",
     "text": [
      "INFO:tensorflow:Starting queue runners.\n",
      "INFO:tensorflow:Starting queue runners.\n"
     ]
    },
    {
     "name": "stderr",
     "output_type": "stream",
     "text": [
      "[2017-08-24 13:50:51,987] Starting queue runners.\n",
      "[2017-08-24 13:50:51,991] Starting queue runners.\n",
      "[2017-08-24 13:50:52,034] worker_5: starting training at step: 459\n"
     ]
    },
    {
     "name": "stdout",
     "output_type": "stream",
     "text": [
      "INFO:tensorflow:Starting queue runners.\n"
     ]
    },
    {
     "name": "stderr",
     "output_type": "stream",
     "text": [
      "[2017-08-24 13:50:52,016] Starting queue runners.\n"
     ]
    },
    {
     "name": "stdout",
     "output_type": "stream",
     "text": [
      "INFO:tensorflow:Starting queue runners.\n"
     ]
    },
    {
     "name": "stderr",
     "output_type": "stream",
     "text": [
      "[2017-08-24 13:50:52,059] worker_3: starting training at step: 459\n",
      "[2017-08-24 13:50:52,059] worker_2: starting training at step: 459\n",
      "[2017-08-24 13:50:52,038] Starting queue runners.\n"
     ]
    },
    {
     "name": "stdout",
     "output_type": "stream",
     "text": [
      "INFO:tensorflow:Starting queue runners.\n"
     ]
    },
    {
     "name": "stderr",
     "output_type": "stream",
     "text": [
      "[2017-08-24 13:50:52,104] worker_7: starting training at step: 459\n",
      "[2017-08-24 13:50:52,089] Starting queue runners.\n",
      "[2017-08-24 13:50:52,134] worker_4: starting training at step: 459\n",
      "[2017-08-24 13:50:52,168] worker_6: starting training at step: 459\n"
     ]
    },
    {
     "name": "stdout",
     "output_type": "stream",
     "text": [
      "INFO:tensorflow:Starting queue runners.\n"
     ]
    },
    {
     "name": "stderr",
     "output_type": "stream",
     "text": [
      "[2017-08-24 13:50:52,381] Starting queue runners.\n",
      "[2017-08-24 13:50:52,470] worker_1: starting training at step: 499\n"
     ]
    },
    {
     "name": "stdout",
     "output_type": "stream",
     "text": [
      "INFO:tensorflow:global/global_step/sec: 514.502\n"
     ]
    },
    {
     "name": "stderr",
     "output_type": "stream",
     "text": [
      "[2017-08-24 13:52:47,842] global/global_step/sec: 514.502\n",
      "[2017-08-24 13:53:50,148] worker_1 has joined.\n",
      "[2017-08-24 13:53:50,155] worker_2 has joined.\n",
      "[2017-08-24 13:53:50,163] worker_3 has joined.\n",
      "[2017-08-24 13:53:50,164] worker_4 has joined.\n",
      "[2017-08-24 13:53:50,165] worker_5 has joined.\n",
      "[2017-08-24 13:53:50,167] worker_6 has joined.\n",
      "[2017-08-24 13:53:50,167] worker_7 has joined.\n",
      "[2017-08-24 13:53:50,168] chief_worker_0 has joined.\n",
      "[2017-08-24 13:53:50,169] parameter_server_0 has joined.\n",
      "[2017-08-24 13:53:50,170] Launcher closed.\n"
     ]
    }
   ],
   "source": [
    "launcher.run()\n"
   ]
  },
  {
   "cell_type": "code",
   "execution_count": 8,
   "metadata": {},
   "outputs": [
    {
     "name": "stderr",
     "output_type": "stream",
     "text": [
      "[2017-08-24 14:02:30,570] port 12223 cleared\n"
     ]
    }
   ],
   "source": [
    "class MyStrategy(BTgymStrategy):\n",
    "    \"\"\"\n",
    "    Example subclass of BT server inner computation startegy.\n",
    "    \"\"\"\n",
    "    \n",
    "    def __init__(self, **kwargs):\n",
    "        super(MyStrategy,self).__init__(**kwargs)\n",
    "        \n",
    "        self.order_penalty = 0.5\n",
    "        self.trade_just_closed = False\n",
    "        self.trade_result = None\n",
    "        \n",
    "    def notify_trade(self, trade):\n",
    "        #if trade.justopened:\n",
    "            #print('trade {} just opened'.format(trade.ref))\n",
    "            \n",
    "        if trade.isclosed:\n",
    "            #print('trade {} closed, pnl_comm: {}'.format(trade.ref, trade.pnlcomm))\n",
    "            # Set trade flag and result:\n",
    "            self.trade_just_closed = True\n",
    "            self.trade_result = trade.pnlcomm\n",
    "    \n",
    "    def sigmoid(self, x):\n",
    "        return 1/(1 + np.exp(-x))\n",
    "        \n",
    "    def get_state(self):\n",
    "        \"\"\"\n",
    "        Computes featurized RL-ready environment observation state\n",
    "        by applying continious wavelet transform to time-embedded vector\n",
    "        of close-price gradients.\n",
    "        \"\"\"\n",
    "        # Use close price:\n",
    "        channel = 3\n",
    "        \n",
    "        X = self.raw_state[:, channel]\n",
    "        \n",
    "        # Prepare parameters:\n",
    "        Tau = 5\n",
    "        max_cwt_scale = self.p.state_shape['model_input'].shape[1]\n",
    "        cwt_width = np.linspace(Tau, max_cwt_scale + Tau - 1, max_cwt_scale) # scale of wavelet transdorm [n]\n",
    "    \n",
    "        T = 1# 000\n",
    "        \n",
    "        # Get vector of gradients of last [n] prices:\n",
    "        X = np.gradient(X, axis=0) * T\n",
    "        \n",
    "        # Compute continious wavelet transform using Ricker wavelet, get [n,m,1]-dim. matrix:\n",
    "        X = signal.cwt(X, signal.ricker, cwt_width).T[:, :, None]\n",
    "        \n",
    "        # Z-score:\n",
    "        X = stats.zscore(X)\n",
    "        \n",
    "        # Local min-max norm:\n",
    "        self.state['model_input'] = (X - X.min()) / (X.max() - X.min())\n",
    "        \n",
    "        # Squash values in [0,1]:\n",
    "        #self.state['model_input'] = self.sigmoid(self.state['model_input'])\n",
    "        \n",
    "        return self.state\n",
    "\n",
    "    \n",
    "    def get_reward(self):\n",
    "        \"\"\"\n",
    "        Defines reward as [0,1]-bounded function of last closed trade result.\n",
    "        \"\"\"\n",
    "        r = 0\n",
    "        \n",
    "        # Result\n",
    "        if self.trade_just_closed:\n",
    "            r = self.trade_result\n",
    "            self.trade_just_closed = False\n",
    "            \n",
    "        # Penalty for failed order:\n",
    "        if self.order_failed:\n",
    "            #print('Failed order!')\n",
    "            r -= self.order_penalty\n",
    "            self.order_failed = False\n",
    "            \n",
    "        #print('reward_', r)\n",
    "        \n",
    "        return r / 20\n",
    "            \n",
    "# Set backtesting engine parameters:\n",
    "\n",
    "state_shape = {\n",
    "    'raw_state': spaces.Box(low=-1, high=1, shape=(120, 4)),\n",
    "    'model_input': spaces.Box(low=-10, high=10, shape=(120, 15, 1))\n",
    "}\n",
    "\n",
    "MyCerebro = bt.Cerebro()\n",
    "\n",
    "MyCerebro.addstrategy(\n",
    "    MyStrategy,\n",
    "    state_shape=state_shape,\n",
    "    portfolio_actions=('hold', 'buy', 'sell'),\n",
    "    drawdown_call=5, # in percent of initial cash\n",
    "    target_call=50,\n",
    "    skip_frame=10,\n",
    ")\n",
    "\n",
    "# Set leveraged account:\n",
    "MyCerebro.broker.setcash(2000)\n",
    "MyCerebro.broker.setcommission(commission=0.0001, leverage=10.0)\n",
    "MyCerebro.broker.set_shortcash(False)\n",
    "MyCerebro.addsizer(bt.sizers.SizerFix, stake=10000,)\n",
    "\n",
    "\n",
    "MyCerebro.addanalyzer(bt.analyzers.DrawDown)\n",
    "\n",
    "# Provide data (seven years of 1 minute bars):\n",
    "filenames = [\n",
    "    '../data/DAT_ASCII_EURUSD_M1_2010.csv',\n",
    "    '../data/DAT_ASCII_EURUSD_M1_2011.csv',\n",
    "    '../data/DAT_ASCII_EURUSD_M1_2012.csv',\n",
    "    '../data/DAT_ASCII_EURUSD_M1_2013.csv',\n",
    "    '../data/DAT_ASCII_EURUSD_M1_2014.csv',\n",
    "    '../data/DAT_ASCII_EURUSD_M1_2015.csv',\n",
    "    '../data/DAT_ASCII_EURUSD_M1_2016.csv',\n",
    "]\n",
    "\n",
    "MyDataset = BTgymDataset(\n",
    "    filename=filenames,\n",
    "    #filename='../data/test_sine_1min_period256_delta0002.csv',\n",
    "    start_weekdays=[0, 1, 2, 3, 4],\n",
    "    episode_len_days=0,\n",
    "    episode_len_hours=23,\n",
    "    episode_len_minutes=55,\n",
    "    start_00=True,\n",
    "    time_gap_hours=6,\n",
    ")\n",
    "env_config = dict(\n",
    "    dataset=MyDataset,\n",
    "    engine=MyCerebro,\n",
    "    render_modes=['episode', 'human', 'model_input'],\n",
    "    render_state_as_image=True,\n",
    "    render_ylabel='Z-norm/CWT',\n",
    "    render_size_episode=(12,8),\n",
    "    render_size_human=(8, 3.5),\n",
    "    render_size_state=(10, 5),\n",
    "    render_dpi=75,\n",
    "    port=5000,\n",
    "    data_port=4999,\n",
    "    connect_timeout=60,\n",
    "    verbose=0,\n",
    ")\n",
    "cluster_config = dict(\n",
    "    host='127.0.0.1',\n",
    "    port=12222,\n",
    "    num_workers=8,\n",
    "    num_ps=1,\n",
    "    log_dir='./tmp/a3c_testing',\n",
    ")\n",
    "launcher = Launcher(\n",
    "    cluster_config=cluster_config,\n",
    "    env_class=BTgymEnv,\n",
    "    env_config=env_config,\n",
    "    rollout_length=50,\n",
    "    test_mode=False,\n",
    "    train_steps=1000000000,\n",
    "    model_summary_freq=20,\n",
    "    episode_summary_freq=1,\n",
    "    env_render_freq=20,\n",
    "    verbose=1\n",
    "    \n",
    ")"
   ]
  },
  {
   "cell_type": "code",
   "execution_count": null,
   "metadata": {
    "scrolled": false
   },
   "outputs": [
    {
     "name": "stderr",
     "output_type": "stream",
     "text": [
      "[2017-08-24 14:02:37,165] Press `Ctrl-C` to stop training and close launcher.\n"
     ]
    },
    {
     "name": "stdout",
     "output_type": "stream",
     "text": [
      "Press `Ctrl-C` to stop training and close launcher.\n",
      "INFO:tensorflow:Restoring parameters from ./tmp/a3c_testing/train/model.ckpt-92425\n"
     ]
    },
    {
     "name": "stderr",
     "output_type": "stream",
     "text": [
      "[2017-08-24 14:02:45,004] Restoring parameters from ./tmp/a3c_testing/train/model.ckpt-92425\n"
     ]
    },
    {
     "name": "stdout",
     "output_type": "stream",
     "text": [
      "INFO:tensorflow:Waiting for model to be ready.  Ready_for_local_init_op:  None, ready: Variables not initialized: global/l1/W, global/l1/b, global/l2/W, global/l2/b, global/l3/W, global/l3/b, global/l4/W, global/l4/b, global/rnn/basic_lstm_cell/kernel, global/rnn/basic_lstm_cell/bias, global/action/w, global/action/b, global/value/w, global/value/b, global/global_step, global/global_episode, beta1_power, beta2_power, global/l1/W/Adam, global/l1/W/Adam_1, global/l1/b/Adam, global/l1/b/Adam_1, global/l2/W/Adam, global/l2/W/Adam_1, global/l2/b/Adam, global/l2/b/Adam_1, global/l3/W/Adam, global/l3/W/Adam_1, global/l3/b/Adam, global/l3/b/Adam_1, global/l4/W/Adam, global/l4/W/Adam_1, global/l4/b/Adam, global/l4/b/Adam_1, global/rnn/basic_lstm_cell/kernel/Adam, global/rnn/basic_lstm_cell/kernel/Adam_1, global/rnn/basic_lstm_cell/bias/Adam, global/rnn/basic_lstm_cell/bias/Adam_1, global/action/w/Adam, global/action/w/Adam_1, global/action/b/Adam, global/action/b/Adam_1, global/value/w/Adam, global/value/w/Adam_1, global/value/b/Adam, global/value/b/Adam_1\n",
      "INFO:tensorflow:Waiting for model to be ready.  Ready_for_local_init_op:  None, ready: Variables not initialized: global/l1/W, global/l1/b, global/l2/W, global/l2/b, global/l3/W, global/l3/b, global/l4/W, global/l4/b, global/rnn/basic_lstm_cell/kernel, global/rnn/basic_lstm_cell/bias, global/action/w, global/action/b, global/value/w, global/value/b, global/global_step, global/global_episode, beta1_power, beta2_power, global/l1/W/Adam, global/l1/W/Adam_1, global/l1/b/Adam, global/l1/b/Adam_1, global/l2/W/Adam, global/l2/W/Adam_1, global/l2/b/Adam, global/l2/b/Adam_1, global/l3/W/Adam, global/l3/W/Adam_1, global/l3/b/Adam, global/l3/b/Adam_1, global/l4/W/Adam, global/l4/W/Adam_1, global/l4/b/Adam, global/l4/b/Adam_1, global/rnn/basic_lstm_cell/kernel/Adam, global/rnn/basic_lstm_cell/kernel/Adam_1, global/rnn/basic_lstm_cell/bias/Adam, global/rnn/basic_lstm_cell/bias/Adam_1, global/action/w/Adam, global/action/w/Adam_1, global/action/b/Adam, global/action/b/Adam_1, global/value/w/Adam, global/value/w/Adam_1, global/value/b/Adam, global/value/b/Adam_1\n"
     ]
    },
    {
     "name": "stderr",
     "output_type": "stream",
     "text": [
      "[2017-08-24 14:02:46,277] Waiting for model to be ready.  Ready_for_local_init_op:  None, ready: Variables not initialized: global/l1/W, global/l1/b, global/l2/W, global/l2/b, global/l3/W, global/l3/b, global/l4/W, global/l4/b, global/rnn/basic_lstm_cell/kernel, global/rnn/basic_lstm_cell/bias, global/action/w, global/action/b, global/value/w, global/value/b, global/global_step, global/global_episode, beta1_power, beta2_power, global/l1/W/Adam, global/l1/W/Adam_1, global/l1/b/Adam, global/l1/b/Adam_1, global/l2/W/Adam, global/l2/W/Adam_1, global/l2/b/Adam, global/l2/b/Adam_1, global/l3/W/Adam, global/l3/W/Adam_1, global/l3/b/Adam, global/l3/b/Adam_1, global/l4/W/Adam, global/l4/W/Adam_1, global/l4/b/Adam, global/l4/b/Adam_1, global/rnn/basic_lstm_cell/kernel/Adam, global/rnn/basic_lstm_cell/kernel/Adam_1, global/rnn/basic_lstm_cell/bias/Adam, global/rnn/basic_lstm_cell/bias/Adam_1, global/action/w/Adam, global/action/w/Adam_1, global/action/b/Adam, global/action/b/Adam_1, global/value/w/Adam, global/value/w/Adam_1, global/value/b/Adam, global/value/b/Adam_1\n"
     ]
    },
    {
     "name": "stdout",
     "output_type": "stream",
     "text": [
      "INFO:tensorflow:Waiting for model to be ready.  Ready_for_local_init_op:  None, ready: Variables not initialized: global/l1/W, global/l1/b, global/l2/W, global/l2/b, global/l3/W, global/l3/b, global/l4/W, global/l4/b, global/rnn/basic_lstm_cell/kernel, global/rnn/basic_lstm_cell/bias, global/action/w, global/action/b, global/value/w, global/value/b, global/global_step, global/global_episode, beta1_power, beta2_power, global/l1/W/Adam, global/l1/W/Adam_1, global/l1/b/Adam, global/l1/b/Adam_1, global/l2/W/Adam, global/l2/W/Adam_1, global/l2/b/Adam, global/l2/b/Adam_1, global/l3/W/Adam, global/l3/W/Adam_1, global/l3/b/Adam, global/l3/b/Adam_1, global/l4/W/Adam, global/l4/W/Adam_1, global/l4/b/Adam, global/l4/b/Adam_1, global/rnn/basic_lstm_cell/kernel/Adam, global/rnn/basic_lstm_cell/kernel/Adam_1, global/rnn/basic_lstm_cell/bias/Adam, global/rnn/basic_lstm_cell/bias/Adam_1, global/action/w/Adam, global/action/w/Adam_1, global/action/b/Adam, global/action/b/Adam_1, global/value/w/Adam, global/value/w/Adam_1, global/value/b/Adam, global/value/b/Adam_1\n"
     ]
    },
    {
     "name": "stderr",
     "output_type": "stream",
     "text": [
      "[2017-08-24 14:02:46,277] Waiting for model to be ready.  Ready_for_local_init_op:  None, ready: Variables not initialized: global/l1/W, global/l1/b, global/l2/W, global/l2/b, global/l3/W, global/l3/b, global/l4/W, global/l4/b, global/rnn/basic_lstm_cell/kernel, global/rnn/basic_lstm_cell/bias, global/action/w, global/action/b, global/value/w, global/value/b, global/global_step, global/global_episode, beta1_power, beta2_power, global/l1/W/Adam, global/l1/W/Adam_1, global/l1/b/Adam, global/l1/b/Adam_1, global/l2/W/Adam, global/l2/W/Adam_1, global/l2/b/Adam, global/l2/b/Adam_1, global/l3/W/Adam, global/l3/W/Adam_1, global/l3/b/Adam, global/l3/b/Adam_1, global/l4/W/Adam, global/l4/W/Adam_1, global/l4/b/Adam, global/l4/b/Adam_1, global/rnn/basic_lstm_cell/kernel/Adam, global/rnn/basic_lstm_cell/kernel/Adam_1, global/rnn/basic_lstm_cell/bias/Adam, global/rnn/basic_lstm_cell/bias/Adam_1, global/action/w/Adam, global/action/w/Adam_1, global/action/b/Adam, global/action/b/Adam_1, global/value/w/Adam, global/value/w/Adam_1, global/value/b/Adam, global/value/b/Adam_1\n",
      "[2017-08-24 14:02:46,287] Waiting for model to be ready.  Ready_for_local_init_op:  None, ready: Variables not initialized: global/l1/W, global/l1/b, global/l2/W, global/l2/b, global/l3/W, global/l3/b, global/l4/W, global/l4/b, global/rnn/basic_lstm_cell/kernel, global/rnn/basic_lstm_cell/bias, global/action/w, global/action/b, global/value/w, global/value/b, global/global_step, global/global_episode, beta1_power, beta2_power, global/l1/W/Adam, global/l1/W/Adam_1, global/l1/b/Adam, global/l1/b/Adam_1, global/l2/W/Adam, global/l2/W/Adam_1, global/l2/b/Adam, global/l2/b/Adam_1, global/l3/W/Adam, global/l3/W/Adam_1, global/l3/b/Adam, global/l3/b/Adam_1, global/l4/W/Adam, global/l4/W/Adam_1, global/l4/b/Adam, global/l4/b/Adam_1, global/rnn/basic_lstm_cell/kernel/Adam, global/rnn/basic_lstm_cell/kernel/Adam_1, global/rnn/basic_lstm_cell/bias/Adam, global/rnn/basic_lstm_cell/bias/Adam_1, global/action/w/Adam, global/action/w/Adam_1, global/action/b/Adam, global/action/b/Adam_1, global/value/w/Adam, global/value/w/Adam_1, global/value/b/Adam, global/value/b/Adam_1\n"
     ]
    },
    {
     "name": "stdout",
     "output_type": "stream",
     "text": [
      "INFO:tensorflow:Waiting for model to be ready.  Ready_for_local_init_op:  None, ready: Variables not initialized: global/l1/W, global/l1/b, global/l2/W, global/l2/b, global/l3/W, global/l3/b, global/l4/W, global/l4/b, global/rnn/basic_lstm_cell/kernel, global/rnn/basic_lstm_cell/bias, global/action/w, global/action/b, global/value/w, global/value/b, global/global_step, global/global_episode, beta1_power, beta2_power, global/l1/W/Adam, global/l1/W/Adam_1, global/l1/b/Adam, global/l1/b/Adam_1, global/l2/W/Adam, global/l2/W/Adam_1, global/l2/b/Adam, global/l2/b/Adam_1, global/l3/W/Adam, global/l3/W/Adam_1, global/l3/b/Adam, global/l3/b/Adam_1, global/l4/W/Adam, global/l4/W/Adam_1, global/l4/b/Adam, global/l4/b/Adam_1, global/rnn/basic_lstm_cell/kernel/Adam, global/rnn/basic_lstm_cell/kernel/Adam_1, global/rnn/basic_lstm_cell/bias/Adam, global/rnn/basic_lstm_cell/bias/Adam_1, global/action/w/Adam, global/action/w/Adam_1, global/action/b/Adam, global/action/b/Adam_1, global/value/w/Adam, global/value/w/Adam_1, global/value/b/Adam, global/value/b/Adam_1\n"
     ]
    },
    {
     "name": "stderr",
     "output_type": "stream",
     "text": [
      "[2017-08-24 14:02:46,299] Waiting for model to be ready.  Ready_for_local_init_op:  None, ready: Variables not initialized: global/l1/W, global/l1/b, global/l2/W, global/l2/b, global/l3/W, global/l3/b, global/l4/W, global/l4/b, global/rnn/basic_lstm_cell/kernel, global/rnn/basic_lstm_cell/bias, global/action/w, global/action/b, global/value/w, global/value/b, global/global_step, global/global_episode, beta1_power, beta2_power, global/l1/W/Adam, global/l1/W/Adam_1, global/l1/b/Adam, global/l1/b/Adam_1, global/l2/W/Adam, global/l2/W/Adam_1, global/l2/b/Adam, global/l2/b/Adam_1, global/l3/W/Adam, global/l3/W/Adam_1, global/l3/b/Adam, global/l3/b/Adam_1, global/l4/W/Adam, global/l4/W/Adam_1, global/l4/b/Adam, global/l4/b/Adam_1, global/rnn/basic_lstm_cell/kernel/Adam, global/rnn/basic_lstm_cell/kernel/Adam_1, global/rnn/basic_lstm_cell/bias/Adam, global/rnn/basic_lstm_cell/bias/Adam_1, global/action/w/Adam, global/action/w/Adam_1, global/action/b/Adam, global/action/b/Adam_1, global/value/w/Adam, global/value/w/Adam_1, global/value/b/Adam, global/value/b/Adam_1\n"
     ]
    },
    {
     "name": "stdout",
     "output_type": "stream",
     "text": [
      "INFO:tensorflow:Waiting for model to be ready.  Ready_for_local_init_op:  None, ready: Variables not initialized: global/l1/W, global/l1/b, global/l2/W, global/l2/b, global/l3/W, global/l3/b, global/l4/W, global/l4/b, global/rnn/basic_lstm_cell/kernel, global/rnn/basic_lstm_cell/bias, global/action/w, global/action/b, global/value/w, global/value/b, global/global_step, global/global_episode, beta1_power, beta2_power, global/l1/W/Adam, global/l1/W/Adam_1, global/l1/b/Adam, global/l1/b/Adam_1, global/l2/W/Adam, global/l2/W/Adam_1, global/l2/b/Adam, global/l2/b/Adam_1, global/l3/W/Adam, global/l3/W/Adam_1, global/l3/b/Adam, global/l3/b/Adam_1, global/l4/W/Adam, global/l4/W/Adam_1, global/l4/b/Adam, global/l4/b/Adam_1, global/rnn/basic_lstm_cell/kernel/Adam, global/rnn/basic_lstm_cell/kernel/Adam_1, global/rnn/basic_lstm_cell/bias/Adam, global/rnn/basic_lstm_cell/bias/Adam_1, global/action/w/Adam, global/action/w/Adam_1, global/action/b/Adam, global/action/b/Adam_1, global/value/w/Adam, global/value/w/Adam_1, global/value/b/Adam, global/value/b/Adam_1\n"
     ]
    },
    {
     "name": "stderr",
     "output_type": "stream",
     "text": [
      "[2017-08-24 14:02:46,306] Waiting for model to be ready.  Ready_for_local_init_op:  None, ready: Variables not initialized: global/l1/W, global/l1/b, global/l2/W, global/l2/b, global/l3/W, global/l3/b, global/l4/W, global/l4/b, global/rnn/basic_lstm_cell/kernel, global/rnn/basic_lstm_cell/bias, global/action/w, global/action/b, global/value/w, global/value/b, global/global_step, global/global_episode, beta1_power, beta2_power, global/l1/W/Adam, global/l1/W/Adam_1, global/l1/b/Adam, global/l1/b/Adam_1, global/l2/W/Adam, global/l2/W/Adam_1, global/l2/b/Adam, global/l2/b/Adam_1, global/l3/W/Adam, global/l3/W/Adam_1, global/l3/b/Adam, global/l3/b/Adam_1, global/l4/W/Adam, global/l4/W/Adam_1, global/l4/b/Adam, global/l4/b/Adam_1, global/rnn/basic_lstm_cell/kernel/Adam, global/rnn/basic_lstm_cell/kernel/Adam_1, global/rnn/basic_lstm_cell/bias/Adam, global/rnn/basic_lstm_cell/bias/Adam_1, global/action/w/Adam, global/action/w/Adam_1, global/action/b/Adam, global/action/b/Adam_1, global/value/w/Adam, global/value/w/Adam_1, global/value/b/Adam, global/value/b/Adam_1\n"
     ]
    },
    {
     "name": "stdout",
     "output_type": "stream",
     "text": [
      "INFO:tensorflow:Waiting for model to be ready.  Ready_for_local_init_op:  None, ready: Variables not initialized: global/l1/W, global/l1/b, global/l2/W, global/l2/b, global/l3/W, global/l3/b, global/l4/W, global/l4/b, global/rnn/basic_lstm_cell/kernel, global/rnn/basic_lstm_cell/bias, global/action/w, global/action/b, global/value/w, global/value/b, global/global_step, global/global_episode, beta1_power, beta2_power, global/l1/W/Adam, global/l1/W/Adam_1, global/l1/b/Adam, global/l1/b/Adam_1, global/l2/W/Adam, global/l2/W/Adam_1, global/l2/b/Adam, global/l2/b/Adam_1, global/l3/W/Adam, global/l3/W/Adam_1, global/l3/b/Adam, global/l3/b/Adam_1, global/l4/W/Adam, global/l4/W/Adam_1, global/l4/b/Adam, global/l4/b/Adam_1, global/rnn/basic_lstm_cell/kernel/Adam, global/rnn/basic_lstm_cell/kernel/Adam_1, global/rnn/basic_lstm_cell/bias/Adam, global/rnn/basic_lstm_cell/bias/Adam_1, global/action/w/Adam, global/action/w/Adam_1, global/action/b/Adam, global/action/b/Adam_1, global/value/w/Adam, global/value/w/Adam_1, global/value/b/Adam, global/value/b/Adam_1\n"
     ]
    },
    {
     "name": "stderr",
     "output_type": "stream",
     "text": [
      "[2017-08-24 14:02:46,317] Waiting for model to be ready.  Ready_for_local_init_op:  None, ready: Variables not initialized: global/l1/W, global/l1/b, global/l2/W, global/l2/b, global/l3/W, global/l3/b, global/l4/W, global/l4/b, global/rnn/basic_lstm_cell/kernel, global/rnn/basic_lstm_cell/bias, global/action/w, global/action/b, global/value/w, global/value/b, global/global_step, global/global_episode, beta1_power, beta2_power, global/l1/W/Adam, global/l1/W/Adam_1, global/l1/b/Adam, global/l1/b/Adam_1, global/l2/W/Adam, global/l2/W/Adam_1, global/l2/b/Adam, global/l2/b/Adam_1, global/l3/W/Adam, global/l3/W/Adam_1, global/l3/b/Adam, global/l3/b/Adam_1, global/l4/W/Adam, global/l4/W/Adam_1, global/l4/b/Adam, global/l4/b/Adam_1, global/rnn/basic_lstm_cell/kernel/Adam, global/rnn/basic_lstm_cell/kernel/Adam_1, global/rnn/basic_lstm_cell/bias/Adam, global/rnn/basic_lstm_cell/bias/Adam_1, global/action/w/Adam, global/action/w/Adam_1, global/action/b/Adam, global/action/b/Adam_1, global/value/w/Adam, global/value/w/Adam_1, global/value/b/Adam, global/value/b/Adam_1\n"
     ]
    },
    {
     "name": "stdout",
     "output_type": "stream",
     "text": [
      "INFO:tensorflow:Waiting for model to be ready.  Ready_for_local_init_op:  None, ready: Variables not initialized: global/l2/W, global/global_step, global/global_episode, beta1_power, beta2_power, global/l1/W/Adam, global/l2/W/Adam\n"
     ]
    },
    {
     "name": "stderr",
     "output_type": "stream",
     "text": [
      "[2017-08-24 14:02:46,410] Waiting for model to be ready.  Ready_for_local_init_op:  None, ready: Variables not initialized: global/l2/W, global/global_step, global/global_episode, beta1_power, beta2_power, global/l1/W/Adam, global/l2/W/Adam\n"
     ]
    },
    {
     "name": "stdout",
     "output_type": "stream",
     "text": [
      "INFO:tensorflow:Starting standard services.\n"
     ]
    },
    {
     "name": "stderr",
     "output_type": "stream",
     "text": [
      "[2017-08-24 14:02:49,109] Starting standard services.\n"
     ]
    },
    {
     "name": "stdout",
     "output_type": "stream",
     "text": [
      "INFO:tensorflow:Saving checkpoint to path ./tmp/a3c_testing/train/model.ckpt\n"
     ]
    },
    {
     "name": "stderr",
     "output_type": "stream",
     "text": [
      "[2017-08-24 14:02:49,119] Saving checkpoint to path ./tmp/a3c_testing/train/model.ckpt\n"
     ]
    },
    {
     "name": "stdout",
     "output_type": "stream",
     "text": [
      "INFO:tensorflow:Starting queue runners.\n",
      "INFO:tensorflow:global/global_step/sec: 0\n"
     ]
    },
    {
     "name": "stderr",
     "output_type": "stream",
     "text": [
      "[2017-08-24 14:02:49,119] Starting queue runners.\n",
      "[2017-08-24 14:02:49,121] global/global_step/sec: 0\n",
      "[2017-08-24 14:02:49,150] worker_0: starting training at step: 92425\n"
     ]
    },
    {
     "name": "stdout",
     "output_type": "stream",
     "text": [
      "INFO:tensorflow:Starting queue runners.\n"
     ]
    },
    {
     "name": "stderr",
     "output_type": "stream",
     "text": [
      "[2017-08-24 14:03:18,057] Starting queue runners.\n",
      "[2017-08-24 14:03:18,105] worker_3: starting training at step: 93536\n"
     ]
    },
    {
     "name": "stdout",
     "output_type": "stream",
     "text": [
      "INFO:tensorflow:Starting queue runners.\n",
      "INFO:tensorflow:Starting queue runners.\n",
      "INFO:tensorflow:Starting queue runners.\n"
     ]
    },
    {
     "name": "stderr",
     "output_type": "stream",
     "text": [
      "[2017-08-24 14:03:18,117] Starting queue runners.\n"
     ]
    },
    {
     "name": "stdout",
     "output_type": "stream",
     "text": [
      "INFO:tensorflow:Starting queue runners.\n",
      "INFO:tensorflow:Starting queue runners.\n"
     ]
    },
    {
     "name": "stderr",
     "output_type": "stream",
     "text": [
      "[2017-08-24 14:03:18,105] Starting queue runners.\n",
      "[2017-08-24 14:03:18,123] Starting queue runners.\n",
      "[2017-08-24 14:03:18,111] Starting queue runners.\n",
      "[2017-08-24 14:03:18,123] Starting queue runners.\n",
      "[2017-08-24 14:03:18,174] worker_1: starting training at step: 93536\n",
      "[2017-08-24 14:03:18,194] worker_6: starting training at step: 93536\n",
      "[2017-08-24 14:03:18,205] worker_4: starting training at step: 93536\n",
      "[2017-08-24 14:03:18,205] worker_2: starting training at step: 93536\n",
      "[2017-08-24 14:03:18,210] worker_5: starting training at step: 93536\n"
     ]
    },
    {
     "name": "stdout",
     "output_type": "stream",
     "text": [
      "INFO:tensorflow:Starting queue runners.\n"
     ]
    },
    {
     "name": "stderr",
     "output_type": "stream",
     "text": [
      "[2017-08-24 14:03:18,206] Starting queue runners.\n",
      "[2017-08-24 14:03:18,268] worker_7: starting training at step: 93536\n"
     ]
    }
   ],
   "source": [
    "launcher.run()"
   ]
  },
  {
   "cell_type": "code",
   "execution_count": null,
   "metadata": {
    "scrolled": false
   },
   "outputs": [],
   "source": [
    "print(launcher.kwargs, '\\n\\n')\n",
    "print(launcher.env_config)\n",
    "print(launcher.cluster_config)\n",
    "print(launcher.cluster_spec)\n",
    "for config in launcher.workers_config_list:\n",
    "    print('============')\n",
    "    for k, v in config.items():\n",
    "        print('{}:\\n{}\\n'.format(k, v))\n",
    "    "
   ]
  },
  {
   "cell_type": "code",
   "execution_count": null,
   "metadata": {
    "collapsed": true
   },
   "outputs": [],
   "source": [
    "def func1(max_step):\n",
    "    step = 0\n",
    "    done = False\n",
    "    \n",
    "    def func2(max_step):\n",
    "        nonlocal step\n",
    "        nonlocal done\n",
    "        step +=1\n",
    "        if step == max_step:\n",
    "            step = 0\n",
    "            done = True\n",
    "        return step\n",
    "    \n",
    "    for i in range(20):\n",
    "        done = False\n",
    "        print(func2(max_step), step, done)\n",
    "        \n",
    "\n",
    "\n",
    "func1(7)\n",
    "            "
   ]
  },
  {
   "cell_type": "code",
   "execution_count": null,
   "metadata": {
    "collapsed": true
   },
   "outputs": [],
   "source": [
    "a = dict()\n",
    "a.update({'b': 2, 'c':4})\n",
    "type(a) == dict"
   ]
  },
  {
   "cell_type": "code",
   "execution_count": null,
   "metadata": {
    "collapsed": true
   },
   "outputs": [],
   "source": []
  }
 ],
 "metadata": {
  "kernelspec": {
   "display_name": "Python 3",
   "language": "python",
   "name": "python3"
  },
  "language_info": {
   "codemirror_mode": {
    "name": "ipython",
    "version": 3
   },
   "file_extension": ".py",
   "mimetype": "text/x-python",
   "name": "python",
   "nbconvert_exporter": "python",
   "pygments_lexer": "ipython3",
   "version": "3.6.0"
  }
 },
 "nbformat": 4,
 "nbformat_minor": 2
}
