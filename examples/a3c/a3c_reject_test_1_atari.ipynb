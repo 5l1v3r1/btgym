{
 "cells": [
  {
   "cell_type": "markdown",
   "metadata": {
    "collapsed": true
   },
   "source": [
    "### A3C algorithm reject test: solving Atri environment.\n",
    "****\n",
    "**First of simple rejection tests.**\n",
    "- Reject test intuition: If overall algorithm implementation is correct, it should solve Atari environment. If not - stop and look for bugs.\n",
    "- A3C Launcher has built-in 'Gym-Atari' test mode wich is switched on by passing `test_mode=True` kwarg.\n",
    "- By default Launcher uses `LSTMPolicy2D` class wich is suited for Atari-like envs (e.g. 2D frames input). Look at source in `btgym/a3c/model.py`\n"
   ]
  },
  {
   "cell_type": "code",
   "execution_count": 2,
   "metadata": {
    "collapsed": true
   },
   "outputs": [],
   "source": [
    "from btgym.a3c import Launcher"
   ]
  },
  {
   "cell_type": "code",
   "execution_count": 3,
   "metadata": {},
   "outputs": [],
   "source": [
    "cluster_config = dict(\n",
    "    host='127.0.0.1',\n",
    "    port=42222,\n",
    "    num_workers=8,\n",
    "    num_ps=1,\n",
    "    log_dir='./tmp/a3c_test_gym',\n",
    ")\n",
    "\n",
    "env_config = dict(\n",
    "    gym_id='Breakout-v0'\n",
    ")\n",
    "\n",
    "A3C_atari_launcher = Launcher(\n",
    "    cluster_config=cluster_config,\n",
    "    env_config=env_config,\n",
    "    train_steps=1000000000,\n",
    "    opt_learn_rate=1e-4,\n",
    "    rollout_length=20,\n",
    "    test_mode=True,\n",
    "    model_summary_freq=50,\n",
    "    episode_summary_freq=2,\n",
    "    env_render_freq=10,\n",
    "    verbose=1\n",
    ")"
   ]
  },
  {
   "cell_type": "markdown",
   "metadata": {},
   "source": [
    "#### Check launcher parameters, if curious (longread!):"
   ]
  },
  {
   "cell_type": "code",
   "execution_count": null,
   "metadata": {
    "collapsed": true
   },
   "outputs": [],
   "source": [
    "print('PASSED KWARGS:\\n', A3C_atari_launcher.kwargs)\n",
    "print('\\nENV CONFIG:\\n', A3C_atari_launcher.env_config)\n",
    "print('\\nTF CLUSTER CONFIG:\\n', A3C_atari_launcher.cluster_config)\n",
    "print('\\nTF CLUSTER SPECIFICATION:\\n', A3C_atari_launcher.cluster_spec)\n",
    "for config in A3C_atari_launcher.workers_config_list:\n",
    "    print('\\n===== {}_{} FULL CONFIG:\\n'.format(config['job_name'], config['task']))\n",
    "    for k, v in config.items():\n",
    "        print('{}:\\n{}\\n'.format(k, v))"
   ]
  },
  {
   "cell_type": "markdown",
   "metadata": {},
   "source": [
    "#### Run it:\n",
    " - start tensorboard from console: **`tensorboard --logdir './tmp/a3c_test_gym'`** to track progress;\n",
    " - it should 'lift off' after about 2M steps."
   ]
  },
  {
   "cell_type": "code",
   "execution_count": null,
   "metadata": {
    "collapsed": true,
    "scrolled": false
   },
   "outputs": [],
   "source": [
    "A3C_atari_launcher.run()"
   ]
  },
  {
   "cell_type": "code",
   "execution_count": null,
   "metadata": {
    "collapsed": true
   },
   "outputs": [],
   "source": []
  }
 ],
 "metadata": {
  "kernelspec": {
   "display_name": "Python 3",
   "language": "python",
   "name": "python3"
  },
  "language_info": {
   "codemirror_mode": {
    "name": "ipython",
    "version": 3
   },
   "file_extension": ".py",
   "mimetype": "text/x-python",
   "name": "python",
   "nbconvert_exporter": "python",
   "pygments_lexer": "ipython3",
   "version": "3.6.0"
  }
 },
 "nbformat": 4,
 "nbformat_minor": 2
}
