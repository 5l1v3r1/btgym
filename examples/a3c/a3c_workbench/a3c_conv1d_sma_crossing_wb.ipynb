{
 "cells": [
  {
   "cell_type": "code",
   "execution_count": 1,
   "metadata": {
    "collapsed": true
   },
   "outputs": [],
   "source": [
    "import backtrader as bt\n",
    "import backtrader.indicators as btind\n",
    "import numpy as np\n",
    "import scipy.signal as signal\n",
    "from scipy import stats\n",
    "import pywt\n",
    "\n",
    "from gym import spaces\n",
    "\n",
    "from btgym import BTgymEnv, BTgymStrategy, BTgymDataset\n",
    "\n",
    "from btgym.a3c import Launcher, BaseLSTMPolicy\n",
    "\n",
    "import tensorflow as tf\n",
    "import tensorflow.contrib.rnn as rnn"
   ]
  },
  {
   "cell_type": "code",
   "execution_count": null,
   "metadata": {
    "collapsed": true
   },
   "outputs": [],
   "source": [
    "class Pooler():\n",
    "    def __init__(self, x, window, stride, pooling_type='MAX', padding='SAME'):\n",
    "        \"\"\"_____\"\"\"\n",
    "\n",
    "        self.out = tf.nn.pool(\n",
    "            input=x,\n",
    "            window_shape=window,\n",
    "            pooling_type=pooling_type,\n",
    "            padding=padding,\n",
    "            dilation_rate=None,\n",
    "            strides=stride,\n",
    "        )\n",
    "    "
   ]
  },
  {
   "cell_type": "code",
   "execution_count": 42,
   "metadata": {
    "collapsed": true
   },
   "outputs": [],
   "source": [
    "class LSTMPolicy1D(BaseLSTMPolicy):\n",
    "    \"\"\"\n",
    "    +++++\n",
    "    \"\"\"\n",
    "    def __init__(self, ob_space, ac_space, num_filters=32, filter_size=3, stride=2,\n",
    "                 lstm_class=rnn.BasicLSTMCell, lstm_layers=(256,)):\n",
    "        \n",
    "        self.x = x = tf.placeholder(tf.float32, [None] + list(ob_space), name='x_in_pl')\n",
    "        \n",
    "        #print('GOT HERE 0')\n",
    "        #print ('x:', x.shape)\n",
    "        \n",
    "        #smooth = Pooler(x, [3],[2],'MAX', 'SAME')\n",
    "        \n",
    "        #x = smooth.out\n",
    "    \n",
    "        # Conv layers:\n",
    "        for i in range(4):\n",
    "            x = tf.nn.elu(self.conv1d(x, num_filters, \"l{}\".format(i + 1), filter_size, stride))\n",
    "        \n",
    "        #print('GOT HERE 1')\n",
    "        #print('x_convolved:', x)\n",
    "        \n",
    "        # Run LSTM along rollout time dimension and evrything else:\n",
    "        super(LSTMPolicy1D, self).__init__(x, ob_space, ac_space, lstm_class, lstm_layers)\n",
    "        \n",
    "        \n",
    "    def conv1d(self, x, num_filters, name, filter_size=3, stride=2, pad=\"SAME\", dtype=tf.float32,\n",
    "               collections=None):\n",
    "        with tf.variable_scope(name):\n",
    "            stride_shape =  stride\n",
    "            \n",
    "            #print('stride_shape:',stride_shape)\n",
    "            \n",
    "            filter_shape = [filter_size, int(x.get_shape()[-1]), num_filters]\n",
    "            \n",
    "            #print('filter_shape:', filter_shape)\n",
    "            \n",
    "            # there are \"num input feature maps * filter height * filter width\"\n",
    "            # inputs to each hidden unit\n",
    "            fan_in = np.prod(filter_shape[:2])\n",
    "            \n",
    "            # each unit in the lower layer receives a gradient from:\n",
    "            # \"num output feature maps * filter height * filter width\" /\n",
    "            #   pooling size\n",
    "            fan_out = np.prod(filter_shape[:1]) * num_filters\n",
    "\n",
    "            # initialize weights with random weights\n",
    "            w_bound = np.sqrt(6. / (fan_in + fan_out))\n",
    "\n",
    "            w = tf.get_variable(\"W\", filter_shape, dtype, tf.random_uniform_initializer(-w_bound, w_bound),\n",
    "                                collections=collections)\n",
    "            b = tf.get_variable(\"b\", [1, 1, num_filters], initializer=tf.constant_initializer(0.0),\n",
    "                                collections=collections)\n",
    "            return tf.nn.conv1d(x, w, stride_shape, pad) + b\n",
    "   "
   ]
  },
  {
   "cell_type": "code",
   "execution_count": 43,
   "metadata": {
    "collapsed": true
   },
   "outputs": [],
   "source": [
    "class LSTMPolicy1dMulti(BaseLSTMPolicy):\n",
    "    \"\"\"\n",
    "    +++++\n",
    "    \"\"\"\n",
    "    def __init__(self, ob_space, ac_space, num_filters=32, filter_size=3, stride=2,\n",
    "                 lstm_class=rnn.BasicLSTMCell, lstm_layers=(256,)):\n",
    "        \n",
    "        self.x = x = tf.placeholder(tf.float32, [None] + list(ob_space), name='x_in_pl')\n",
    "        \n",
    "        #print('GOT HERE 0')\n",
    "        #print ('x:', x.shape)\n",
    "        \n",
    "        num_channels = int(x.get_shape()[-1])\n",
    "        \n",
    "        x_scaled = []\n",
    "        for channel in range(num_channels):\n",
    "            with tf.variable_scope('ch_{}'.format(channel + 1)):\n",
    "                z = x[..., channel][..., None]\n",
    "                # Conv layers:\n",
    "                for i in range(4):\n",
    "                    z = tf.nn.elu(self.conv1d(z, num_filters, \"l{}\".format(i + 1), filter_size, stride))\n",
    "                x_scaled += [z]\n",
    "                \n",
    "        x_scaled = tf.concat(x_scaled, axis=-1)\n",
    "        #print('GOT HERE 1')\n",
    "        #print('x_convolved:', x)\n",
    "        \n",
    "        # Run LSTM along rollout time dimension and evrything else:\n",
    "        super(LSTMPolicy1dMulti, self).__init__(x_scaled, ob_space, ac_space, lstm_class, lstm_layers)\n",
    "        \n",
    "        \n",
    "    def conv1d(self, x, num_filters, name, filter_size=3, stride=2, pad=\"SAME\", dtype=tf.float32,\n",
    "               collections=None):\n",
    "        with tf.variable_scope(name):\n",
    "            stride_shape =  stride\n",
    "            \n",
    "            #print('stride_shape:',stride_shape)\n",
    "            \n",
    "            filter_shape = [filter_size, int(x.get_shape()[-1]), num_filters]\n",
    "            \n",
    "            #print('filter_shape:', filter_shape)\n",
    "            \n",
    "            # there are \"num input feature maps * filter height * filter width\"\n",
    "            # inputs to each hidden unit\n",
    "            fan_in = np.prod(filter_shape[:2])\n",
    "            \n",
    "            # each unit in the lower layer receives a gradient from:\n",
    "            # \"num output feature maps * filter height * filter width\" /\n",
    "            #   pooling size\n",
    "            fan_out = np.prod(filter_shape[:1]) * num_filters\n",
    "\n",
    "            # initialize weights with random weights\n",
    "            w_bound = np.sqrt(6. / (fan_in + fan_out))\n",
    "\n",
    "            w = tf.get_variable(\"W\", filter_shape, dtype, tf.random_uniform_initializer(-w_bound, w_bound),\n",
    "                                collections=collections)\n",
    "            b = tf.get_variable(\"b\", [1, 1, num_filters], initializer=tf.constant_initializer(0.0),\n",
    "                                collections=collections)\n",
    "            return tf.nn.conv1d(x, w, stride_shape, pad) + b"
   ]
  },
  {
   "cell_type": "code",
   "execution_count": 44,
   "metadata": {
    "collapsed": true,
    "scrolled": false
   },
   "outputs": [],
   "source": [
    "#tf.reset_default_graph()\n",
    "#pi = LSTMPolicy1D((10,2),(3))"
   ]
  },
  {
   "cell_type": "code",
   "execution_count": 47,
   "metadata": {},
   "outputs": [
    {
     "name": "stderr",
     "output_type": "stream",
     "text": [
      "[2017-09-13 01:42:16,363] ./tmp/a3c_test_3 created.\n",
      "[2017-09-13 01:42:16,984] Launcher ready.\n"
     ]
    }
   ],
   "source": [
    "class MyStrategy(BTgymStrategy):\n",
    "    \"\"\"\n",
    "    Example subclass of BT server inner computation startegy.\n",
    "    \"\"\"\n",
    "    \n",
    "    def __init__(self, **kwargs):\n",
    "        super(MyStrategy, self).__init__(**kwargs)\n",
    "        self.order_penalty = 0\n",
    "        self.trade_just_closed = False\n",
    "        self.trade_result = None\n",
    "        self.episode_result = 0\n",
    "        \n",
    "        self.data.sma_4 = btind.SimpleMovingAverage(self.datas[0], period=4)\n",
    "        self.data.sma_8 = btind.SimpleMovingAverage(self.datas[0], period=8)\n",
    "        self.data.sma_16 = btind.SimpleMovingAverage(self.datas[0], period=16)\n",
    "        self.data.sma_32 = btind.SimpleMovingAverage(self.datas[0], period=32)\n",
    "        self.data.sma_64 = btind.SimpleMovingAverage(self.datas[0], period=64)\n",
    "        self.data.sma_128 = btind.SimpleMovingAverage(self.datas[0], period=128)\n",
    "        self.data.sma_256 = btind.SimpleMovingAverage(self.datas[0], period=256)\n",
    "        \n",
    "        self.data.sma_20 = btind.SimpleMovingAverage(self.datas[0], period=20)\n",
    "        \n",
    "        self.data.dim_sma = btind.SimpleMovingAverage(\n",
    "            self.datas[0],\n",
    "            period=(256 + self.p.state_shape['raw_state'].shape[0])\n",
    "        )\n",
    "        self.data.dim_sma.plotinfo.plot = False\n",
    "        \n",
    "    def notify_trade(self, trade):    \n",
    "        if trade.isclosed:\n",
    "            # Set trade flag and result:\n",
    "            self.trade_just_closed = True\n",
    "            self.trade_result = trade.pnlcomm\n",
    "        \n",
    "    def __get_state(self):\n",
    "        T = 1e4 \n",
    "        \n",
    "        d_x = np.frombuffer(self.data.sma_20.get(size=self.p.state_shape['raw_state'].shape[0])) -\\\n",
    "            np.frombuffer(self.data.sma_8.get(size=self.p.state_shape['raw_state'].shape[0]))\n",
    "        \n",
    "        #x[:,0] -= self.raw_state[0,0] \n",
    "        #x[:,1] += self.raw_state[0,0]\n",
    "        #d_x =  x * 1e2\n",
    "        \n",
    "\n",
    "        self.state['raw_state'] = self.raw_state\n",
    "        self.state['model_input'] = d_x[:, None] * T\n",
    "        \n",
    "        #print('raw_state:', self.state['raw_state'].shape)\n",
    "        #print('model_input:', self.state['model_input'] .shape)\n",
    "        \n",
    "        return self.state\n",
    "    \n",
    "    \n",
    "    def get_state(self):\n",
    "        T = 1e4 \n",
    "      \n",
    "        x = np.stack(\n",
    "            [\n",
    "                #self.raw_state[-16:,1],\n",
    "                #- self.raw_state[-16:,2],\n",
    "                np.frombuffer(self.data.open.get(size=self.p.state_shape['raw_state'].shape[0])),\n",
    "                np.frombuffer(self.data.sma_4.get(size=self.p.state_shape['raw_state'].shape[0])), \n",
    "                np.frombuffer(self.data.sma_8.get(size=self.p.state_shape['raw_state'].shape[0])), \n",
    "                np.frombuffer(self.data.sma_16.get(size=self.p.state_shape['raw_state'].shape[0])), \n",
    "                np.frombuffer(self.data.sma_32.get(size=self.p.state_shape['raw_state'].shape[0])),\n",
    "                np.frombuffer(self.data.sma_64.get(size=self.p.state_shape['raw_state'].shape[0])),\n",
    "                np.frombuffer(self.data.sma_128.get(size=self.p.state_shape['raw_state'].shape[0])),\n",
    "                np.frombuffer(self.data.sma_256.get(size=self.p.state_shape['raw_state'].shape[0])), \n",
    "            ], \n",
    "            axis=-1\n",
    "        )\n",
    "        \n",
    "        d_x = np.gradient(x, axis=1) * T\n",
    "        \n",
    "        #x[:,0] -= self.raw_state[0,0] \n",
    "        #x[:,1] += self.raw_state[0,0]\n",
    "        #d_x =  x * 1e2\n",
    "        \n",
    "\n",
    "        self.state['raw_state'] = self.raw_state\n",
    "        self.state['model_input'] = d_x\n",
    "        \n",
    "        #print('raw_state:', self.state['raw_state'].shape)\n",
    "        #print('model_input:', self.state['model_input'] .shape)\n",
    "        \n",
    "        return self.state\n",
    "    \n",
    "    def get_reward(self):\n",
    "        \"\"\"\n",
    "        Defines reward as function of last closed trade result with penalty for erronious order placement.\n",
    "        \"\"\"\n",
    "        # Low-value term:\n",
    "        r = (self.broker.get_value() / self.env.broker.startingcash - 1.0) * 10\n",
    "        \n",
    "        #r = 0\n",
    "        \n",
    "        # Single trade result:\n",
    "        if self.trade_just_closed:\n",
    "            r += self.trade_result * (1 + self.iteration * 1e-4) \n",
    "            self.trade_just_closed = False\n",
    "            \n",
    "        # Penalty for failed order:\n",
    "        #if self.order_failed:\n",
    "        #    r -= self.order_penalty\n",
    "        #    self.order_failed = False\n",
    "            \n",
    "        # Final value:\n",
    "        #if self.is_done:\n",
    "        #    r = (self.broker.get_value() / self.env.broker.startingcash - 1.0) * 100\n",
    "        \n",
    "        \n",
    "            \n",
    "        # Time penalty:\n",
    "        r -= self.iteration * 1e-5\n",
    "\n",
    "        return r / 40  # since reward is just quick-example, denominator is here to keep gradients sane\n",
    "    \n",
    "# Set backtesting engine parameters:\n",
    "\n",
    "time_embed_dim = 16\n",
    "\n",
    "state_shape = {\n",
    "    'raw_state': spaces.Box(low=-100, high=100, shape=(time_embed_dim, 4)),\n",
    "    'model_input': spaces.Box(low=-100, high=100, shape=(time_embed_dim, 8))\n",
    "}\n",
    "\n",
    "MyCerebro = bt.Cerebro()\n",
    "\n",
    "MyCerebro.addstrategy(\n",
    "    MyStrategy,\n",
    "    state_shape=state_shape,\n",
    "    #portfolio_actions=('close_hold', 'buy_hold', 'sell_hold'),\n",
    "    portfolio_actions=('hold', 'buy', 'sell'),\n",
    "    drawdown_call=5, # max to loose, in percent of initial cash\n",
    "    target_call=8,  # max to win, same\n",
    "    skip_frame=10,\n",
    ")\n",
    "\n",
    "# Set leveraged account:\n",
    "MyCerebro.broker.setcash(2000)\n",
    "MyCerebro.broker.setcommission(commission=0.0001, leverage=10.0) # commisssion to imitate spread\n",
    "MyCerebro.broker.set_shortcash(False)\n",
    "MyCerebro.addsizer(bt.sizers.SizerFix, stake=10000,)\n",
    "\n",
    "MyCerebro.addanalyzer(bt.analyzers.DrawDown)\n",
    "\n",
    "MyDataset = BTgymDataset(\n",
    "    #filename='../examples/data/DAT_ASCII_EURUSD_M1_2016.csv',\n",
    "    filename='../examples/data/DAT_ASCII_EURUSD_M1_201703.csv',\n",
    "    #filename=['../examples/data/DAT_ASCII_EURUSD_M1_201703.csv',\n",
    "    #          '../examples/data/DAT_ASCII_EURUSD_M1_201704.csv'],\n",
    "    #filename='../examples/data/DAT_ASCII_EURUSD_M1_201704.csv',\n",
    "    #filename='../examples/data/test_sine_1min_period256_delta0002.csv',\n",
    "    start_weekdays=[0, 1, 2, 3, 4],\n",
    "    episode_len_days=1,\n",
    "    episode_len_hours=2,\n",
    "    episode_len_minutes=0,\n",
    "    start_00=False,\n",
    "    time_gap_hours=6,\n",
    ")\n",
    "env_config = dict(\n",
    "    dataset=MyDataset,\n",
    "    engine=MyCerebro,\n",
    "    render_modes=['episode', 'human', 'model_input'],\n",
    "    render_state_as_image=False,\n",
    "    render_ylabel='Something',\n",
    "    render_size_episode=(12,8),\n",
    "    render_size_human=(10, 5),\n",
    "    render_size_state=(10, 5),\n",
    "    render_dpi=75,\n",
    "    port=5000,\n",
    "    data_port=4999,\n",
    "    connect_timeout=60,\n",
    "    verbose=0,\n",
    ")\n",
    "\n",
    "# Set tensorflow distributed cluster and a3c configuration:\n",
    "cluster_config = dict(\n",
    "    host='127.0.0.1',\n",
    "    port=12222,\n",
    "    num_workers=8,\n",
    "    num_ps=1,\n",
    "    log_dir='./tmp/a3c_test_3',\n",
    ")\n",
    "launcher = Launcher(\n",
    "    cluster_config=cluster_config,\n",
    "    env_class=BTgymEnv,\n",
    "    env_config=env_config,\n",
    "    policy_class=LSTMPolicy1D,\n",
    "    #policy_class=LSTMPolicy1dMulti,\n",
    "    policy_config={'lstm_layers': (256,)},\n",
    "    rollout_length=20,\n",
    "    model_beta=0.03,\n",
    "    test_mode=False,\n",
    "    train_steps=1000000000,\n",
    "    model_summary_freq=20,\n",
    "    episode_summary_freq=1,\n",
    "    env_render_freq=10,\n",
    "    verbose=2\n",
    "    \n",
    ")"
   ]
  },
  {
   "cell_type": "code",
   "execution_count": null,
   "metadata": {
    "scrolled": false
   },
   "outputs": [
    {
     "name": "stderr",
     "output_type": "stream",
     "text": [
      "[2017-09-13 01:42:17,961] worker_0 tf.server started.\n",
      "[2017-09-13 01:42:17,966] parameters_server started.\n",
      "[2017-09-13 01:42:18,033] making environment.\n",
      "[2017-09-13 01:42:18,034] worker_0 is data_master: True\n",
      "[2017-09-13 01:42:20,257] worker_0:envronment ok.\n",
      "[2017-09-13 01:42:20,260] A3C_0: init() started\n",
      "[2017-09-13 01:42:22,197] A3C_0: train op defined\n",
      "[2017-09-13 01:42:22,265] A3C_0: init() done\n",
      "[2017-09-13 01:42:22,266] worker_0:trainer ok.\n",
      "[2017-09-13 01:42:22,852] Press `Ctrl-C` to stop training and close launcher.\n",
      "[2017-09-13 01:42:22,843] worker_1 tf.server started.\n",
      "[2017-09-13 01:42:22,848] worker_2 tf.server started.\n",
      "[2017-09-13 01:42:22,853] worker_3 tf.server started.\n",
      "[2017-09-13 01:42:22,865] making environment.\n",
      "[2017-09-13 01:42:22,859] making environment.\n",
      "[2017-09-13 01:42:22,859] worker_4 tf.server started.\n",
      "[2017-09-13 01:42:22,865] making environment.\n",
      "[2017-09-13 01:42:22,862] worker_5 tf.server started.\n",
      "[2017-09-13 01:42:22,868] worker_3 is data_master: False\n",
      "[2017-09-13 01:42:22,868] worker_6 tf.server started.\n",
      "[2017-09-13 01:42:22,872] worker_2 is data_master: False\n",
      "[2017-09-13 01:42:22,871] making environment.\n",
      "[2017-09-13 01:42:22,871] worker_1 is data_master: False\n",
      "[2017-09-13 01:42:22,873] making environment.\n",
      "[2017-09-13 01:42:22,876] making environment.\n",
      "[2017-09-13 01:42:22,875] worker_7 tf.server started.\n",
      "[2017-09-13 01:42:22,878] worker_4 is data_master: False\n",
      "[2017-09-13 01:42:22,880] making environment.\n",
      "[2017-09-13 01:42:22,878] worker_5 is data_master: False\n",
      "[2017-09-13 01:42:22,878] worker_6 is data_master: False\n",
      "[2017-09-13 01:42:22,882] worker_7 is data_master: False\n"
     ]
    },
    {
     "name": "stdout",
     "output_type": "stream",
     "text": [
      "Press `Ctrl-C` to stop training and close launcher.\n"
     ]
    },
    {
     "name": "stderr",
     "output_type": "stream",
     "text": [
      "[2017-09-13 01:42:23,481] worker_0: connecting to the parameter server... \n",
      "[2017-09-13 01:42:23,960] worker_3:envronment ok.\n",
      "[2017-09-13 01:42:23,963] A3C_3: init() started\n",
      "[2017-09-13 01:42:24,084] worker_7:envronment ok.\n",
      "[2017-09-13 01:42:24,088] A3C_7: init() started\n",
      "[2017-09-13 01:42:24,113] worker_1:envronment ok.\n",
      "[2017-09-13 01:42:24,117] A3C_1: init() started\n",
      "[2017-09-13 01:42:24,130] Initializing all parameters.\n",
      "[2017-09-13 01:42:24,133] worker_2:envronment ok.\n",
      "[2017-09-13 01:42:24,136] A3C_2: init() started\n",
      "[2017-09-13 01:42:24,165] worker_4:envronment ok.\n",
      "[2017-09-13 01:42:24,170] A3C_4: init() started\n",
      "[2017-09-13 01:42:24,194] worker_5:envronment ok.\n",
      "[2017-09-13 01:42:24,203] worker_6:envronment ok.\n",
      "[2017-09-13 01:42:24,209] A3C_5: init() started\n",
      "[2017-09-13 01:42:24,217] A3C_6: init() started\n",
      "[2017-09-13 01:42:27,399] A3C_3: train op defined\n",
      "[2017-09-13 01:42:27,538] A3C_3: init() done\n",
      "[2017-09-13 01:42:27,540] worker_3:trainer ok.\n",
      "[2017-09-13 01:42:27,670] A3C_7: train op defined\n",
      "[2017-09-13 01:42:27,696] A3C_1: train op defined\n",
      "[2017-09-13 01:42:27,745] A3C_4: train op defined\n",
      "[2017-09-13 01:42:27,798] A3C_2: train op defined\n",
      "[2017-09-13 01:42:27,815] A3C_7: init() done\n",
      "[2017-09-13 01:42:27,813] A3C_6: train op defined\n",
      "[2017-09-13 01:42:27,827] A3C_5: train op defined\n",
      "[2017-09-13 01:42:27,820] worker_7:trainer ok.\n",
      "[2017-09-13 01:42:27,868] A3C_1: init() done\n",
      "[2017-09-13 01:42:27,880] worker_1:trainer ok.\n",
      "[2017-09-13 01:42:27,933] A3C_4: init() done\n",
      "[2017-09-13 01:42:27,947] worker_4:trainer ok.\n",
      "[2017-09-13 01:42:27,963] A3C_2: init() done\n",
      "[2017-09-13 01:42:27,990] A3C_5: init() done\n",
      "[2017-09-13 01:42:27,992] A3C_6: init() done\n",
      "[2017-09-13 01:42:27,986] worker_2:trainer ok.\n",
      "[2017-09-13 01:42:27,997] worker_5:trainer ok.\n",
      "[2017-09-13 01:42:27,998] worker_6:trainer ok.\n",
      "[2017-09-13 01:42:29,822] worker_3: connecting to the parameter server... \n",
      "[2017-09-13 01:42:30,070] worker_7: connecting to the parameter server... \n",
      "[2017-09-13 01:42:30,167] worker_4: connecting to the parameter server... \n",
      "[2017-09-13 01:42:30,180] worker_1: connecting to the parameter server... \n"
     ]
    },
    {
     "name": "stdout",
     "output_type": "stream",
     "text": [
      "INFO:tensorflow:Starting standard services.\n"
     ]
    },
    {
     "name": "stderr",
     "output_type": "stream",
     "text": [
      "[2017-09-13 01:42:30,204] worker_5: connecting to the parameter server... \n",
      "[2017-09-13 01:42:30,200] worker_2: connecting to the parameter server... \n",
      "[2017-09-13 01:42:30,196] Starting standard services.\n",
      "[2017-09-13 01:42:30,235] worker_6: connecting to the parameter server... \n"
     ]
    },
    {
     "name": "stdout",
     "output_type": "stream",
     "text": [
      "INFO:tensorflow:Saving checkpoint to path ./tmp/a3c_test_3/train/model.ckpt\n"
     ]
    },
    {
     "name": "stderr",
     "output_type": "stream",
     "text": [
      "[2017-09-13 01:42:30,268] Saving checkpoint to path ./tmp/a3c_test_3/train/model.ckpt\n"
     ]
    },
    {
     "name": "stdout",
     "output_type": "stream",
     "text": [
      "INFO:tensorflow:Starting queue runners.\n"
     ]
    },
    {
     "name": "stderr",
     "output_type": "stream",
     "text": [
      "[2017-09-13 01:42:30,270] Starting queue runners.\n"
     ]
    },
    {
     "name": "stdout",
     "output_type": "stream",
     "text": [
      "INFO:tensorflow:global/global_step/sec: 0\n"
     ]
    },
    {
     "name": "stderr",
     "output_type": "stream",
     "text": [
      "[2017-09-13 01:42:30,285] global/global_step/sec: 0\n",
      "[2017-09-13 01:42:30,402] worker_0: starting training at step: 0\n"
     ]
    },
    {
     "name": "stdout",
     "output_type": "stream",
     "text": [
      "INFO:tensorflow:Starting queue runners.\n"
     ]
    },
    {
     "name": "stderr",
     "output_type": "stream",
     "text": [
      "[2017-09-13 01:42:31,057] Starting queue runners.\n",
      "[2017-09-13 01:42:31,113] worker_3: starting training at step: 0\n"
     ]
    },
    {
     "name": "stdout",
     "output_type": "stream",
     "text": [
      "INFO:tensorflow:Starting queue runners.\n"
     ]
    },
    {
     "name": "stderr",
     "output_type": "stream",
     "text": [
      "[2017-09-13 01:42:31,389] Starting queue runners.\n",
      "[2017-09-13 01:42:31,450] worker_7: starting training at step: 20\n"
     ]
    },
    {
     "name": "stdout",
     "output_type": "stream",
     "text": [
      "INFO:tensorflow:Starting queue runners.\n"
     ]
    },
    {
     "name": "stderr",
     "output_type": "stream",
     "text": [
      "[2017-09-13 01:42:31,515] Starting queue runners.\n"
     ]
    },
    {
     "name": "stdout",
     "output_type": "stream",
     "text": [
      "INFO:tensorflow:Starting queue runners.\n"
     ]
    },
    {
     "name": "stderr",
     "output_type": "stream",
     "text": [
      "[2017-09-13 01:42:31,576] worker_4: starting training at step: 20\n",
      "[2017-09-13 01:42:31,553] Starting queue runners.\n"
     ]
    },
    {
     "name": "stdout",
     "output_type": "stream",
     "text": [
      "INFO:tensorflow:Starting queue runners.\n",
      "INFO:tensorflow:Starting queue runners.\n"
     ]
    },
    {
     "name": "stderr",
     "output_type": "stream",
     "text": [
      "[2017-09-13 01:42:31,612] Starting queue runners.\n",
      "[2017-09-13 01:42:31,629] worker_5: starting training at step: 40\n",
      "[2017-09-13 01:42:31,612] Starting queue runners.\n",
      "[2017-09-13 01:42:31,685] worker_1: starting training at step: 40\n",
      "[2017-09-13 01:42:31,696] worker_2: starting training at step: 40\n"
     ]
    },
    {
     "name": "stdout",
     "output_type": "stream",
     "text": [
      "INFO:tensorflow:Starting queue runners.\n"
     ]
    },
    {
     "name": "stderr",
     "output_type": "stream",
     "text": [
      "[2017-09-13 01:42:31,751] Starting queue runners.\n",
      "[2017-09-13 01:42:31,805] worker_6: starting training at step: 40\n"
     ]
    },
    {
     "name": "stdout",
     "output_type": "stream",
     "text": [
      "INFO:tensorflow:global/global_step/sec: 287.315\n"
     ]
    },
    {
     "name": "stderr",
     "output_type": "stream",
     "text": [
      "[2017-09-13 01:44:30,279] global/global_step/sec: 287.315\n"
     ]
    },
    {
     "name": "stdout",
     "output_type": "stream",
     "text": [
      "INFO:tensorflow:global/global_step/sec: 286.357\n"
     ]
    },
    {
     "name": "stderr",
     "output_type": "stream",
     "text": [
      "[2017-09-13 01:46:30,277] global/global_step/sec: 286.357\n"
     ]
    },
    {
     "name": "stdout",
     "output_type": "stream",
     "text": [
      "INFO:tensorflow:Saving checkpoint to path ./tmp/a3c_test_3/train/model.ckpt\n"
     ]
    },
    {
     "name": "stderr",
     "output_type": "stream",
     "text": [
      "[2017-09-13 01:47:30,259] Saving checkpoint to path ./tmp/a3c_test_3/train/model.ckpt\n"
     ]
    },
    {
     "name": "stdout",
     "output_type": "stream",
     "text": [
      "INFO:tensorflow:global/global_step/sec: 306.431\n"
     ]
    },
    {
     "name": "stderr",
     "output_type": "stream",
     "text": [
      "[2017-09-13 01:48:30,270] global/global_step/sec: 306.431\n"
     ]
    },
    {
     "name": "stdout",
     "output_type": "stream",
     "text": [
      "INFO:tensorflow:global/global_step/sec: 299.958\n"
     ]
    },
    {
     "name": "stderr",
     "output_type": "stream",
     "text": [
      "[2017-09-13 01:50:30,278] global/global_step/sec: 299.958\n"
     ]
    },
    {
     "name": "stdout",
     "output_type": "stream",
     "text": [
      "INFO:tensorflow:Saving checkpoint to path ./tmp/a3c_test_3/train/model.ckpt\n"
     ]
    },
    {
     "name": "stderr",
     "output_type": "stream",
     "text": [
      "[2017-09-13 01:52:30,255] Saving checkpoint to path ./tmp/a3c_test_3/train/model.ckpt\n"
     ]
    },
    {
     "name": "stdout",
     "output_type": "stream",
     "text": [
      "INFO:tensorflow:global/global_step/sec: 305.834\n"
     ]
    },
    {
     "name": "stderr",
     "output_type": "stream",
     "text": [
      "[2017-09-13 01:52:30,268] global/global_step/sec: 305.834\n"
     ]
    },
    {
     "name": "stdout",
     "output_type": "stream",
     "text": [
      "INFO:tensorflow:global/global_step/sec: 303.587\n"
     ]
    },
    {
     "name": "stderr",
     "output_type": "stream",
     "text": [
      "[2017-09-13 01:54:30,279] global/global_step/sec: 303.587\n"
     ]
    },
    {
     "name": "stdout",
     "output_type": "stream",
     "text": [
      "INFO:tensorflow:global/global_step/sec: 308.965\n"
     ]
    },
    {
     "name": "stderr",
     "output_type": "stream",
     "text": [
      "[2017-09-13 01:56:30,280] global/global_step/sec: 308.965\n"
     ]
    },
    {
     "name": "stdout",
     "output_type": "stream",
     "text": [
      "INFO:tensorflow:Saving checkpoint to path ./tmp/a3c_test_3/train/model.ckpt\n"
     ]
    },
    {
     "name": "stderr",
     "output_type": "stream",
     "text": [
      "[2017-09-13 01:57:30,259] Saving checkpoint to path ./tmp/a3c_test_3/train/model.ckpt\n"
     ]
    },
    {
     "name": "stdout",
     "output_type": "stream",
     "text": [
      "INFO:tensorflow:global/global_step/sec: 310.632\n"
     ]
    },
    {
     "name": "stderr",
     "output_type": "stream",
     "text": [
      "[2017-09-13 01:58:30,279] global/global_step/sec: 310.632\n"
     ]
    },
    {
     "name": "stdout",
     "output_type": "stream",
     "text": [
      "INFO:tensorflow:global/global_step/sec: 323.613\n"
     ]
    },
    {
     "name": "stderr",
     "output_type": "stream",
     "text": [
      "[2017-09-13 02:00:30,272] global/global_step/sec: 323.613\n"
     ]
    },
    {
     "name": "stdout",
     "output_type": "stream",
     "text": [
      "INFO:tensorflow:Saving checkpoint to path ./tmp/a3c_test_3/train/model.ckpt\n"
     ]
    },
    {
     "name": "stderr",
     "output_type": "stream",
     "text": [
      "[2017-09-13 02:02:30,256] Saving checkpoint to path ./tmp/a3c_test_3/train/model.ckpt\n"
     ]
    },
    {
     "name": "stdout",
     "output_type": "stream",
     "text": [
      "INFO:tensorflow:Saving checkpoint to path ./tmp/a3c_test_3/train/model.ckpt\n"
     ]
    },
    {
     "name": "stderr",
     "output_type": "stream",
     "text": [
      "[2017-09-13 02:07:30,264] Saving checkpoint to path ./tmp/a3c_test_3/train/model.ckpt\n"
     ]
    },
    {
     "name": "stdout",
     "output_type": "stream",
     "text": [
      "INFO:tensorflow:Saving checkpoint to path ./tmp/a3c_test_3/train/model.ckpt\n"
     ]
    },
    {
     "name": "stderr",
     "output_type": "stream",
     "text": [
      "[2017-09-13 02:12:30,263] Saving checkpoint to path ./tmp/a3c_test_3/train/model.ckpt\n"
     ]
    },
    {
     "name": "stdout",
     "output_type": "stream",
     "text": [
      "INFO:tensorflow:Saving checkpoint to path ./tmp/a3c_test_3/train/model.ckpt\n"
     ]
    },
    {
     "name": "stderr",
     "output_type": "stream",
     "text": [
      "[2017-09-13 02:17:30,258] Saving checkpoint to path ./tmp/a3c_test_3/train/model.ckpt\n"
     ]
    },
    {
     "name": "stdout",
     "output_type": "stream",
     "text": [
      "INFO:tensorflow:Saving checkpoint to path ./tmp/a3c_test_3/train/model.ckpt\n"
     ]
    },
    {
     "name": "stderr",
     "output_type": "stream",
     "text": [
      "[2017-09-13 02:22:30,262] Saving checkpoint to path ./tmp/a3c_test_3/train/model.ckpt\n"
     ]
    },
    {
     "name": "stdout",
     "output_type": "stream",
     "text": [
      "INFO:tensorflow:Saving checkpoint to path ./tmp/a3c_test_3/train/model.ckpt\n"
     ]
    },
    {
     "name": "stderr",
     "output_type": "stream",
     "text": [
      "[2017-09-13 02:27:30,259] Saving checkpoint to path ./tmp/a3c_test_3/train/model.ckpt\n"
     ]
    },
    {
     "name": "stdout",
     "output_type": "stream",
     "text": [
      "INFO:tensorflow:Saving checkpoint to path ./tmp/a3c_test_3/train/model.ckpt\n"
     ]
    },
    {
     "name": "stderr",
     "output_type": "stream",
     "text": [
      "[2017-09-13 02:32:30,262] Saving checkpoint to path ./tmp/a3c_test_3/train/model.ckpt\n"
     ]
    },
    {
     "name": "stdout",
     "output_type": "stream",
     "text": [
      "INFO:tensorflow:Saving checkpoint to path ./tmp/a3c_test_3/train/model.ckpt\n"
     ]
    },
    {
     "name": "stderr",
     "output_type": "stream",
     "text": [
      "[2017-09-13 02:37:30,264] Saving checkpoint to path ./tmp/a3c_test_3/train/model.ckpt\n"
     ]
    },
    {
     "name": "stdout",
     "output_type": "stream",
     "text": [
      "INFO:tensorflow:Saving checkpoint to path ./tmp/a3c_test_3/train/model.ckpt\n"
     ]
    },
    {
     "name": "stderr",
     "output_type": "stream",
     "text": [
      "[2017-09-13 02:42:30,256] Saving checkpoint to path ./tmp/a3c_test_3/train/model.ckpt\n"
     ]
    },
    {
     "name": "stdout",
     "output_type": "stream",
     "text": [
      "INFO:tensorflow:Saving checkpoint to path ./tmp/a3c_test_3/train/model.ckpt\n"
     ]
    },
    {
     "name": "stderr",
     "output_type": "stream",
     "text": [
      "[2017-09-13 02:47:30,265] Saving checkpoint to path ./tmp/a3c_test_3/train/model.ckpt\n"
     ]
    },
    {
     "name": "stdout",
     "output_type": "stream",
     "text": [
      "INFO:tensorflow:Saving checkpoint to path ./tmp/a3c_test_3/train/model.ckpt\n"
     ]
    },
    {
     "name": "stderr",
     "output_type": "stream",
     "text": [
      "[2017-09-13 02:52:30,256] Saving checkpoint to path ./tmp/a3c_test_3/train/model.ckpt\n"
     ]
    },
    {
     "name": "stdout",
     "output_type": "stream",
     "text": [
      "INFO:tensorflow:Saving checkpoint to path ./tmp/a3c_test_3/train/model.ckpt\n"
     ]
    },
    {
     "name": "stderr",
     "output_type": "stream",
     "text": [
      "[2017-09-13 02:57:30,261] Saving checkpoint to path ./tmp/a3c_test_3/train/model.ckpt\n"
     ]
    },
    {
     "name": "stdout",
     "output_type": "stream",
     "text": [
      "INFO:tensorflow:Saving checkpoint to path ./tmp/a3c_test_3/train/model.ckpt\n"
     ]
    },
    {
     "name": "stderr",
     "output_type": "stream",
     "text": [
      "[2017-09-13 03:02:30,258] Saving checkpoint to path ./tmp/a3c_test_3/train/model.ckpt\n"
     ]
    },
    {
     "name": "stdout",
     "output_type": "stream",
     "text": [
      "INFO:tensorflow:Saving checkpoint to path ./tmp/a3c_test_3/train/model.ckpt\n"
     ]
    },
    {
     "name": "stderr",
     "output_type": "stream",
     "text": [
      "[2017-09-13 03:07:30,258] Saving checkpoint to path ./tmp/a3c_test_3/train/model.ckpt\n"
     ]
    },
    {
     "name": "stdout",
     "output_type": "stream",
     "text": [
      "INFO:tensorflow:Saving checkpoint to path ./tmp/a3c_test_3/train/model.ckpt\n"
     ]
    },
    {
     "name": "stderr",
     "output_type": "stream",
     "text": [
      "[2017-09-13 03:12:30,260] Saving checkpoint to path ./tmp/a3c_test_3/train/model.ckpt\n"
     ]
    },
    {
     "name": "stdout",
     "output_type": "stream",
     "text": [
      "INFO:tensorflow:Saving checkpoint to path ./tmp/a3c_test_3/train/model.ckpt\n"
     ]
    },
    {
     "name": "stderr",
     "output_type": "stream",
     "text": [
      "[2017-09-13 03:17:30,265] Saving checkpoint to path ./tmp/a3c_test_3/train/model.ckpt\n"
     ]
    },
    {
     "name": "stdout",
     "output_type": "stream",
     "text": [
      "INFO:tensorflow:Saving checkpoint to path ./tmp/a3c_test_3/train/model.ckpt\n"
     ]
    },
    {
     "name": "stderr",
     "output_type": "stream",
     "text": [
      "[2017-09-13 03:22:30,257] Saving checkpoint to path ./tmp/a3c_test_3/train/model.ckpt\n"
     ]
    },
    {
     "name": "stdout",
     "output_type": "stream",
     "text": [
      "INFO:tensorflow:Saving checkpoint to path ./tmp/a3c_test_3/train/model.ckpt\n"
     ]
    },
    {
     "name": "stderr",
     "output_type": "stream",
     "text": [
      "[2017-09-13 03:27:30,260] Saving checkpoint to path ./tmp/a3c_test_3/train/model.ckpt\n"
     ]
    },
    {
     "name": "stdout",
     "output_type": "stream",
     "text": [
      "INFO:tensorflow:Saving checkpoint to path ./tmp/a3c_test_3/train/model.ckpt\n"
     ]
    },
    {
     "name": "stderr",
     "output_type": "stream",
     "text": [
      "[2017-09-13 03:32:30,259] Saving checkpoint to path ./tmp/a3c_test_3/train/model.ckpt\n"
     ]
    },
    {
     "name": "stdout",
     "output_type": "stream",
     "text": [
      "INFO:tensorflow:Saving checkpoint to path ./tmp/a3c_test_3/train/model.ckpt\n"
     ]
    },
    {
     "name": "stderr",
     "output_type": "stream",
     "text": [
      "[2017-09-13 03:37:30,257] Saving checkpoint to path ./tmp/a3c_test_3/train/model.ckpt\n"
     ]
    },
    {
     "name": "stdout",
     "output_type": "stream",
     "text": [
      "INFO:tensorflow:Saving checkpoint to path ./tmp/a3c_test_3/train/model.ckpt\n"
     ]
    },
    {
     "name": "stderr",
     "output_type": "stream",
     "text": [
      "[2017-09-13 03:42:30,259] Saving checkpoint to path ./tmp/a3c_test_3/train/model.ckpt\n"
     ]
    },
    {
     "name": "stdout",
     "output_type": "stream",
     "text": [
      "INFO:tensorflow:Saving checkpoint to path ./tmp/a3c_test_3/train/model.ckpt\n"
     ]
    },
    {
     "name": "stderr",
     "output_type": "stream",
     "text": [
      "[2017-09-13 03:47:30,260] Saving checkpoint to path ./tmp/a3c_test_3/train/model.ckpt\n"
     ]
    },
    {
     "name": "stdout",
     "output_type": "stream",
     "text": [
      "INFO:tensorflow:Saving checkpoint to path ./tmp/a3c_test_3/train/model.ckpt\n"
     ]
    },
    {
     "name": "stderr",
     "output_type": "stream",
     "text": [
      "[2017-09-13 03:52:30,258] Saving checkpoint to path ./tmp/a3c_test_3/train/model.ckpt\n"
     ]
    },
    {
     "name": "stdout",
     "output_type": "stream",
     "text": [
      "INFO:tensorflow:Saving checkpoint to path ./tmp/a3c_test_3/train/model.ckpt\n"
     ]
    },
    {
     "name": "stderr",
     "output_type": "stream",
     "text": [
      "[2017-09-13 03:57:30,261] Saving checkpoint to path ./tmp/a3c_test_3/train/model.ckpt\n"
     ]
    },
    {
     "name": "stdout",
     "output_type": "stream",
     "text": [
      "INFO:tensorflow:Saving checkpoint to path ./tmp/a3c_test_3/train/model.ckpt\n"
     ]
    },
    {
     "name": "stderr",
     "output_type": "stream",
     "text": [
      "[2017-09-13 04:02:30,283] Saving checkpoint to path ./tmp/a3c_test_3/train/model.ckpt\n"
     ]
    },
    {
     "name": "stdout",
     "output_type": "stream",
     "text": [
      "INFO:tensorflow:Saving checkpoint to path ./tmp/a3c_test_3/train/model.ckpt\n"
     ]
    },
    {
     "name": "stderr",
     "output_type": "stream",
     "text": [
      "[2017-09-13 04:07:30,264] Saving checkpoint to path ./tmp/a3c_test_3/train/model.ckpt\n"
     ]
    },
    {
     "name": "stdout",
     "output_type": "stream",
     "text": [
      "INFO:tensorflow:Saving checkpoint to path ./tmp/a3c_test_3/train/model.ckpt\n"
     ]
    },
    {
     "name": "stderr",
     "output_type": "stream",
     "text": [
      "[2017-09-13 04:12:30,264] Saving checkpoint to path ./tmp/a3c_test_3/train/model.ckpt\n"
     ]
    },
    {
     "name": "stdout",
     "output_type": "stream",
     "text": [
      "INFO:tensorflow:Saving checkpoint to path ./tmp/a3c_test_3/train/model.ckpt\n"
     ]
    },
    {
     "name": "stderr",
     "output_type": "stream",
     "text": [
      "[2017-09-13 04:17:30,261] Saving checkpoint to path ./tmp/a3c_test_3/train/model.ckpt\n"
     ]
    },
    {
     "name": "stdout",
     "output_type": "stream",
     "text": [
      "INFO:tensorflow:Saving checkpoint to path ./tmp/a3c_test_3/train/model.ckpt\n"
     ]
    },
    {
     "name": "stderr",
     "output_type": "stream",
     "text": [
      "[2017-09-13 04:22:30,257] Saving checkpoint to path ./tmp/a3c_test_3/train/model.ckpt\n"
     ]
    },
    {
     "name": "stdout",
     "output_type": "stream",
     "text": [
      "INFO:tensorflow:Saving checkpoint to path ./tmp/a3c_test_3/train/model.ckpt\n"
     ]
    },
    {
     "name": "stderr",
     "output_type": "stream",
     "text": [
      "[2017-09-13 04:27:30,263] Saving checkpoint to path ./tmp/a3c_test_3/train/model.ckpt\n"
     ]
    },
    {
     "name": "stdout",
     "output_type": "stream",
     "text": [
      "INFO:tensorflow:Saving checkpoint to path ./tmp/a3c_test_3/train/model.ckpt\n"
     ]
    },
    {
     "name": "stderr",
     "output_type": "stream",
     "text": [
      "[2017-09-13 04:32:30,263] Saving checkpoint to path ./tmp/a3c_test_3/train/model.ckpt\n"
     ]
    },
    {
     "name": "stdout",
     "output_type": "stream",
     "text": [
      "INFO:tensorflow:Saving checkpoint to path ./tmp/a3c_test_3/train/model.ckpt\n"
     ]
    },
    {
     "name": "stderr",
     "output_type": "stream",
     "text": [
      "[2017-09-13 04:37:30,257] Saving checkpoint to path ./tmp/a3c_test_3/train/model.ckpt\n"
     ]
    },
    {
     "name": "stdout",
     "output_type": "stream",
     "text": [
      "INFO:tensorflow:Saving checkpoint to path ./tmp/a3c_test_3/train/model.ckpt\n"
     ]
    },
    {
     "name": "stderr",
     "output_type": "stream",
     "text": [
      "[2017-09-13 04:42:30,257] Saving checkpoint to path ./tmp/a3c_test_3/train/model.ckpt\n"
     ]
    },
    {
     "name": "stdout",
     "output_type": "stream",
     "text": [
      "INFO:tensorflow:Saving checkpoint to path ./tmp/a3c_test_3/train/model.ckpt\n"
     ]
    },
    {
     "name": "stderr",
     "output_type": "stream",
     "text": [
      "[2017-09-13 04:47:30,264] Saving checkpoint to path ./tmp/a3c_test_3/train/model.ckpt\n"
     ]
    },
    {
     "name": "stdout",
     "output_type": "stream",
     "text": [
      "INFO:tensorflow:Saving checkpoint to path ./tmp/a3c_test_3/train/model.ckpt\n"
     ]
    },
    {
     "name": "stderr",
     "output_type": "stream",
     "text": [
      "[2017-09-13 04:52:30,258] Saving checkpoint to path ./tmp/a3c_test_3/train/model.ckpt\n"
     ]
    },
    {
     "name": "stdout",
     "output_type": "stream",
     "text": [
      "INFO:tensorflow:Saving checkpoint to path ./tmp/a3c_test_3/train/model.ckpt\n"
     ]
    },
    {
     "name": "stderr",
     "output_type": "stream",
     "text": [
      "[2017-09-13 04:57:30,260] Saving checkpoint to path ./tmp/a3c_test_3/train/model.ckpt\n"
     ]
    },
    {
     "name": "stdout",
     "output_type": "stream",
     "text": [
      "INFO:tensorflow:Saving checkpoint to path ./tmp/a3c_test_3/train/model.ckpt\n"
     ]
    },
    {
     "name": "stderr",
     "output_type": "stream",
     "text": [
      "[2017-09-13 05:02:30,256] Saving checkpoint to path ./tmp/a3c_test_3/train/model.ckpt\n"
     ]
    },
    {
     "name": "stdout",
     "output_type": "stream",
     "text": [
      "INFO:tensorflow:Saving checkpoint to path ./tmp/a3c_test_3/train/model.ckpt\n"
     ]
    },
    {
     "name": "stderr",
     "output_type": "stream",
     "text": [
      "[2017-09-13 05:07:30,261] Saving checkpoint to path ./tmp/a3c_test_3/train/model.ckpt\n"
     ]
    },
    {
     "name": "stdout",
     "output_type": "stream",
     "text": [
      "INFO:tensorflow:Saving checkpoint to path ./tmp/a3c_test_3/train/model.ckpt\n"
     ]
    },
    {
     "name": "stderr",
     "output_type": "stream",
     "text": [
      "[2017-09-13 05:12:30,263] Saving checkpoint to path ./tmp/a3c_test_3/train/model.ckpt\n"
     ]
    },
    {
     "name": "stdout",
     "output_type": "stream",
     "text": [
      "INFO:tensorflow:Saving checkpoint to path ./tmp/a3c_test_3/train/model.ckpt\n"
     ]
    },
    {
     "name": "stderr",
     "output_type": "stream",
     "text": [
      "[2017-09-13 05:17:30,264] Saving checkpoint to path ./tmp/a3c_test_3/train/model.ckpt\n"
     ]
    },
    {
     "name": "stdout",
     "output_type": "stream",
     "text": [
      "INFO:tensorflow:Saving checkpoint to path ./tmp/a3c_test_3/train/model.ckpt\n"
     ]
    },
    {
     "name": "stderr",
     "output_type": "stream",
     "text": [
      "[2017-09-13 05:22:30,263] Saving checkpoint to path ./tmp/a3c_test_3/train/model.ckpt\n"
     ]
    },
    {
     "name": "stdout",
     "output_type": "stream",
     "text": [
      "INFO:tensorflow:Saving checkpoint to path ./tmp/a3c_test_3/train/model.ckpt\n"
     ]
    },
    {
     "name": "stderr",
     "output_type": "stream",
     "text": [
      "[2017-09-13 05:27:30,258] Saving checkpoint to path ./tmp/a3c_test_3/train/model.ckpt\n"
     ]
    },
    {
     "name": "stdout",
     "output_type": "stream",
     "text": [
      "INFO:tensorflow:Saving checkpoint to path ./tmp/a3c_test_3/train/model.ckpt\n"
     ]
    },
    {
     "name": "stderr",
     "output_type": "stream",
     "text": [
      "[2017-09-13 05:32:30,257] Saving checkpoint to path ./tmp/a3c_test_3/train/model.ckpt\n"
     ]
    },
    {
     "name": "stdout",
     "output_type": "stream",
     "text": [
      "INFO:tensorflow:Saving checkpoint to path ./tmp/a3c_test_3/train/model.ckpt\n"
     ]
    },
    {
     "name": "stderr",
     "output_type": "stream",
     "text": [
      "[2017-09-13 05:37:30,260] Saving checkpoint to path ./tmp/a3c_test_3/train/model.ckpt\n"
     ]
    },
    {
     "name": "stdout",
     "output_type": "stream",
     "text": [
      "INFO:tensorflow:Saving checkpoint to path ./tmp/a3c_test_3/train/model.ckpt\n"
     ]
    },
    {
     "name": "stderr",
     "output_type": "stream",
     "text": [
      "[2017-09-13 05:42:30,258] Saving checkpoint to path ./tmp/a3c_test_3/train/model.ckpt\n"
     ]
    },
    {
     "name": "stdout",
     "output_type": "stream",
     "text": [
      "INFO:tensorflow:Saving checkpoint to path ./tmp/a3c_test_3/train/model.ckpt\n"
     ]
    },
    {
     "name": "stderr",
     "output_type": "stream",
     "text": [
      "[2017-09-13 05:47:30,257] Saving checkpoint to path ./tmp/a3c_test_3/train/model.ckpt\n"
     ]
    },
    {
     "name": "stdout",
     "output_type": "stream",
     "text": [
      "INFO:tensorflow:Saving checkpoint to path ./tmp/a3c_test_3/train/model.ckpt\n"
     ]
    },
    {
     "name": "stderr",
     "output_type": "stream",
     "text": [
      "[2017-09-13 05:52:30,259] Saving checkpoint to path ./tmp/a3c_test_3/train/model.ckpt\n"
     ]
    },
    {
     "name": "stdout",
     "output_type": "stream",
     "text": [
      "INFO:tensorflow:Saving checkpoint to path ./tmp/a3c_test_3/train/model.ckpt\n"
     ]
    },
    {
     "name": "stderr",
     "output_type": "stream",
     "text": [
      "[2017-09-13 05:57:30,263] Saving checkpoint to path ./tmp/a3c_test_3/train/model.ckpt\n"
     ]
    },
    {
     "name": "stdout",
     "output_type": "stream",
     "text": [
      "INFO:tensorflow:Saving checkpoint to path ./tmp/a3c_test_3/train/model.ckpt\n"
     ]
    },
    {
     "name": "stderr",
     "output_type": "stream",
     "text": [
      "[2017-09-13 06:02:30,262] Saving checkpoint to path ./tmp/a3c_test_3/train/model.ckpt\n"
     ]
    },
    {
     "name": "stdout",
     "output_type": "stream",
     "text": [
      "INFO:tensorflow:Saving checkpoint to path ./tmp/a3c_test_3/train/model.ckpt\n"
     ]
    },
    {
     "name": "stderr",
     "output_type": "stream",
     "text": [
      "[2017-09-13 06:07:30,261] Saving checkpoint to path ./tmp/a3c_test_3/train/model.ckpt\n"
     ]
    },
    {
     "name": "stdout",
     "output_type": "stream",
     "text": [
      "INFO:tensorflow:Saving checkpoint to path ./tmp/a3c_test_3/train/model.ckpt\n"
     ]
    },
    {
     "name": "stderr",
     "output_type": "stream",
     "text": [
      "[2017-09-13 06:12:30,265] Saving checkpoint to path ./tmp/a3c_test_3/train/model.ckpt\n"
     ]
    },
    {
     "name": "stdout",
     "output_type": "stream",
     "text": [
      "INFO:tensorflow:Saving checkpoint to path ./tmp/a3c_test_3/train/model.ckpt\n"
     ]
    },
    {
     "name": "stderr",
     "output_type": "stream",
     "text": [
      "[2017-09-13 06:17:30,260] Saving checkpoint to path ./tmp/a3c_test_3/train/model.ckpt\n"
     ]
    },
    {
     "name": "stdout",
     "output_type": "stream",
     "text": [
      "INFO:tensorflow:Saving checkpoint to path ./tmp/a3c_test_3/train/model.ckpt\n"
     ]
    },
    {
     "name": "stderr",
     "output_type": "stream",
     "text": [
      "[2017-09-13 06:22:30,257] Saving checkpoint to path ./tmp/a3c_test_3/train/model.ckpt\n"
     ]
    },
    {
     "name": "stdout",
     "output_type": "stream",
     "text": [
      "INFO:tensorflow:Saving checkpoint to path ./tmp/a3c_test_3/train/model.ckpt\n"
     ]
    },
    {
     "name": "stderr",
     "output_type": "stream",
     "text": [
      "[2017-09-13 06:27:30,259] Saving checkpoint to path ./tmp/a3c_test_3/train/model.ckpt\n"
     ]
    },
    {
     "name": "stdout",
     "output_type": "stream",
     "text": [
      "INFO:tensorflow:Saving checkpoint to path ./tmp/a3c_test_3/train/model.ckpt\n"
     ]
    },
    {
     "name": "stderr",
     "output_type": "stream",
     "text": [
      "[2017-09-13 06:32:30,263] Saving checkpoint to path ./tmp/a3c_test_3/train/model.ckpt\n"
     ]
    },
    {
     "name": "stdout",
     "output_type": "stream",
     "text": [
      "INFO:tensorflow:Saving checkpoint to path ./tmp/a3c_test_3/train/model.ckpt\n"
     ]
    },
    {
     "name": "stderr",
     "output_type": "stream",
     "text": [
      "[2017-09-13 06:37:30,257] Saving checkpoint to path ./tmp/a3c_test_3/train/model.ckpt\n"
     ]
    },
    {
     "name": "stdout",
     "output_type": "stream",
     "text": [
      "INFO:tensorflow:Saving checkpoint to path ./tmp/a3c_test_3/train/model.ckpt\n"
     ]
    },
    {
     "name": "stderr",
     "output_type": "stream",
     "text": [
      "[2017-09-13 06:42:30,257] Saving checkpoint to path ./tmp/a3c_test_3/train/model.ckpt\n"
     ]
    },
    {
     "name": "stdout",
     "output_type": "stream",
     "text": [
      "INFO:tensorflow:Saving checkpoint to path ./tmp/a3c_test_3/train/model.ckpt\n"
     ]
    },
    {
     "name": "stderr",
     "output_type": "stream",
     "text": [
      "[2017-09-13 06:47:30,257] Saving checkpoint to path ./tmp/a3c_test_3/train/model.ckpt\n"
     ]
    },
    {
     "name": "stdout",
     "output_type": "stream",
     "text": [
      "INFO:tensorflow:Saving checkpoint to path ./tmp/a3c_test_3/train/model.ckpt\n"
     ]
    },
    {
     "name": "stderr",
     "output_type": "stream",
     "text": [
      "[2017-09-13 06:52:30,256] Saving checkpoint to path ./tmp/a3c_test_3/train/model.ckpt\n"
     ]
    },
    {
     "name": "stdout",
     "output_type": "stream",
     "text": [
      "INFO:tensorflow:Saving checkpoint to path ./tmp/a3c_test_3/train/model.ckpt\n"
     ]
    },
    {
     "name": "stderr",
     "output_type": "stream",
     "text": [
      "[2017-09-13 06:57:30,258] Saving checkpoint to path ./tmp/a3c_test_3/train/model.ckpt\n"
     ]
    },
    {
     "name": "stdout",
     "output_type": "stream",
     "text": [
      "INFO:tensorflow:Saving checkpoint to path ./tmp/a3c_test_3/train/model.ckpt\n"
     ]
    },
    {
     "name": "stderr",
     "output_type": "stream",
     "text": [
      "[2017-09-13 07:02:30,257] Saving checkpoint to path ./tmp/a3c_test_3/train/model.ckpt\n"
     ]
    },
    {
     "name": "stdout",
     "output_type": "stream",
     "text": [
      "INFO:tensorflow:Saving checkpoint to path ./tmp/a3c_test_3/train/model.ckpt\n"
     ]
    },
    {
     "name": "stderr",
     "output_type": "stream",
     "text": [
      "[2017-09-13 07:07:30,256] Saving checkpoint to path ./tmp/a3c_test_3/train/model.ckpt\n"
     ]
    },
    {
     "name": "stdout",
     "output_type": "stream",
     "text": [
      "INFO:tensorflow:Saving checkpoint to path ./tmp/a3c_test_3/train/model.ckpt\n"
     ]
    },
    {
     "name": "stderr",
     "output_type": "stream",
     "text": [
      "[2017-09-13 07:12:30,263] Saving checkpoint to path ./tmp/a3c_test_3/train/model.ckpt\n"
     ]
    },
    {
     "name": "stdout",
     "output_type": "stream",
     "text": [
      "INFO:tensorflow:Saving checkpoint to path ./tmp/a3c_test_3/train/model.ckpt\n"
     ]
    },
    {
     "name": "stderr",
     "output_type": "stream",
     "text": [
      "[2017-09-13 07:17:30,258] Saving checkpoint to path ./tmp/a3c_test_3/train/model.ckpt\n"
     ]
    },
    {
     "name": "stdout",
     "output_type": "stream",
     "text": [
      "INFO:tensorflow:Saving checkpoint to path ./tmp/a3c_test_3/train/model.ckpt\n"
     ]
    },
    {
     "name": "stderr",
     "output_type": "stream",
     "text": [
      "[2017-09-13 07:22:30,257] Saving checkpoint to path ./tmp/a3c_test_3/train/model.ckpt\n"
     ]
    },
    {
     "name": "stdout",
     "output_type": "stream",
     "text": [
      "INFO:tensorflow:Saving checkpoint to path ./tmp/a3c_test_3/train/model.ckpt\n"
     ]
    },
    {
     "name": "stderr",
     "output_type": "stream",
     "text": [
      "[2017-09-13 07:27:30,259] Saving checkpoint to path ./tmp/a3c_test_3/train/model.ckpt\n"
     ]
    },
    {
     "name": "stdout",
     "output_type": "stream",
     "text": [
      "INFO:tensorflow:Saving checkpoint to path ./tmp/a3c_test_3/train/model.ckpt\n"
     ]
    },
    {
     "name": "stderr",
     "output_type": "stream",
     "text": [
      "[2017-09-13 07:32:30,261] Saving checkpoint to path ./tmp/a3c_test_3/train/model.ckpt\n"
     ]
    },
    {
     "name": "stdout",
     "output_type": "stream",
     "text": [
      "INFO:tensorflow:Saving checkpoint to path ./tmp/a3c_test_3/train/model.ckpt\n"
     ]
    },
    {
     "name": "stderr",
     "output_type": "stream",
     "text": [
      "[2017-09-13 07:37:30,258] Saving checkpoint to path ./tmp/a3c_test_3/train/model.ckpt\n"
     ]
    },
    {
     "name": "stdout",
     "output_type": "stream",
     "text": [
      "INFO:tensorflow:Saving checkpoint to path ./tmp/a3c_test_3/train/model.ckpt\n"
     ]
    },
    {
     "name": "stderr",
     "output_type": "stream",
     "text": [
      "[2017-09-13 07:42:30,256] Saving checkpoint to path ./tmp/a3c_test_3/train/model.ckpt\n"
     ]
    },
    {
     "name": "stdout",
     "output_type": "stream",
     "text": [
      "INFO:tensorflow:Saving checkpoint to path ./tmp/a3c_test_3/train/model.ckpt\n"
     ]
    },
    {
     "name": "stderr",
     "output_type": "stream",
     "text": [
      "[2017-09-13 07:47:30,260] Saving checkpoint to path ./tmp/a3c_test_3/train/model.ckpt\n"
     ]
    },
    {
     "name": "stdout",
     "output_type": "stream",
     "text": [
      "INFO:tensorflow:Saving checkpoint to path ./tmp/a3c_test_3/train/model.ckpt\n"
     ]
    },
    {
     "name": "stderr",
     "output_type": "stream",
     "text": [
      "[2017-09-13 07:52:30,261] Saving checkpoint to path ./tmp/a3c_test_3/train/model.ckpt\n"
     ]
    },
    {
     "name": "stdout",
     "output_type": "stream",
     "text": [
      "INFO:tensorflow:Saving checkpoint to path ./tmp/a3c_test_3/train/model.ckpt\n"
     ]
    },
    {
     "name": "stderr",
     "output_type": "stream",
     "text": [
      "[2017-09-13 07:57:30,263] Saving checkpoint to path ./tmp/a3c_test_3/train/model.ckpt\n"
     ]
    },
    {
     "name": "stdout",
     "output_type": "stream",
     "text": [
      "INFO:tensorflow:Saving checkpoint to path ./tmp/a3c_test_3/train/model.ckpt\n"
     ]
    },
    {
     "name": "stderr",
     "output_type": "stream",
     "text": [
      "[2017-09-13 08:02:30,261] Saving checkpoint to path ./tmp/a3c_test_3/train/model.ckpt\n"
     ]
    },
    {
     "name": "stdout",
     "output_type": "stream",
     "text": [
      "INFO:tensorflow:Saving checkpoint to path ./tmp/a3c_test_3/train/model.ckpt\n"
     ]
    },
    {
     "name": "stderr",
     "output_type": "stream",
     "text": [
      "[2017-09-13 08:07:30,264] Saving checkpoint to path ./tmp/a3c_test_3/train/model.ckpt\n"
     ]
    },
    {
     "name": "stdout",
     "output_type": "stream",
     "text": [
      "INFO:tensorflow:Saving checkpoint to path ./tmp/a3c_test_3/train/model.ckpt\n"
     ]
    },
    {
     "name": "stderr",
     "output_type": "stream",
     "text": [
      "[2017-09-13 08:12:30,255] Saving checkpoint to path ./tmp/a3c_test_3/train/model.ckpt\n"
     ]
    }
   ],
   "source": [
    "launcher.run()"
   ]
  },
  {
   "cell_type": "code",
   "execution_count": 23,
   "metadata": {},
   "outputs": [],
   "source": [
    "env_config.update({'port': 5090, 'data_port': 5089})\n",
    "env = BTgymEnv(**env_config)"
   ]
  },
  {
   "cell_type": "code",
   "execution_count": 24,
   "metadata": {},
   "outputs": [],
   "source": [
    "o = env.reset()"
   ]
  },
  {
   "cell_type": "code",
   "execution_count": 25,
   "metadata": {},
   "outputs": [
    {
     "data": {
      "text/plain": [
       "(16, 1)"
      ]
     },
     "execution_count": 25,
     "metadata": {},
     "output_type": "execute_result"
    }
   ],
   "source": [
    "o['model_input'].shape"
   ]
  },
  {
   "cell_type": "code",
   "execution_count": 26,
   "metadata": {},
   "outputs": [
    {
     "name": "stdout",
     "output_type": "stream",
     "text": [
      "{'raw_state': array([[ 1.100314,  1.100324,  1.100304,  1.100319],\n",
      "       [ 1.10029 ,  1.1003  ,  1.10028 ,  1.100295],\n",
      "       [ 1.100267,  1.100277,  1.100257,  1.100272],\n",
      "       [ 1.100243,  1.100253,  1.100233,  1.100248],\n",
      "       [ 1.100219,  1.100229,  1.100209,  1.100224],\n",
      "       [ 1.100195,  1.100205,  1.100185,  1.1002  ],\n",
      "       [ 1.100171,  1.100181,  1.100161,  1.100176],\n",
      "       [ 1.100147,  1.100157,  1.100137,  1.100152],\n",
      "       [ 1.100122,  1.100132,  1.100112,  1.100127],\n",
      "       [ 1.100098,  1.100108,  1.100088,  1.100103],\n",
      "       [ 1.100074,  1.100084,  1.100064,  1.100079],\n",
      "       [ 1.100049,  1.100059,  1.100039,  1.100054],\n",
      "       [ 1.100025,  1.100035,  1.100015,  1.10003 ],\n",
      "       [ 1.1     ,  1.10001 ,  1.09999 ,  1.100005],\n",
      "       [ 1.099975,  1.099985,  1.099965,  1.09998 ],\n",
      "       [ 1.099951,  1.099961,  1.099941,  1.099956]]), 'model_input': array([[ 1.2595 ],\n",
      "       [ 1.27725],\n",
      "       [ 1.2945 ],\n",
      "       [ 1.31125],\n",
      "       [ 1.32675],\n",
      "       [ 1.34225],\n",
      "       [ 1.3565 ],\n",
      "       [ 1.3695 ],\n",
      "       [ 1.3825 ],\n",
      "       [ 1.3935 ],\n",
      "       [ 1.40425],\n",
      "       [ 1.41425],\n",
      "       [ 1.42275],\n",
      "       [ 1.431  ],\n",
      "       [ 1.4385 ],\n",
      "       [ 1.445  ]])}\n"
     ]
    }
   ],
   "source": [
    "o,r,d,i = env.step(0)\n",
    "print(o)"
   ]
  },
  {
   "cell_type": "code",
   "execution_count": 27,
   "metadata": {
    "collapsed": true
   },
   "outputs": [],
   "source": [
    "env.close()"
   ]
  },
  {
   "cell_type": "code",
   "execution_count": null,
   "metadata": {
    "collapsed": true,
    "scrolled": false
   },
   "outputs": [],
   "source": [
    "MyStrategy.inner_embedding"
   ]
  },
  {
   "cell_type": "code",
   "execution_count": null,
   "metadata": {
    "collapsed": true
   },
   "outputs": [],
   "source": [
    "a = np.arange(10)"
   ]
  },
  {
   "cell_type": "code",
   "execution_count": null,
   "metadata": {},
   "outputs": [],
   "source": [
    "a"
   ]
  },
  {
   "cell_type": "code",
   "execution_count": null,
   "metadata": {},
   "outputs": [],
   "source": [
    "a[-5:]"
   ]
  },
  {
   "cell_type": "code",
   "execution_count": null,
   "metadata": {
    "collapsed": true
   },
   "outputs": [],
   "source": []
  }
 ],
 "metadata": {
  "kernelspec": {
   "display_name": "Python 3",
   "language": "python",
   "name": "python3"
  },
  "language_info": {
   "codemirror_mode": {
    "name": "ipython",
    "version": 3
   },
   "file_extension": ".py",
   "mimetype": "text/x-python",
   "name": "python",
   "nbconvert_exporter": "python",
   "pygments_lexer": "ipython3",
   "version": "3.6.0"
  }
 },
 "nbformat": 4,
 "nbformat_minor": 2
}
