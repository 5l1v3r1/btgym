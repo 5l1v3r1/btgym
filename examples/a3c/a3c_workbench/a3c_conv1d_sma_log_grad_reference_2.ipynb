{
 "cells": [
  {
   "cell_type": "code",
   "execution_count": 2,
   "metadata": {
    "collapsed": true
   },
   "outputs": [],
   "source": [
    "import backtrader as bt\n",
    "import backtrader.indicators as btind\n",
    "import numpy as np\n",
    "\n",
    "from gym import spaces\n",
    "\n",
    "from btgym import BTgymEnv, BTgymStrategy, BTgymDataset\n",
    "\n",
    "from btgym.a3c import Launcher, BaseLSTMPolicy\n",
    "\n",
    "import tensorflow as tf\n",
    "import tensorflow.contrib.rnn as rnn\n",
    "from tensorflow.python.util.nest import flatten as flatten_nested"
   ]
  },
  {
   "cell_type": "code",
   "execution_count": 3,
   "metadata": {
    "collapsed": true
   },
   "outputs": [],
   "source": [
    "class LSTMPolicy1D(BaseLSTMPolicy):\n",
    "    \"\"\"\n",
    "    A3C LSTM policy with 1D convolutions.\n",
    "    \"\"\"\n",
    "    def __init__(self, ob_space, ac_space, num_filters=32, filter_size=5, stride=2,\n",
    "                 lstm_class=rnn.BasicLSTMCell, lstm_layers=(256,)):\n",
    "        \n",
    "        self.x = x = tf.placeholder(tf.float32, [None] + list(ob_space), name='x_in_pl')\n",
    "\n",
    "        # Conv layers:\n",
    "        for i in range(4):\n",
    "            x = tf.nn.elu(self.conv1d(x, num_filters, \"l{}\".format(i + 1), filter_size, stride))\n",
    "      \n",
    "        # Run LSTM along rollout time dimension and evrything else:\n",
    "        super(LSTMPolicy1D, self).__init__(x, ob_space, ac_space, lstm_class, lstm_layers)\n",
    "           \n",
    "    def conv1d(self, x, num_filters, name, filter_size=3, stride=2, pad=\"SAME\", dtype=tf.float32,\n",
    "               collections=None):\n",
    "        with tf.variable_scope(name):\n",
    "            stride_shape =  stride\n",
    "            \n",
    "            #print('stride_shape:',stride_shape)\n",
    "            \n",
    "            filter_shape = [filter_size, int(x.get_shape()[-1]), num_filters]\n",
    "            \n",
    "            #print('filter_shape:', filter_shape)\n",
    "            \n",
    "            # there are \"num input feature maps * filter height * filter width\"\n",
    "            # inputs to each hidden unit\n",
    "            fan_in = np.prod(filter_shape[:2])\n",
    "            \n",
    "            # each unit in the lower layer receives a gradient from:\n",
    "            # \"num output feature maps * filter height * filter width\" /\n",
    "            #   pooling size\n",
    "            fan_out = np.prod(filter_shape[:1]) * num_filters\n",
    "\n",
    "            # initialize weights with random weights\n",
    "            w_bound = np.sqrt(6. / (fan_in + fan_out))\n",
    "\n",
    "            w = tf.get_variable(\"W\", filter_shape, dtype, tf.random_uniform_initializer(-w_bound, w_bound),\n",
    "                                collections=collections)\n",
    "            b = tf.get_variable(\"b\", [1, 1, num_filters], initializer=tf.constant_initializer(0.0),\n",
    "                                collections=collections)\n",
    "            return tf.nn.conv1d(x, w, stride_shape, pad) + b\n",
    "   "
   ]
  },
  {
   "cell_type": "code",
   "execution_count": 4,
   "metadata": {
    "collapsed": true
   },
   "outputs": [],
   "source": [
    "\n",
    "class MyStrategy(BTgymStrategy):\n",
    "    \"\"\"\n",
    "    BT server inner computation startegy tuned to pass simple sine wave test.\n",
    "    \"\"\"\n",
    "    \n",
    "    def __init__(self, **kwargs):\n",
    "        super(MyStrategy, self).__init__(**kwargs)\n",
    "        \n",
    "        self.dim_time = self.p.state_shape['raw_state'].shape[0] \n",
    "\n",
    "        self.trade_just_closed = False\n",
    "        self.trade_result = None\n",
    "\n",
    "        self.realised_broker_value = self.env.broker.startingcash\n",
    "        self.episode_result = 0\n",
    "        self.reward = 0\n",
    "        \n",
    "        self.avg_period = 10 # should be somehow consistent with skip_frame value\n",
    "        \n",
    "        # Signal features:\n",
    "        self.data.sma_4 = btind.SimpleMovingAverage(self.datas[0], period=4)\n",
    "        self.data.sma_8 = btind.SimpleMovingAverage(self.datas[0], period=8)\n",
    "        self.data.sma_16 = btind.SimpleMovingAverage(self.datas[0], period=16)\n",
    "        self.data.sma_32 = btind.SimpleMovingAverage(self.datas[0], period=32)\n",
    "        self.data.sma_64 = btind.SimpleMovingAverage(self.datas[0], period=64)\n",
    "        self.data.sma_128 = btind.SimpleMovingAverage(self.datas[0], period=128)\n",
    "        self.data.sma_256 = btind.SimpleMovingAverage(self.datas[0], period=256)\n",
    "\n",
    "        # Service sma to get correct first features values:\n",
    "        self.data.dim_sma = btind.SimpleMovingAverage(\n",
    "            self.datas[0],\n",
    "            period=(256 + self.dim_time)\n",
    "        )\n",
    "        self.data.dim_sma.plotinfo.plot = False\n",
    "        \n",
    "    def notify_trade(self, trade):    \n",
    "        if trade.isclosed:\n",
    "            # Set trade flag and store trade result:\n",
    "            self.trade_just_closed = True\n",
    "            self.trade_result = trade.pnlcomm\n",
    "            \n",
    "            # Store realized prtfolio value:\n",
    "            self.realised_broker_value = self.broker.get_value()\n",
    " \n",
    "    def get_state(self):\n",
    "        \"\"\" \n",
    "        Computes obs. state as [time_dim, 8] matrix of log-scaled features gradients.\n",
    "        \"\"\"\n",
    "        T = 1e4 # EURUSD\n",
    "        #T = 1 # BTCUSD\n",
    "      \n",
    "        x = np.stack(\n",
    "            [\n",
    "                np.frombuffer(self.data.open.get(size=self.dim_time)),\n",
    "                np.frombuffer(self.data.sma_4.get(size=self.dim_time)), \n",
    "                np.frombuffer(self.data.sma_8.get(size=self.dim_time)), \n",
    "                np.frombuffer(self.data.sma_16.get(size=self.dim_time)), \n",
    "                np.frombuffer(self.data.sma_32.get(size=self.dim_time)),\n",
    "                np.frombuffer(self.data.sma_64.get(size=self.dim_time)),\n",
    "                np.frombuffer(self.data.sma_128.get(size=self.dim_time)),\n",
    "                np.frombuffer(self.data.sma_256.get(size=self.dim_time)), \n",
    "            ], \n",
    "            axis=-1\n",
    "        )\n",
    "        # Amplified gradient along features axis:\n",
    "        x = np.gradient(x, axis=1) * T\n",
    "        \n",
    "        # Log-scale:\n",
    "        x = self.log_transform(x)\n",
    "        \n",
    "        self.state['raw_state'] = self.raw_state\n",
    "                \n",
    "        self.state['model_input'] = x\n",
    "        \n",
    "        return self.state\n",
    "        \n",
    "    def log_transform(self, x):\n",
    "        return np.sign(x) * np.log(np.fabs(x) + 1)\n",
    "\n",
    "    def norm_log_value(self, current_value, start_value, drawdown_call, target_call, epsilon=1e-4):\n",
    "        \"\"\"Current value log-normalized in [-1,1] wrt upper and lower bounds\"\"\"\n",
    "        x = np.asarray(current_value)\n",
    "        x = (x / start_value - 1) * 100\n",
    "        x = (x - target_call)/(drawdown_call+target_call) + 1\n",
    "        x = np.clip(x, epsilon, 1 - epsilon)\n",
    "        x = 1 - 2 * np.log(x) / np.log( epsilon)\n",
    "        return x\n",
    "    \n",
    "    def norm_value(self, current_value, start_value, drawdown_call, target_call, epsilon=1e-8):\n",
    "        \"\"\"Current value normalized in [-1,1] wrt upper and lower bounds\"\"\"\n",
    "        x = np.asarray(current_value)\n",
    "        x = (x / start_value - 1) * 100\n",
    "        x = (x - target_call)/(drawdown_call+target_call) + 1\n",
    "        x = 2 * np.clip(x, epsilon, 1 - epsilon) - 1 \n",
    "        return x\n",
    "    \n",
    "    def decayed_result(self, trade_result, current_value, start_value, drawdown_call, target_call, gamma=0.8):\n",
    "        \"Normalized in [-1,1] trade result, lineary decayed wrt current value.\"\n",
    "        target_value = start_value * (1 + target_call/100)\n",
    "        value_range = start_value * (drawdown_call + target_call)/100\n",
    "        decay = (gamma - 1) * (current_value - target_value) / value_range + gamma\n",
    "        x = trade_result * decay / value_range\n",
    "        return x\n",
    "    \n",
    "    def get_reward(self):\n",
    "        \"\"\"\n",
    "        Defines reward as composition of portfolio performance statisitics.\n",
    "        \"\"\"\n",
    "        \n",
    "        # Reward term 1: averaged profit/loss for current opened trade (unrealized p/l):\n",
    "        unrealised_pnl = np.average(self.stats.broker.value.get(size=self.avg_period))\\\n",
    "            - self.realised_broker_value\n",
    "        \n",
    "        #Normalize:\n",
    "        unrealised_pnl /= self.env.broker.startingcash *(self.p.drawdown_call + self.p.target_call) / 100\n",
    "\n",
    "        # Reward term 2: averaged broker value, normalized wrt to max drawdown and target bounds.\n",
    "        avg_norm_broker_value = self.norm_value(\n",
    "            np.average(self.stats.broker.value.get(size=self.avg_period)),\n",
    "            self.env.broker.startingcash,\n",
    "            self.p.drawdown_call,\n",
    "            self.p.target_call,\n",
    "        )\n",
    "        \n",
    "        # Reward term 3: normalized single trade realized profit/loss:\n",
    "        if self.trade_just_closed:\n",
    "            realized_pnl = self.decayed_result(\n",
    "                self.trade_result,\n",
    "                np.average(self.stats.broker.value.get(size=self.avg_period)),\n",
    "                self.env.broker.startingcash,\n",
    "                self.p.drawdown_call,\n",
    "                self.p.target_call,\n",
    "                gamma=1.0\n",
    "            ) \n",
    "            self.trade_just_closed = False\n",
    "        \n",
    "        else:\n",
    "            realized_pnl = 0\n",
    "            \n",
    "        # Coefficients are tunable:\n",
    "        self.reward = unrealised_pnl + 1e-2 * avg_norm_broker_value + 10 * realized_pnl\n",
    "        \n",
    "        return self.reward \n",
    "\n",
    "class RewardObserver(bt.observer.Observer):\n",
    "    \"\"\" \n",
    "    Adds reward visualisation to episode plot.\n",
    "    \"\"\"\n",
    "    lines = ('reward',)\n",
    "    plotinfo = dict(plot=True, subplot=True)\n",
    "    \n",
    "    plotlines = dict(\n",
    "        reward=dict(markersize=4.0, color='green', fillstyle='full'),\n",
    "    )\n",
    "    \n",
    "    def next(self):\n",
    "        self.lines.reward[0] = self._owner.reward\n",
    "\n",
    "########################################################       \n",
    "\n",
    "\n",
    "# Set backtesting engine parameters:\n",
    "\n",
    "time_embed_dim = 16\n",
    "\n",
    "state_shape = {\n",
    "    'raw_state': spaces.Box(low=-100, high=100, shape=(time_embed_dim, 4)),\n",
    "    'model_input': spaces.Box(low=-100, high=100, shape=(time_embed_dim, 8)),\n",
    "}\n",
    "\n",
    "MyCerebro = bt.Cerebro()\n",
    "\n",
    "MyCerebro.addstrategy(\n",
    "    MyStrategy,\n",
    "    state_shape=state_shape,\n",
    "    portfolio_actions=('hold', 'buy', 'sell', 'close'),\n",
    "    drawdown_call=5, # max % to loose, in percent of initial cash\n",
    "    target_call=8,  # max % to win, same\n",
    "    skip_frame=10,\n",
    ")\n",
    "\n",
    "# Set leveraged account:\n",
    "MyCerebro.broker.setcash(2000)\n",
    "MyCerebro.broker.setcommission(commission=0.0001, leverage=10.0) # commisssion to imitate spread\n",
    "MyCerebro.addsizer(bt.sizers.SizerFix, stake=5000,)  \n",
    "\n",
    "MyCerebro.addanalyzer(bt.analyzers.DrawDown)\n",
    "\n",
    "MyCerebro.addobserver(RewardObserver)\n",
    "\n",
    "MyDataset = BTgymDataset(\n",
    "    filename='../../data/DAT_ASCII_EURUSD_M1_2016.csv',\n",
    "    #filename='../../data/DAT_ASCII_EURUSD_M1_201703.csv',\n",
    "    #filename='../examples/data/DAT_ASCII_EURUSD_M1_201704.csv',\n",
    "    #filename='../../data/test_sine_1min_period256_delta0002.csv',\n",
    "    start_weekdays=[0, 1, 2, 3, 4],\n",
    "    episode_len_days=1,\n",
    "    episode_len_hours=2,\n",
    "    episode_len_minutes=0,\n",
    "    start_00=False,\n",
    "    time_gap_hours=6,\n",
    ")\n",
    "env_config = dict(\n",
    "    dataset=MyDataset,\n",
    "    engine=MyCerebro,\n",
    "    render_modes=['episode', 'human', 'model_input'],\n",
    "    render_state_as_image=True,\n",
    "    render_ylabel='SMA_log_gradients',\n",
    "    render_size_episode=(12,8),\n",
    "    render_size_human=(10, 5),\n",
    "    render_size_state=(10, 5),\n",
    "    render_dpi=75,\n",
    "    port=5000,\n",
    "    data_port=4999,\n",
    "    connect_timeout=60,\n",
    "    verbose=0,\n",
    ")\n",
    "# Set tensorflow distributed cluster and a3c configuration:\n",
    "cluster_config = dict(\n",
    "    host='127.0.0.1',\n",
    "    port=12222,\n",
    "    num_workers=8,  # ~ num of CPU cores\n",
    "    num_ps=1,\n",
    "    log_dir='./tmp/a3c_test_4',\n",
    ")\n",
    "launcher = Launcher(\n",
    "    cluster_config=cluster_config,\n",
    "    env_class=BTgymEnv,\n",
    "    env_config=env_config,\n",
    "    policy_class=LSTMPolicy1D,\n",
    "    policy_config={'lstm_layers': (256,)},\n",
    "    rollout_length=20,\n",
    "    model_beta=0.02,  # entropy regularization, shouldbe in ~[0.1, 0.01]\n",
    "    opt_learn_rate=1e-4,  # adam learn rate\n",
    "    test_mode=False,\n",
    "    train_steps=1000000000,\n",
    "    model_summary_freq=20,\n",
    "    episode_summary_freq=1,\n",
    "    env_render_freq=10,\n",
    "    verbose=1\n",
    ")"
   ]
  },
  {
   "cell_type": "code",
   "execution_count": 6,
   "metadata": {
    "scrolled": false
   },
   "outputs": [
    {
     "name": "stderr",
     "output_type": "stream",
     "text": [
      "[2017-09-21 13:55:33,290] Press `Ctrl-C` to stop training and close launcher.\n"
     ]
    },
    {
     "name": "stdout",
     "output_type": "stream",
     "text": [
      "Press `Ctrl-C` to stop training and close launcher.\n",
      "INFO:tensorflow:Restoring parameters from ./tmp/a3c_test_4/train/model.ckpt-9117618\n"
     ]
    },
    {
     "name": "stderr",
     "output_type": "stream",
     "text": [
      "[2017-09-21 13:55:46,226] Restoring parameters from ./tmp/a3c_test_4/train/model.ckpt-9117618\n"
     ]
    },
    {
     "name": "stdout",
     "output_type": "stream",
     "text": [
      "INFO:tensorflow:Waiting for model to be ready.  Ready_for_local_init_op:  None, ready: Variables not initialized: global/l2/W, global/rnn/multi_rnn_cell/cell_0/basic_lstm_cell/kernel, global/l1/b/Adam, global/l3/W/Adam, global/l4/W/Adam_1, global/rnn/multi_rnn_cell/cell_0/basic_lstm_cell/kernel/Adam_1, global/action/b/Adam_1\n"
     ]
    },
    {
     "name": "stderr",
     "output_type": "stream",
     "text": [
      "[2017-09-21 13:55:48,302] Waiting for model to be ready.  Ready_for_local_init_op:  None, ready: Variables not initialized: global/l2/W, global/rnn/multi_rnn_cell/cell_0/basic_lstm_cell/kernel, global/l1/b/Adam, global/l3/W/Adam, global/l4/W/Adam_1, global/rnn/multi_rnn_cell/cell_0/basic_lstm_cell/kernel/Adam_1, global/action/b/Adam_1\n"
     ]
    },
    {
     "name": "stdout",
     "output_type": "stream",
     "text": [
      "INFO:tensorflow:Waiting for model to be ready.  Ready_for_local_init_op:  None, ready: Variables not initialized: global/l2/W, global/rnn/multi_rnn_cell/cell_0/basic_lstm_cell/kernel, global/l1/b/Adam, global/l3/W/Adam, global/l4/W/Adam_1, global/rnn/multi_rnn_cell/cell_0/basic_lstm_cell/kernel/Adam_1, global/action/b/Adam_1\n",
      "INFO:tensorflow:Waiting for model to be ready.  Ready_for_local_init_op:  None, ready: Variables not initialized: global/l2/W, global/rnn/multi_rnn_cell/cell_0/basic_lstm_cell/kernel, global/l1/b/Adam, global/l3/W/Adam, global/l4/W/Adam_1, global/rnn/multi_rnn_cell/cell_0/basic_lstm_cell/kernel/Adam_1, global/action/b/Adam_1\n",
      "INFO:tensorflow:Waiting for model to be ready.  Ready_for_local_init_op:  None, ready: Variables not initialized: global/l2/W, global/rnn/multi_rnn_cell/cell_0/basic_lstm_cell/kernel, global/l1/b/Adam, global/l3/W/Adam, global/l4/W/Adam_1, global/rnn/multi_rnn_cell/cell_0/basic_lstm_cell/kernel/Adam_1, global/action/b/Adam_1\n",
      "INFO:tensorflow:Waiting for model to be ready.  Ready_for_local_init_op:  None, ready: Variables not initialized: global/rnn/multi_rnn_cell/cell_0/basic_lstm_cell/kernel, global/l3/W/Adam, global/l4/W/Adam_1\n"
     ]
    },
    {
     "name": "stderr",
     "output_type": "stream",
     "text": [
      "[2017-09-21 13:55:48,302] Waiting for model to be ready.  Ready_for_local_init_op:  None, ready: Variables not initialized: global/l2/W, global/rnn/multi_rnn_cell/cell_0/basic_lstm_cell/kernel, global/l1/b/Adam, global/l3/W/Adam, global/l4/W/Adam_1, global/rnn/multi_rnn_cell/cell_0/basic_lstm_cell/kernel/Adam_1, global/action/b/Adam_1\n"
     ]
    },
    {
     "name": "stdout",
     "output_type": "stream",
     "text": [
      "INFO:tensorflow:Waiting for model to be ready.  Ready_for_local_init_op:  None, ready: Variables not initialized: global/rnn/multi_rnn_cell/cell_0/basic_lstm_cell/kernel, global/l3/W/Adam, global/l4/W/Adam_1\n"
     ]
    },
    {
     "name": "stderr",
     "output_type": "stream",
     "text": [
      "[2017-09-21 13:55:48,304] Waiting for model to be ready.  Ready_for_local_init_op:  None, ready: Variables not initialized: global/l2/W, global/rnn/multi_rnn_cell/cell_0/basic_lstm_cell/kernel, global/l1/b/Adam, global/l3/W/Adam, global/l4/W/Adam_1, global/rnn/multi_rnn_cell/cell_0/basic_lstm_cell/kernel/Adam_1, global/action/b/Adam_1\n"
     ]
    },
    {
     "name": "stdout",
     "output_type": "stream",
     "text": [
      "INFO:tensorflow:Waiting for model to be ready.  Ready_for_local_init_op:  None, ready: Variables not initialized: global/l2/W, global/rnn/multi_rnn_cell/cell_0/basic_lstm_cell/kernel, global/l1/b/Adam, global/l3/W/Adam, global/l4/W/Adam_1, global/rnn/multi_rnn_cell/cell_0/basic_lstm_cell/kernel/Adam_1, global/action/b/Adam_1\n"
     ]
    },
    {
     "name": "stderr",
     "output_type": "stream",
     "text": [
      "[2017-09-21 13:55:48,307] Waiting for model to be ready.  Ready_for_local_init_op:  None, ready: Variables not initialized: global/rnn/multi_rnn_cell/cell_0/basic_lstm_cell/kernel, global/l3/W/Adam, global/l4/W/Adam_1\n",
      "[2017-09-21 13:55:48,304] Waiting for model to be ready.  Ready_for_local_init_op:  None, ready: Variables not initialized: global/l2/W, global/rnn/multi_rnn_cell/cell_0/basic_lstm_cell/kernel, global/l1/b/Adam, global/l3/W/Adam, global/l4/W/Adam_1, global/rnn/multi_rnn_cell/cell_0/basic_lstm_cell/kernel/Adam_1, global/action/b/Adam_1\n",
      "[2017-09-21 13:55:48,309] Waiting for model to be ready.  Ready_for_local_init_op:  None, ready: Variables not initialized: global/rnn/multi_rnn_cell/cell_0/basic_lstm_cell/kernel, global/l3/W/Adam, global/l4/W/Adam_1\n",
      "[2017-09-21 13:55:48,310] Waiting for model to be ready.  Ready_for_local_init_op:  None, ready: Variables not initialized: global/l2/W, global/rnn/multi_rnn_cell/cell_0/basic_lstm_cell/kernel, global/l1/b/Adam, global/l3/W/Adam, global/l4/W/Adam_1, global/rnn/multi_rnn_cell/cell_0/basic_lstm_cell/kernel/Adam_1, global/action/b/Adam_1\n"
     ]
    },
    {
     "name": "stdout",
     "output_type": "stream",
     "text": [
      "INFO:tensorflow:Starting standard services.\n"
     ]
    },
    {
     "name": "stderr",
     "output_type": "stream",
     "text": [
      "[2017-09-21 13:55:51,442] Starting standard services.\n"
     ]
    },
    {
     "name": "stdout",
     "output_type": "stream",
     "text": [
      "INFO:tensorflow:Saving checkpoint to path ./tmp/a3c_test_4/train/model.ckpt\n"
     ]
    },
    {
     "name": "stderr",
     "output_type": "stream",
     "text": [
      "[2017-09-21 13:55:51,454] Saving checkpoint to path ./tmp/a3c_test_4/train/model.ckpt\n"
     ]
    },
    {
     "name": "stdout",
     "output_type": "stream",
     "text": [
      "INFO:tensorflow:Starting queue runners.\n"
     ]
    },
    {
     "name": "stderr",
     "output_type": "stream",
     "text": [
      "[2017-09-21 13:55:51,455] Starting queue runners.\n"
     ]
    },
    {
     "name": "stdout",
     "output_type": "stream",
     "text": [
      "INFO:tensorflow:global/global_step/sec: 0\n"
     ]
    },
    {
     "name": "stderr",
     "output_type": "stream",
     "text": [
      "[2017-09-21 13:55:51,456] global/global_step/sec: 0\n",
      "[2017-09-21 13:55:51,483] worker_0: starting training at step: 9117638\n"
     ]
    },
    {
     "name": "stdout",
     "output_type": "stream",
     "text": [
      "INFO:tensorflow:Starting queue runners.\n"
     ]
    },
    {
     "name": "stderr",
     "output_type": "stream",
     "text": [
      "[2017-09-21 13:56:20,011] Starting queue runners.\n"
     ]
    },
    {
     "name": "stdout",
     "output_type": "stream",
     "text": [
      "INFO:tensorflow:Starting queue runners.\n",
      "INFO:tensorflow:Starting queue runners.\n"
     ]
    },
    {
     "name": "stderr",
     "output_type": "stream",
     "text": [
      "[2017-09-21 13:56:20,158] Starting queue runners.\n",
      "[2017-09-21 13:56:20,159] Starting queue runners.\n"
     ]
    },
    {
     "name": "stdout",
     "output_type": "stream",
     "text": [
      "INFO:tensorflow:Starting queue runners.\n",
      "INFO:tensorflow:Starting queue runners.\n"
     ]
    },
    {
     "name": "stderr",
     "output_type": "stream",
     "text": [
      "[2017-09-21 13:56:20,169] Starting queue runners.\n",
      "[2017-09-21 13:56:20,171] worker_7: starting training at step: 9118782\n"
     ]
    },
    {
     "name": "stdout",
     "output_type": "stream",
     "text": [
      "INFO:tensorflow:Starting queue runners.\n"
     ]
    },
    {
     "name": "stderr",
     "output_type": "stream",
     "text": [
      "[2017-09-21 13:56:20,173] Starting queue runners.\n"
     ]
    },
    {
     "name": "stdout",
     "output_type": "stream",
     "text": [
      "INFO:tensorflow:Starting queue runners.\n"
     ]
    },
    {
     "name": "stderr",
     "output_type": "stream",
     "text": [
      "[2017-09-21 13:56:20,198] worker_4: starting training at step: 9118782\n",
      "[2017-09-21 13:56:20,180] Starting queue runners.\n",
      "[2017-09-21 13:56:20,182] Starting queue runners.\n",
      "[2017-09-21 13:56:20,225] worker_5: starting training at step: 9118782\n",
      "[2017-09-21 13:56:20,235] worker_3: starting training at step: 9118782\n",
      "[2017-09-21 13:56:20,223] worker_6: starting training at step: 9118782\n",
      "[2017-09-21 13:56:20,258] worker_1: starting training at step: 9118782\n",
      "[2017-09-21 13:56:20,267] worker_2: starting training at step: 9118782\n"
     ]
    },
    {
     "name": "stdout",
     "output_type": "stream",
     "text": [
      "INFO:tensorflow:global/global_step/sec: 196.846\n"
     ]
    },
    {
     "name": "stderr",
     "output_type": "stream",
     "text": [
      "[2017-09-21 13:57:51,454] global/global_step/sec: 196.846\n"
     ]
    },
    {
     "name": "stdout",
     "output_type": "stream",
     "text": [
      "INFO:tensorflow:global/global_step/sec: 283.994\n"
     ]
    },
    {
     "name": "stderr",
     "output_type": "stream",
     "text": [
      "[2017-09-21 13:59:51,456] global/global_step/sec: 283.994\n"
     ]
    },
    {
     "name": "stdout",
     "output_type": "stream",
     "text": [
      "INFO:tensorflow:Saving checkpoint to path ./tmp/a3c_test_4/train/model.ckpt\n"
     ]
    },
    {
     "name": "stderr",
     "output_type": "stream",
     "text": [
      "[2017-09-21 14:00:51,441] Saving checkpoint to path ./tmp/a3c_test_4/train/model.ckpt\n"
     ]
    },
    {
     "name": "stdout",
     "output_type": "stream",
     "text": [
      "INFO:tensorflow:global/global_step/sec: 281.171\n"
     ]
    },
    {
     "name": "stderr",
     "output_type": "stream",
     "text": [
      "[2017-09-21 14:01:51,461] global/global_step/sec: 281.171\n"
     ]
    },
    {
     "name": "stdout",
     "output_type": "stream",
     "text": [
      "INFO:tensorflow:global/global_step/sec: 273.836\n"
     ]
    },
    {
     "name": "stderr",
     "output_type": "stream",
     "text": [
      "[2017-09-21 14:03:51,456] global/global_step/sec: 273.836\n"
     ]
    },
    {
     "name": "stdout",
     "output_type": "stream",
     "text": [
      "INFO:tensorflow:Saving checkpoint to path ./tmp/a3c_test_4/train/model.ckpt\n"
     ]
    },
    {
     "name": "stderr",
     "output_type": "stream",
     "text": [
      "[2017-09-21 14:05:51,441] Saving checkpoint to path ./tmp/a3c_test_4/train/model.ckpt\n"
     ]
    },
    {
     "name": "stdout",
     "output_type": "stream",
     "text": [
      "INFO:tensorflow:global/global_step/sec: 275.173\n"
     ]
    },
    {
     "name": "stderr",
     "output_type": "stream",
     "text": [
      "[2017-09-21 14:05:51,483] global/global_step/sec: 275.173\n"
     ]
    },
    {
     "name": "stdout",
     "output_type": "stream",
     "text": [
      "INFO:tensorflow:global/global_step/sec: 264.886\n"
     ]
    },
    {
     "name": "stderr",
     "output_type": "stream",
     "text": [
      "[2017-09-21 14:07:51,455] global/global_step/sec: 264.886\n"
     ]
    },
    {
     "name": "stdout",
     "output_type": "stream",
     "text": [
      "INFO:tensorflow:global/global_step/sec: 274.239\n"
     ]
    },
    {
     "name": "stderr",
     "output_type": "stream",
     "text": [
      "[2017-09-21 14:09:51,453] global/global_step/sec: 274.239\n"
     ]
    },
    {
     "name": "stdout",
     "output_type": "stream",
     "text": [
      "INFO:tensorflow:Saving checkpoint to path ./tmp/a3c_test_4/train/model.ckpt\n"
     ]
    },
    {
     "name": "stderr",
     "output_type": "stream",
     "text": [
      "[2017-09-21 14:10:51,444] Saving checkpoint to path ./tmp/a3c_test_4/train/model.ckpt\n"
     ]
    },
    {
     "name": "stdout",
     "output_type": "stream",
     "text": [
      "INFO:tensorflow:global/global_step/sec: 272.076\n"
     ]
    },
    {
     "name": "stderr",
     "output_type": "stream",
     "text": [
      "[2017-09-21 14:11:51,452] global/global_step/sec: 272.076\n"
     ]
    },
    {
     "name": "stdout",
     "output_type": "stream",
     "text": [
      "INFO:tensorflow:global/global_step/sec: 283.57\n"
     ]
    },
    {
     "name": "stderr",
     "output_type": "stream",
     "text": [
      "[2017-09-21 14:13:51,454] global/global_step/sec: 283.57\n"
     ]
    },
    {
     "name": "stdout",
     "output_type": "stream",
     "text": [
      "INFO:tensorflow:Saving checkpoint to path ./tmp/a3c_test_4/train/model.ckpt\n"
     ]
    },
    {
     "name": "stderr",
     "output_type": "stream",
     "text": [
      "[2017-09-21 14:15:51,442] Saving checkpoint to path ./tmp/a3c_test_4/train/model.ckpt\n"
     ]
    },
    {
     "name": "stdout",
     "output_type": "stream",
     "text": [
      "INFO:tensorflow:Saving checkpoint to path ./tmp/a3c_test_4/train/model.ckpt\n"
     ]
    },
    {
     "name": "stderr",
     "output_type": "stream",
     "text": [
      "[2017-09-21 14:20:51,442] Saving checkpoint to path ./tmp/a3c_test_4/train/model.ckpt\n"
     ]
    },
    {
     "name": "stdout",
     "output_type": "stream",
     "text": [
      "INFO:tensorflow:Saving checkpoint to path ./tmp/a3c_test_4/train/model.ckpt\n"
     ]
    },
    {
     "name": "stderr",
     "output_type": "stream",
     "text": [
      "[2017-09-21 14:25:51,449] Saving checkpoint to path ./tmp/a3c_test_4/train/model.ckpt\n"
     ]
    },
    {
     "name": "stdout",
     "output_type": "stream",
     "text": [
      "INFO:tensorflow:Saving checkpoint to path ./tmp/a3c_test_4/train/model.ckpt\n"
     ]
    },
    {
     "name": "stderr",
     "output_type": "stream",
     "text": [
      "[2017-09-21 14:30:51,444] Saving checkpoint to path ./tmp/a3c_test_4/train/model.ckpt\n"
     ]
    },
    {
     "name": "stdout",
     "output_type": "stream",
     "text": [
      "INFO:tensorflow:Saving checkpoint to path ./tmp/a3c_test_4/train/model.ckpt\n"
     ]
    },
    {
     "name": "stderr",
     "output_type": "stream",
     "text": [
      "[2017-09-21 14:35:51,442] Saving checkpoint to path ./tmp/a3c_test_4/train/model.ckpt\n"
     ]
    },
    {
     "name": "stdout",
     "output_type": "stream",
     "text": [
      "INFO:tensorflow:Saving checkpoint to path ./tmp/a3c_test_4/train/model.ckpt\n"
     ]
    },
    {
     "name": "stderr",
     "output_type": "stream",
     "text": [
      "[2017-09-21 14:40:51,447] Saving checkpoint to path ./tmp/a3c_test_4/train/model.ckpt\n"
     ]
    },
    {
     "name": "stdout",
     "output_type": "stream",
     "text": [
      "INFO:tensorflow:Saving checkpoint to path ./tmp/a3c_test_4/train/model.ckpt\n"
     ]
    },
    {
     "name": "stderr",
     "output_type": "stream",
     "text": [
      "[2017-09-21 14:45:51,444] Saving checkpoint to path ./tmp/a3c_test_4/train/model.ckpt\n",
      "Process BTgymDataFeedServer-11:1:\n",
      "Process BTgymServer-15:1:\n",
      "Process BTgymServer-12:1:\n",
      "Process BTgymServer-16:1:\n",
      "Process BTgymServer-17:1:\n",
      "Process DrawCerebro-11:2:492:\n",
      "Process BTgymServer-18:1:\n",
      "Process BTgymServer-13:1:\n",
      "Process BTgymServer-14:1:\n",
      "[2017-09-21 14:50:11,152] worker_1 has joined.\n",
      "Traceback (most recent call last):\n",
      "Traceback (most recent call last):\n",
      "[2017-09-21 14:50:11,217] worker_2 has joined.\n",
      "  File \"/Users/muzikin/anaconda/envs/tensorforce/lib/python3.6/multiprocessing/process.py\", line 249, in _bootstrap\n",
      "    self.run()\n",
      "[2017-09-21 14:50:11,252] worker_3 has joined.\n",
      "  File \"/Users/muzikin/anaconda/envs/tensorforce/lib/python3.6/multiprocessing/process.py\", line 249, in _bootstrap\n",
      "    self.run()\n",
      "  File \"/Users/muzikin/Yandex.Disk.localized/work/btgym/btgym/server.py\", line 433, in run\n",
      "    gc.collect()\n",
      "[2017-09-21 14:50:11,254] worker_4 has joined.\n",
      "  File \"/Users/muzikin/Yandex.Disk.localized/work/btgym/btgym/server.py\", line 433, in run\n",
      "    gc.collect()\n",
      "KeyboardInterrupt\n",
      "KeyboardInterrupt\n",
      "[2017-09-21 14:50:11,298] worker_5 has joined.\n",
      "[2017-09-21 14:50:11,356] worker_6 has joined.\n",
      "[2017-09-21 14:50:11,404] worker_7 has joined.\n",
      "[2017-09-21 14:50:11,405] chief_worker_0 has joined.\n",
      "[2017-09-21 14:50:11,405] parameter_server_0 has joined.\n",
      "[2017-09-21 14:50:11,406] Launcher closed.\n",
      "Traceback (most recent call last):\n",
      "Traceback (most recent call last):\n",
      "Traceback (most recent call last):\n",
      "Traceback (most recent call last):\n",
      "Traceback (most recent call last):\n",
      "Traceback (most recent call last):\n",
      "  File \"/Users/muzikin/anaconda/envs/tensorforce/lib/python3.6/multiprocessing/process.py\", line 249, in _bootstrap\n",
      "    self.run()\n",
      "  File \"/Users/muzikin/anaconda/envs/tensorforce/lib/python3.6/multiprocessing/process.py\", line 249, in _bootstrap\n",
      "    self.run()\n",
      "  File \"/Users/muzikin/anaconda/envs/tensorforce/lib/python3.6/multiprocessing/process.py\", line 249, in _bootstrap\n",
      "    self.run()\n",
      "  File \"/Users/muzikin/anaconda/envs/tensorforce/lib/python3.6/multiprocessing/process.py\", line 249, in _bootstrap\n",
      "    self.run()\n",
      "  File \"/Users/muzikin/anaconda/envs/tensorforce/lib/python3.6/multiprocessing/process.py\", line 249, in _bootstrap\n",
      "    self.run()\n",
      "  File \"/Users/muzikin/anaconda/envs/tensorforce/lib/python3.6/multiprocessing/process.py\", line 249, in _bootstrap\n",
      "    self.run()\n",
      "  File \"/Users/muzikin/Yandex.Disk.localized/work/btgym/btgym/server.py\", line 413, in run\n",
      "    episode = cerebro.run(stdstats=True, preload=False, oldbuysell=True)[0]\n",
      "  File \"/Users/muzikin/Yandex.Disk.localized/work/btgym/btgym/server.py\", line 413, in run\n",
      "    episode = cerebro.run(stdstats=True, preload=False, oldbuysell=True)[0]\n",
      "  File \"/Users/muzikin/Yandex.Disk.localized/work/btgym/btgym/server.py\", line 413, in run\n",
      "    episode = cerebro.run(stdstats=True, preload=False, oldbuysell=True)[0]\n",
      "  File \"/Users/muzikin/Yandex.Disk.localized/work/btgym/btgym/server.py\", line 413, in run\n",
      "    episode = cerebro.run(stdstats=True, preload=False, oldbuysell=True)[0]\n",
      "  File \"/Users/muzikin/Yandex.Disk.localized/work/btgym/btgym/dataserver.py\", line 100, in run\n",
      "    service_input = socket.recv_pyobj()\n",
      "  File \"/Users/muzikin/anaconda/envs/tensorforce/lib/python3.6/site-packages/backtrader/cerebro.py\", line 1073, in run\n",
      "    runstrat = self.runstrategies(iterstrat)\n",
      "  File \"/Users/muzikin/anaconda/envs/tensorforce/lib/python3.6/site-packages/backtrader/cerebro.py\", line 1073, in run\n",
      "    runstrat = self.runstrategies(iterstrat)\n",
      "  File \"/Users/muzikin/Yandex.Disk.localized/work/btgym/btgym/server.py\", line 413, in run\n",
      "    episode = cerebro.run(stdstats=True, preload=False, oldbuysell=True)[0]\n",
      "  File \"/Users/muzikin/anaconda/envs/tensorforce/lib/python3.6/site-packages/backtrader/cerebro.py\", line 1073, in run\n",
      "    runstrat = self.runstrategies(iterstrat)\n",
      "  File \"/Users/muzikin/anaconda/envs/tensorforce/lib/python3.6/site-packages/zmq/sugar/socket.py\", line 491, in recv_pyobj\n",
      "    msg = self.recv(flags)\n",
      "  File \"/Users/muzikin/anaconda/envs/tensorforce/lib/python3.6/site-packages/backtrader/cerebro.py\", line 1073, in run\n",
      "    runstrat = self.runstrategies(iterstrat)\n",
      "  File \"/Users/muzikin/anaconda/envs/tensorforce/lib/python3.6/site-packages/backtrader/cerebro.py\", line 1235, in runstrategies\n",
      "    self._runnext(runstrats)\n",
      "  File \"/Users/muzikin/anaconda/envs/tensorforce/lib/python3.6/site-packages/backtrader/cerebro.py\", line 1073, in run\n",
      "    runstrat = self.runstrategies(iterstrat)\n",
      "  File \"/Users/muzikin/anaconda/envs/tensorforce/lib/python3.6/site-packages/backtrader/cerebro.py\", line 1235, in runstrategies\n",
      "    self._runnext(runstrats)\n",
      "  File \"/Users/muzikin/anaconda/envs/tensorforce/lib/python3.6/site-packages/backtrader/cerebro.py\", line 1235, in runstrategies\n",
      "    self._runnext(runstrats)\n",
      "  File \"zmq/backend/cython/socket.pyx\", line 693, in zmq.backend.cython.socket.Socket.recv (zmq/backend/cython/socket.c:7683)\n",
      "  File \"/Users/muzikin/anaconda/envs/tensorforce/lib/python3.6/site-packages/backtrader/cerebro.py\", line 1235, in runstrategies\n",
      "    self._runnext(runstrats)\n",
      "  File \"/Users/muzikin/anaconda/envs/tensorforce/lib/python3.6/site-packages/backtrader/cerebro.py\", line 1564, in _runnext\n",
      "    strat._next()\n",
      "  File \"/Users/muzikin/anaconda/envs/tensorforce/lib/python3.6/site-packages/backtrader/cerebro.py\", line 1564, in _runnext\n",
      "    strat._next()\n",
      "  File \"/Users/muzikin/anaconda/envs/tensorforce/lib/python3.6/site-packages/backtrader/cerebro.py\", line 1235, in runstrategies\n",
      "    self._runnext(runstrats)\n",
      "  File \"zmq/backend/cython/socket.pyx\", line 727, in zmq.backend.cython.socket.Socket.recv (zmq/backend/cython/socket.c:7460)\n",
      "  File \"/Users/muzikin/anaconda/envs/tensorforce/lib/python3.6/site-packages/backtrader/cerebro.py\", line 1564, in _runnext\n",
      "    strat._next()\n",
      "  File \"/Users/muzikin/anaconda/envs/tensorforce/lib/python3.6/site-packages/backtrader/cerebro.py\", line 1564, in _runnext\n",
      "    strat._next()\n",
      "  File \"zmq/backend/cython/socket.pyx\", line 145, in zmq.backend.cython.socket._recv_copy (zmq/backend/cython/socket.c:2344)\n",
      "  File \"/Users/muzikin/anaconda/envs/tensorforce/lib/python3.6/site-packages/backtrader/strategy.py\", line 324, in _next\n",
      "    super(Strategy, self)._next()\n",
      "  File \"/Users/muzikin/anaconda/envs/tensorforce/lib/python3.6/site-packages/backtrader/strategy.py\", line 327, in _next\n",
      "    self._next_analyzers(minperstatus)\n",
      "  File \"/Users/muzikin/anaconda/envs/tensorforce/lib/python3.6/site-packages/backtrader/strategy.py\", line 324, in _next\n",
      "    super(Strategy, self)._next()\n",
      "  File \"/Users/muzikin/anaconda/envs/tensorforce/lib/python3.6/site-packages/backtrader/cerebro.py\", line 1564, in _runnext\n",
      "    strat._next()\n",
      "  File \"zmq/backend/cython/checkrc.pxd\", line 12, in zmq.backend.cython.checkrc._check_rc (zmq/backend/cython/socket.c:9621)\n",
      "  File \"/Users/muzikin/anaconda/envs/tensorforce/lib/python3.6/site-packages/backtrader/strategy.py\", line 361, in _next_analyzers\n",
      "    analyzer._next()\n",
      "  File \"/Users/muzikin/anaconda/envs/tensorforce/lib/python3.6/site-packages/backtrader/strategy.py\", line 328, in _next\n",
      "    self._next_observers(minperstatus)\n",
      "  File \"/Users/muzikin/anaconda/envs/tensorforce/lib/python3.6/site-packages/backtrader/lineiterator.py\", line 258, in _next\n",
      "    indicator._next()\n",
      "  File \"/Users/muzikin/anaconda/envs/tensorforce/lib/python3.6/site-packages/backtrader/lineiterator.py\", line 258, in _next\n",
      "    indicator._next()\n",
      "  File \"/Users/muzikin/anaconda/envs/tensorforce/lib/python3.6/site-packages/backtrader/strategy.py\", line 324, in _next\n",
      "    super(Strategy, self)._next()\n",
      "KeyboardInterrupt\n",
      "  File \"/Users/muzikin/anaconda/envs/tensorforce/lib/python3.6/site-packages/backtrader/analyzer.py\", line 188, in _next\n",
      "    self.next()\n",
      "  File \"/Users/muzikin/anaconda/envs/tensorforce/lib/python3.6/site-packages/backtrader/lineiterator.py\", line 255, in _next\n",
      "    clock_len = self._clk_update()\n",
      "  File \"/Users/muzikin/anaconda/envs/tensorforce/lib/python3.6/site-packages/backtrader/strategy.py\", line 356, in _next_observers\n",
      "    observer._next()\n",
      "  File \"/Users/muzikin/anaconda/envs/tensorforce/lib/python3.6/site-packages/backtrader/lineiterator.py\", line 258, in _next\n",
      "    indicator._next()\n",
      "  File \"/Users/muzikin/anaconda/envs/tensorforce/lib/python3.6/site-packages/backtrader/lineiterator.py\", line 258, in _next\n",
      "    indicator._next()\n"
     ]
    },
    {
     "name": "stderr",
     "output_type": "stream",
     "text": [
      "  File \"/Users/muzikin/Yandex.Disk.localized/work/btgym/btgym/server.py\", line 106, in next\n",
      "    reward = self.strategy.get_reward()\n",
      "  File \"/Users/muzikin/anaconda/envs/tensorforce/lib/python3.6/site-packages/backtrader/lineiterator.py\", line 284, in _clk_update\n",
      "    self.forward()\n",
      "  File \"/Users/muzikin/anaconda/envs/tensorforce/lib/python3.6/site-packages/backtrader/lineiterator.py\", line 258, in _next\n",
      "    indicator._next()\n",
      "  File \"/Users/muzikin/anaconda/envs/tensorforce/lib/python3.6/site-packages/backtrader/lineiterator.py\", line 275, in _next\n",
      "    self.next()\n",
      "  File \"/Users/muzikin/anaconda/envs/tensorforce/lib/python3.6/site-packages/backtrader/lineiterator.py\", line 260, in _next\n",
      "    self._notify()\n",
      "  File \"<ipython-input-4-20eef61197bb>\", line 112, in get_reward\n",
      "    unrealised_pnl = np.average(self.stats.broker.value.get(size=self.avg_period))            - self.realised_broker_value\n",
      "KeyboardInterrupt\n",
      "KeyboardInterrupt\n",
      "  File \"/Users/muzikin/anaconda/envs/tensorforce/lib/python3.6/site-packages/backtrader/lineiterator.py\", line 275, in _next\n",
      "    self.next()\n",
      "  File \"/Users/muzikin/anaconda/envs/tensorforce/lib/python3.6/site-packages/backtrader/lineseries.py\", line 553, in forward\n",
      "    self.lines.forward(value, size)\n",
      "KeyboardInterrupt\n",
      "  File \"/Users/muzikin/anaconda/envs/tensorforce/lib/python3.6/site-packages/backtrader/indicators/basicops.py\", line 356, in next\n",
      "    math.fsum(self.data.get(size=self.p.period)) / self.p.period\n",
      "  File \"/Users/muzikin/anaconda/envs/tensorforce/lib/python3.6/site-packages/backtrader/lineseries.py\", line 254, in forward\n",
      "    line.forward(value, size=size)\n",
      "  File \"/Users/muzikin/anaconda/envs/tensorforce/lib/python3.6/site-packages/backtrader/linebuffer.py\", line 254, in forward\n",
      "    self.idx += size\n",
      "  File \"/Users/muzikin/anaconda/envs/tensorforce/lib/python3.6/site-packages/backtrader/lineseries.py\", line 241, in get\n",
      "    return self.lines[line].get(ago, size=size)\n",
      "  File \"/Users/muzikin/anaconda/envs/tensorforce/lib/python3.6/site-packages/backtrader/linebuffer.py\", line 184, in get\n",
      "    return self.array[self.idx + ago - size + 1:self.idx + ago + 1]\n",
      "  File \"/Users/muzikin/anaconda/envs/tensorforce/lib/python3.6/site-packages/backtrader/linebuffer.py\", line 85, in set_idx\n",
      "    def set_idx(self, idx, force=False):\n",
      "KeyboardInterrupt\n",
      "KeyboardInterrupt\n",
      "Traceback (most recent call last):\n",
      "  File \"/Users/muzikin/anaconda/envs/tensorforce/lib/python3.6/multiprocessing/process.py\", line 249, in _bootstrap\n",
      "    self.run()\n",
      "  File \"/Users/muzikin/Yandex.Disk.localized/work/btgym/btgym/rendering/plotter.py\", line 73, in run\n",
      "    figfilename='_tmp_btgym_render.png',\n",
      "  File \"/Users/muzikin/anaconda/envs/tensorforce/lib/python3.6/site-packages/backtrader/cerebro.py\", line 941, in plot\n",
      "    tight=tight)\n",
      "  File \"/Users/muzikin/Yandex.Disk.localized/work/btgym/btgym/rendering/plotter.py\", line 46, in savefig\n",
      "    fig.canvas.draw()\n",
      "  File \"/Users/muzikin/anaconda/envs/tensorforce/lib/python3.6/site-packages/matplotlib/backends/backend_agg.py\", line 464, in draw\n",
      "    self.figure.draw(self.renderer)\n",
      "  File \"/Users/muzikin/anaconda/envs/tensorforce/lib/python3.6/site-packages/matplotlib/artist.py\", line 63, in draw_wrapper\n",
      "    draw(artist, renderer, *args, **kwargs)\n",
      "  File \"/Users/muzikin/anaconda/envs/tensorforce/lib/python3.6/site-packages/matplotlib/figure.py\", line 1135, in draw\n",
      "    self.tight_layout(renderer, **self._tight_parameters)\n",
      "  File \"/Users/muzikin/anaconda/envs/tensorforce/lib/python3.6/site-packages/matplotlib/figure.py\", line 1753, in tight_layout\n",
      "    rect=rect)\n",
      "  File \"/Users/muzikin/anaconda/envs/tensorforce/lib/python3.6/site-packages/matplotlib/tight_layout.py\", line 353, in get_tight_layout_figure\n",
      "    pad=pad, h_pad=h_pad, w_pad=w_pad)\n",
      "  File \"/Users/muzikin/anaconda/envs/tensorforce/lib/python3.6/site-packages/matplotlib/tight_layout.py\", line 129, in auto_adjust_subplotpars\n",
      "    tight_bbox_raw = union([ax.get_tightbbox(renderer) for ax in subplots\n",
      "  File \"/Users/muzikin/anaconda/envs/tensorforce/lib/python3.6/site-packages/matplotlib/tight_layout.py\", line 130, in <listcomp>\n",
      "    if ax.get_visible()])\n",
      "  File \"/Users/muzikin/anaconda/envs/tensorforce/lib/python3.6/site-packages/matplotlib/axes/_base.py\", line 3827, in get_tightbbox\n",
      "    bb_yaxis = self.yaxis.get_tightbbox(renderer)\n",
      "  File \"/Users/muzikin/anaconda/envs/tensorforce/lib/python3.6/site-packages/matplotlib/axis.py\", line 1093, in get_tightbbox\n",
      "    ticks_to_draw = self._update_ticks(renderer)\n",
      "  File \"/Users/muzikin/anaconda/envs/tensorforce/lib/python3.6/site-packages/matplotlib/axis.py\", line 969, in _update_ticks\n",
      "    tick_tups = [t for t in self.iter_ticks()]\n",
      "  File \"/Users/muzikin/anaconda/envs/tensorforce/lib/python3.6/site-packages/matplotlib/axis.py\", line 969, in <listcomp>\n",
      "    tick_tups = [t for t in self.iter_ticks()]\n",
      "  File \"/Users/muzikin/anaconda/envs/tensorforce/lib/python3.6/site-packages/matplotlib/axis.py\", line 913, in iter_ticks\n",
      "    majorTicks = self.get_major_ticks(len(majorLocs))\n",
      "  File \"/Users/muzikin/anaconda/envs/tensorforce/lib/python3.6/site-packages/matplotlib/axis.py\", line 1324, in get_major_ticks\n",
      "    tick = self._get_tick(major=True)\n",
      "  File \"/Users/muzikin/anaconda/envs/tensorforce/lib/python3.6/site-packages/matplotlib/axis.py\", line 2060, in _get_tick\n",
      "    return YTick(self.axes, 0, '', major=major, **tick_kw)\n",
      "  File \"/Users/muzikin/anaconda/envs/tensorforce/lib/python3.6/site-packages/matplotlib/axis.py\", line 152, in __init__\n",
      "    self.gridline = self._get_gridline()\n",
      "  File \"/Users/muzikin/anaconda/envs/tensorforce/lib/python3.6/site-packages/matplotlib/axis.py\", line 583, in _get_gridline\n",
      "    markersize=0)\n",
      "  File \"/Users/muzikin/anaconda/envs/tensorforce/lib/python3.6/site-packages/matplotlib/lines.py\", line 425, in __init__\n",
      "    self.set_fillstyle(fillstyle)\n",
      "  File \"/Users/muzikin/anaconda/envs/tensorforce/lib/python3.6/site-packages/matplotlib/lines.py\", line 555, in set_fillstyle\n",
      "    self._marker.set_fillstyle(fs)\n",
      "  File \"/Users/muzikin/anaconda/envs/tensorforce/lib/python3.6/site-packages/matplotlib/markers.py\", line 237, in set_fillstyle\n",
      "    self._recache()\n",
      "  File \"/Users/muzikin/anaconda/envs/tensorforce/lib/python3.6/site-packages/matplotlib/markers.py\", line 200, in _recache\n",
      "    self._path = Path(np.empty((0, 2)))\n",
      "  File \"/Users/muzikin/anaconda/envs/tensorforce/lib/python3.6/site-packages/matplotlib/path.py\", line 162, in __init__\n",
      "    self._update_values()\n",
      "  File \"/Users/muzikin/anaconda/envs/tensorforce/lib/python3.6/site-packages/matplotlib/path.py\", line 219, in _update_values\n",
      "    self._has_nonfinite = not np.isfinite(self._vertices).all()\n",
      "KeyboardInterrupt\n"
     ]
    }
   ],
   "source": [
    "# Train it.\n",
    "launcher.run()\n",
    "\n",
    "# shell:  tensorboard --logdir './tmp/a3c_test_4'\n"
   ]
  },
  {
   "cell_type": "code",
   "execution_count": null,
   "metadata": {
    "collapsed": true
   },
   "outputs": [],
   "source": [
    "# Just in case: for manual environment testing :\n",
    "\n",
    "env_config.update({'port': 5090, 'data_port': 5089})\n",
    "env = BTgymEnv(**env_config)"
   ]
  },
  {
   "cell_type": "code",
   "execution_count": null,
   "metadata": {
    "collapsed": true
   },
   "outputs": [],
   "source": []
  }
 ],
 "metadata": {
  "kernelspec": {
   "display_name": "Python 3",
   "language": "python",
   "name": "python3"
  },
  "language_info": {
   "codemirror_mode": {
    "name": "ipython",
    "version": 3
   },
   "file_extension": ".py",
   "mimetype": "text/x-python",
   "name": "python",
   "nbconvert_exporter": "python",
   "pygments_lexer": "ipython3",
   "version": "3.6.0"
  }
 },
 "nbformat": 4,
 "nbformat_minor": 2
}
