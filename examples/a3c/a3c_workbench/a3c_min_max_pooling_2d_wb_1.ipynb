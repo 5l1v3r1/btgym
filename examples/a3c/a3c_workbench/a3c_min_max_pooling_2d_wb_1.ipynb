{
 "cells": [
  {
   "cell_type": "code",
   "execution_count": 18,
   "metadata": {
    "collapsed": true
   },
   "outputs": [],
   "source": [
    "import backtrader as bt\n",
    "import backtrader.indicators as btind\n",
    "import numpy as np\n",
    "import scipy.signal as signal\n",
    "from scipy import stats\n",
    "import pywt\n",
    "\n",
    "from gym import spaces\n",
    "\n",
    "from btgym import BTgymEnv, BTgymStrategy, BTgymDataset\n",
    "\n",
    "from btgym.a3c import Launcher, BaseLSTMPolicy"
   ]
  },
  {
   "cell_type": "code",
   "execution_count": 19,
   "metadata": {
    "collapsed": true
   },
   "outputs": [],
   "source": [
    "import tensorflow as tf\n",
    "\n",
    "class StatePreProcessor():\n",
    "    def __init__(self, x, window, stride, pooling_type='MAX', padding='SAME'):\n",
    "        \"\"\"_____\"\"\"\n",
    "        self.x = x\n",
    "        \n",
    "        x_max = tf.expand_dims(self.x[...,0], [-1])\n",
    "        \n",
    "        x_min = tf.negative(\n",
    "            tf.expand_dims(self.x[...,-1], [-1])\n",
    "        )\n",
    "        # MAX H-values pooling:\n",
    "        x_max = tf.nn.pool(\n",
    "            input=x_max,\n",
    "            window_shape=[window],\n",
    "            pooling_type=pooling_type,\n",
    "            padding=padding,\n",
    "            dilation_rate=None,\n",
    "            strides=[stride],\n",
    "        )\n",
    "        # MIN L-values pooling:\n",
    "        x_min = tf.nn.pool(\n",
    "            input=x_min,\n",
    "            window_shape=[window],\n",
    "            pooling_type=pooling_type,\n",
    "            padding=padding,\n",
    "            dilation_rate=None,\n",
    "            strides=[stride],\n",
    "        )\n",
    "        \n",
    "        self.output = tf.concat([x_max, x_min], axis=2)\n",
    "    \n",
    "    def process(self, x):\n",
    "        sess = tf.get_default_session()\n",
    "        return sess.run(self.output, {self.x: x})\n",
    "    \n",
    "class MinMaxPooler2D():\n",
    "    def __init__(self, x, window, stride, pooling_type='MAX', padding='SAME'):\n",
    "        \"\"\"_____\"\"\"\n",
    "        self.x = x\n",
    "        \n",
    "        x_max = tf.expand_dims(self.x[...,0], [-1])\n",
    "        \n",
    "        x_min = tf.negative(\n",
    "            tf.expand_dims(self.x[...,1], [-1])\n",
    "        )\n",
    "        \n",
    "        # MAX pooling:\n",
    "        x_max = tf.nn.pool(\n",
    "            input=x_max,\n",
    "            window_shape=window,\n",
    "            pooling_type=pooling_type,\n",
    "            padding=padding,\n",
    "            dilation_rate=None,\n",
    "            strides=stride,\n",
    "        )\n",
    "        # MIN pooling:\n",
    "        x_min = tf.negative(\n",
    "            tf.nn.pool(\n",
    "                input=x_min,\n",
    "                window_shape=window,\n",
    "                pooling_type=pooling_type,\n",
    "                padding=padding,\n",
    "                dilation_rate=None,\n",
    "                strides=stride,\n",
    "            )\n",
    "        )\n",
    "        self.output = tf.concat([x_max, x_min], axis=-1)\n",
    "    \n",
    "    def process(self, x):\n",
    "        sess = tf.get_default_session()\n",
    "        return sess.run(self.y, {self.x: x})\n",
    "    \n"
   ]
  },
  {
   "cell_type": "code",
   "execution_count": 43,
   "metadata": {
    "collapsed": true
   },
   "outputs": [],
   "source": [
    "\n",
    "import tensorflow.contrib.rnn as rnn\n",
    "\n",
    "class LSTMPolicy2(BaseLSTMPolicy):\n",
    "    \"\"\"\n",
    "    +++++\n",
    "    \"\"\"\n",
    "    def __init__(self, ob_space, ac_space,\n",
    "                 lstm_class=rnn.BasicLSTMCell, lstm_layers=(256,)):\n",
    "        \n",
    "        self.x = x = tf.placeholder(tf.float32, [None] + list(ob_space), name='x_in_pl')\n",
    "        \n",
    "        #print('GOT HERE 0')\n",
    "        #print ('x:', x.shape)\n",
    "        pre_processor = MinMaxPooler2D(x, [8,4], [6,3], 'MAX', 'SAME')\n",
    "        \n",
    "        #x_pooled = tf.contrib.layers.flatten(pre_processor.output)\n",
    "        \n",
    "        x_pooled = pre_processor.output\n",
    "        \n",
    "        #print('GOT HERE 1')\n",
    "        #print('x_pooled:', x_pooled.shape)\n",
    "        \n",
    "        # Run LSTM along rollout time dimension and evrything else:\n",
    "        super(LSTMPolicy2, self).__init__(x_pooled, ob_space, ac_space, lstm_class, lstm_layers)\n",
    "\n",
    "        "
   ]
  },
  {
   "cell_type": "code",
   "execution_count": null,
   "metadata": {
    "collapsed": true,
    "scrolled": false
   },
   "outputs": [],
   "source": [
    "#tf.reset_default_graph()\n",
    "#pi = LSTMPolicy2((10,2),(3))"
   ]
  },
  {
   "cell_type": "code",
   "execution_count": 65,
   "metadata": {},
   "outputs": [
    {
     "name": "stderr",
     "output_type": "stream",
     "text": [
      "[2017-09-07 16:22:44,053] Launcher ready.\n"
     ]
    }
   ],
   "source": [
    "class MyStrategy(BTgymStrategy):\n",
    "    \"\"\"\n",
    "    Example subclass of BT server inner computation startegy.\n",
    "    \"\"\"\n",
    "    \n",
    "    def __init__(self, **kwargs):\n",
    "        super(MyStrategy,self).__init__(**kwargs)\n",
    "        self.order_penalty = 1\n",
    "        self.trade_just_closed = False\n",
    "        self.trade_result = None\n",
    "        \n",
    "    def notify_trade(self, trade):    \n",
    "        if trade.isclosed:\n",
    "            # Set trade flag and result:\n",
    "            self.trade_just_closed = True\n",
    "            self.trade_result = trade.pnlcomm\n",
    "        \n",
    "    def get_state(self):\n",
    "        T = 1e2 \n",
    "        \n",
    "        #wavelet = 'morl'\n",
    "        \n",
    "        widths = np.arange(2, 45 + 2)\n",
    "        \n",
    "        x = self.raw_state[:, 1:3]\n",
    "        \n",
    "        #d_x = np.gradient(x, axis=0) * T\n",
    "        d_x = x - self.raw_state[0,0]\n",
    "        \n",
    "        #x_cwt_hi, freqs = pywt.cwt(d_x[...,0], widths, wavelet)\n",
    "        x_cwt_hi = signal.cwt(d_x[...,0], signal.ricker, widths)\n",
    "        \n",
    "        #x_cwt_lo, freqs = pywt.cwt(d_x[...,1], widths, wavelet)\n",
    "        x_cwt_lo = signal.cwt(d_x[...,1], signal.ricker, widths)\n",
    "        \n",
    "        x_cwt = np.stack([x_cwt_hi,x_cwt_lo], axis=-1) * T\n",
    "        \n",
    "        self.state['raw_state'] = self.raw_state\n",
    "        self.state['model_input'] = np.transpose(x_cwt, (1, 0, 2))\n",
    "        \n",
    "        return self.state\n",
    "    \n",
    "    def get_reward(self):\n",
    "        \"\"\"\n",
    "        Defines reward as function of last closed trade result with penalty for erronious order placement.\n",
    "        \"\"\"\n",
    "        # Low-value term:\n",
    "        r = (self.broker.get_value() / self.env.broker.startingcash - 1) * 10\n",
    "        \n",
    "        # Result (main-value):\n",
    "        if self.trade_just_closed:\n",
    "            r += self.trade_result\n",
    "            self.trade_just_closed = False\n",
    "            \n",
    "        # Penalty for failed order:\n",
    "        if self.order_failed:\n",
    "            r -= self.order_penalty\n",
    "            self.order_failed = False\n",
    "\n",
    "        return r / 20  # sinse reward is just quick-example, denominator is here to keep gradients sane\n",
    "    \n",
    "    def __next(self):\n",
    "        \"\"\"\n",
    "        _____\n",
    "        \"\"\"\n",
    "        # Simple action-to-order logic:\n",
    "        if self.order:\n",
    "            pass\n",
    "        elif self.action == 'buy_hold' and self.position.size <= 0:\n",
    "            self.order = self.buy()\n",
    "            self.broker_message = 'New BUY created; ' + self.broker_message\n",
    "        elif self.action == 'sell_hold' and self.position.size >= 0:\n",
    "            self.order = self.sell()\n",
    "            self.broker_message = 'New SELL created; ' + self.broker_message\n",
    "        elif self.action == 'close_hold' and self.position.size != 0:\n",
    "            self.order = self.close()\n",
    "            self.broker_message = 'New CLOSE created; ' + self.broker_message\n",
    "\n",
    "# Set backtesting engine parameters:\n",
    "\n",
    "time_embed_dim = 120\n",
    "\n",
    "state_shape = {\n",
    "    'raw_state': spaces.Box(low=-1, high=1, shape=(time_embed_dim, 4)),\n",
    "    'model_input': spaces.Box(low=-100, high=100, shape=(time_embed_dim, 45, 2))\n",
    "}\n",
    "\n",
    "MyCerebro = bt.Cerebro()\n",
    "\n",
    "MyCerebro.addstrategy(\n",
    "    MyStrategy,\n",
    "    state_shape=state_shape,\n",
    "    #portfolio_actions=('close_hold', 'buy_hold', 'sell_hold'),\n",
    "    portfolio_actions=('hold', 'buy', 'sell'),\n",
    "    drawdown_call=5, # max to loose, in percent of initial cash\n",
    "    target_call=10,  # max to win, same\n",
    "    skip_frame=10,\n",
    ")\n",
    "\n",
    "# Set leveraged account:\n",
    "MyCerebro.broker.setcash(2000)\n",
    "MyCerebro.broker.setcommission(commission=0.0001, leverage=10.0) # commisssion to imitate spread\n",
    "MyCerebro.broker.set_shortcash(False)\n",
    "MyCerebro.addsizer(bt.sizers.SizerFix, stake=10000,)\n",
    "\n",
    "MyCerebro.addanalyzer(bt.analyzers.DrawDown)\n",
    "\n",
    "MyDataset = BTgymDataset(\n",
    "    #filename='../examples/data/DAT_ASCII_EURUSD_M1_2016.csv',\n",
    "    filename='../examples/data/DAT_ASCII_EURUSD_M1_201703.csv',\n",
    "    #filename='../examples/data/DAT_ASCII_EURUSD_M1_201704.csv',\n",
    "    #filename='../examples/data/test_sine_1min_period256_delta0002.csv',\n",
    "    start_weekdays=[0, 1, 2, 3, 4],\n",
    "    episode_len_days=0,\n",
    "    episode_len_hours=23,\n",
    "    episode_len_minutes=55,\n",
    "    start_00=False,\n",
    "    time_gap_hours=8,\n",
    ")\n",
    "env_config = dict(\n",
    "    dataset=MyDataset,\n",
    "    engine=MyCerebro,\n",
    "    render_modes=['episode', 'human', 'model_input'],\n",
    "    render_state_as_image=True,\n",
    "    render_ylabel='CWT / Ricker',\n",
    "    render_size_episode=(12,8),\n",
    "    render_size_human=(8, 3.5),\n",
    "    render_size_state=(10, 5),\n",
    "    render_dpi=75,\n",
    "    port=5000,\n",
    "    data_port=4999,\n",
    "    connect_timeout=60,\n",
    "    verbose=0,\n",
    ")\n",
    "\n",
    "# Set tensorflow distributed cluster and a3c configuration:\n",
    "cluster_config = dict(\n",
    "    host='127.0.0.1',\n",
    "    port=12222,\n",
    "    num_workers=6,\n",
    "    num_ps=1,\n",
    "    log_dir='./tmp/a3c_test',\n",
    ")\n",
    "launcher = Launcher(\n",
    "    cluster_config=cluster_config,\n",
    "    env_class=BTgymEnv,\n",
    "    env_config=env_config,\n",
    "    policy_class=LSTMPolicy2,\n",
    "    policy_config={'lstm_layers': (256,)},\n",
    "    rollout_length=20,\n",
    "    test_mode=False,\n",
    "    train_steps=1000000000,\n",
    "    model_summary_freq=20,\n",
    "    episode_summary_freq=1,\n",
    "    env_render_freq=10,\n",
    "    verbose=2\n",
    "    \n",
    ")"
   ]
  },
  {
   "cell_type": "code",
   "execution_count": 66,
   "metadata": {
    "scrolled": false
   },
   "outputs": [
    {
     "name": "stderr",
     "output_type": "stream",
     "text": [
      "[2017-09-07 16:22:44,317] worker_0 tf.server started.\n",
      "[2017-09-07 16:22:44,269] parameters_server started.\n",
      "[2017-09-07 16:22:44,376] making environment.\n",
      "[2017-09-07 16:22:44,378] worker_0 is data_master: True\n",
      "[2017-09-07 16:22:46,680] worker_0:envronment ok.\n",
      "[2017-09-07 16:22:46,683] A3C_0: init() started\n",
      "[2017-09-07 16:22:48,055] A3C_0: train op defined\n",
      "[2017-09-07 16:22:48,110] A3C_0: init() done\n",
      "[2017-09-07 16:22:48,112] worker_0:trainer ok.\n",
      "[2017-09-07 16:22:48,755] worker_0: connecting to the parameter server... \n"
     ]
    },
    {
     "name": "stdout",
     "output_type": "stream",
     "text": [
      "INFO:tensorflow:Restoring parameters from ./tmp/a3c_test/train/model.ckpt-30935\n"
     ]
    },
    {
     "name": "stderr",
     "output_type": "stream",
     "text": [
      "[2017-09-07 16:22:48,809] Restoring parameters from ./tmp/a3c_test/train/model.ckpt-30935\n",
      "[2017-09-07 16:22:49,162] Press `Ctrl-C` to stop training and close launcher.\n",
      "[2017-09-07 16:22:49,165] worker_1 tf.server started.\n",
      "[2017-09-07 16:22:49,169] worker_2 tf.server started.\n",
      "[2017-09-07 16:22:49,174] worker_3 tf.server started.\n",
      "[2017-09-07 16:22:49,174] making environment.\n",
      "[2017-09-07 16:22:49,179] making environment.\n",
      "[2017-09-07 16:22:49,182] making environment.\n",
      "[2017-09-07 16:22:49,178] worker_4 tf.server started.\n",
      "[2017-09-07 16:22:49,188] worker_3 is data_master: False\n",
      "[2017-09-07 16:22:49,184] worker_2 is data_master: False\n",
      "[2017-09-07 16:22:49,183] worker_1 is data_master: False\n",
      "[2017-09-07 16:22:49,188] making environment.\n",
      "[2017-09-07 16:22:49,185] worker_5 tf.server started.\n",
      "[2017-09-07 16:22:49,192] worker_4 is data_master: False\n",
      "[2017-09-07 16:22:49,195] making environment.\n",
      "[2017-09-07 16:22:49,203] worker_5 is data_master: False\n"
     ]
    },
    {
     "name": "stdout",
     "output_type": "stream",
     "text": [
      "Press `Ctrl-C` to stop training and close launcher.\n"
     ]
    },
    {
     "name": "stderr",
     "output_type": "stream",
     "text": [
      "[2017-09-07 16:22:50,271] worker_2:envronment ok.\n",
      "[2017-09-07 16:22:50,274] A3C_2: init() started\n",
      "[2017-09-07 16:22:50,340] worker_5:envronment ok.\n",
      "[2017-09-07 16:22:50,343] A3C_5: init() started\n",
      "[2017-09-07 16:22:50,358] worker_3:envronment ok.\n",
      "[2017-09-07 16:22:50,362] A3C_3: init() started\n",
      "[2017-09-07 16:22:50,383] worker_1:envronment ok.\n",
      "[2017-09-07 16:22:50,387] A3C_1: init() started\n",
      "[2017-09-07 16:22:50,406] worker_4:envronment ok.\n",
      "[2017-09-07 16:22:50,410] A3C_4: init() started\n",
      "[2017-09-07 16:22:52,021] A3C_2: train op defined\n",
      "[2017-09-07 16:22:52,106] A3C_2: init() done\n",
      "[2017-09-07 16:22:52,108] worker_2:trainer ok.\n",
      "[2017-09-07 16:22:52,174] A3C_3: train op defined\n",
      "[2017-09-07 16:22:52,207] A3C_5: train op defined\n",
      "[2017-09-07 16:22:52,232] A3C_4: train op defined\n",
      "[2017-09-07 16:22:52,242] A3C_1: train op defined\n",
      "[2017-09-07 16:22:52,267] A3C_3: init() done\n",
      "[2017-09-07 16:22:52,269] worker_3:trainer ok.\n",
      "[2017-09-07 16:22:52,295] A3C_5: init() done\n",
      "[2017-09-07 16:22:52,297] worker_5:trainer ok.\n",
      "[2017-09-07 16:22:52,328] A3C_4: init() done\n",
      "[2017-09-07 16:22:52,330] worker_4:trainer ok.\n",
      "[2017-09-07 16:22:52,332] A3C_1: init() done\n",
      "[2017-09-07 16:22:52,334] worker_1:trainer ok.\n"
     ]
    },
    {
     "name": "stdout",
     "output_type": "stream",
     "text": [
      "INFO:tensorflow:Starting standard services.\n"
     ]
    },
    {
     "name": "stderr",
     "output_type": "stream",
     "text": [
      "[2017-09-07 16:22:52,356] Starting standard services.\n"
     ]
    },
    {
     "name": "stdout",
     "output_type": "stream",
     "text": [
      "INFO:tensorflow:Saving checkpoint to path ./tmp/a3c_test/train/model.ckpt\n"
     ]
    },
    {
     "name": "stderr",
     "output_type": "stream",
     "text": [
      "[2017-09-07 16:22:52,374] Saving checkpoint to path ./tmp/a3c_test/train/model.ckpt\n"
     ]
    },
    {
     "name": "stdout",
     "output_type": "stream",
     "text": [
      "INFO:tensorflow:Starting queue runners.\n"
     ]
    },
    {
     "name": "stderr",
     "output_type": "stream",
     "text": [
      "[2017-09-07 16:22:52,375] Starting queue runners.\n"
     ]
    },
    {
     "name": "stdout",
     "output_type": "stream",
     "text": [
      "INFO:tensorflow:global/global_step/sec: 0\n"
     ]
    },
    {
     "name": "stderr",
     "output_type": "stream",
     "text": [
      "[2017-09-07 16:22:52,384] global/global_step/sec: 0\n",
      "[2017-09-07 16:22:52,460] worker_0: starting training at step: 30955\n",
      "[2017-09-07 16:22:53,195] worker_2: connecting to the parameter server... \n",
      "[2017-09-07 16:22:53,410] worker_3: connecting to the parameter server... \n",
      "[2017-09-07 16:22:53,419] worker_5: connecting to the parameter server... \n",
      "[2017-09-07 16:22:53,507] worker_1: connecting to the parameter server... \n",
      "[2017-09-07 16:22:53,544] worker_4: connecting to the parameter server... \n"
     ]
    },
    {
     "name": "stdout",
     "output_type": "stream",
     "text": [
      "INFO:tensorflow:Starting queue runners.\n"
     ]
    },
    {
     "name": "stderr",
     "output_type": "stream",
     "text": [
      "[2017-09-07 16:22:54,317] Starting queue runners.\n",
      "[2017-09-07 16:22:54,417] worker_2: starting training at step: 31035\n"
     ]
    },
    {
     "name": "stdout",
     "output_type": "stream",
     "text": [
      "INFO:tensorflow:Starting queue runners.\n"
     ]
    },
    {
     "name": "stderr",
     "output_type": "stream",
     "text": [
      "[2017-09-07 16:22:54,604] Starting queue runners.\n"
     ]
    },
    {
     "name": "stdout",
     "output_type": "stream",
     "text": [
      "INFO:tensorflow:Starting queue runners.\n"
     ]
    },
    {
     "name": "stderr",
     "output_type": "stream",
     "text": [
      "[2017-09-07 16:22:54,646] Starting queue runners.\n",
      "[2017-09-07 16:22:54,663] worker_3: starting training at step: 31035\n",
      "[2017-09-07 16:22:54,714] worker_5: starting training at step: 31035\n"
     ]
    },
    {
     "name": "stdout",
     "output_type": "stream",
     "text": [
      "INFO:tensorflow:Starting queue runners.\n"
     ]
    },
    {
     "name": "stderr",
     "output_type": "stream",
     "text": [
      "[2017-09-07 16:22:54,778] Starting queue runners.\n"
     ]
    },
    {
     "name": "stdout",
     "output_type": "stream",
     "text": [
      "INFO:tensorflow:Starting queue runners.\n"
     ]
    },
    {
     "name": "stderr",
     "output_type": "stream",
     "text": [
      "[2017-09-07 16:22:54,792] Starting queue runners.\n",
      "[2017-09-07 16:22:54,844] worker_1: starting training at step: 31035\n",
      "[2017-09-07 16:22:54,881] worker_4: starting training at step: 31035\n"
     ]
    },
    {
     "name": "stdout",
     "output_type": "stream",
     "text": [
      "INFO:tensorflow:global/global_step/sec: 105.365\n"
     ]
    },
    {
     "name": "stderr",
     "output_type": "stream",
     "text": [
      "[2017-09-07 16:24:52,387] global/global_step/sec: 105.365\n"
     ]
    },
    {
     "name": "stdout",
     "output_type": "stream",
     "text": [
      "INFO:tensorflow:global/global_step/sec: 103.887\n"
     ]
    },
    {
     "name": "stderr",
     "output_type": "stream",
     "text": [
      "[2017-09-07 16:26:52,372] global/global_step/sec: 103.887\n"
     ]
    },
    {
     "name": "stdout",
     "output_type": "stream",
     "text": [
      "INFO:tensorflow:Saving checkpoint to path ./tmp/a3c_test/train/model.ckpt\n"
     ]
    },
    {
     "name": "stderr",
     "output_type": "stream",
     "text": [
      "[2017-09-07 16:27:52,363] Saving checkpoint to path ./tmp/a3c_test/train/model.ckpt\n"
     ]
    },
    {
     "name": "stdout",
     "output_type": "stream",
     "text": [
      "INFO:tensorflow:global/global_step/sec: 100.666\n"
     ]
    },
    {
     "name": "stderr",
     "output_type": "stream",
     "text": [
      "[2017-09-07 16:28:52,384] global/global_step/sec: 100.666\n"
     ]
    },
    {
     "name": "stdout",
     "output_type": "stream",
     "text": [
      "INFO:tensorflow:global/global_step/sec: 96.0239\n"
     ]
    },
    {
     "name": "stderr",
     "output_type": "stream",
     "text": [
      "[2017-09-07 16:30:52,387] global/global_step/sec: 96.0239\n",
      "Process BTgymDataFeedServer-108:1:\n",
      "Process BTgymServer-109:1:\n",
      "[2017-09-07 16:30:59,984] worker_1 has joined.\n",
      "Process BTgymServer-112:1:\n",
      "Process BTgymServer-111:1:\n",
      "Process BTgymServer-110:1:\n",
      "Process BTgymServer-113:1:\n",
      "[2017-09-07 16:31:00,008] worker_2 has joined.\n",
      "Process BTgymServer-108:2:\n",
      "[2017-09-07 16:31:00,014] worker_3 has joined.\n",
      "[2017-09-07 16:31:00,015] worker_4 has joined.\n",
      "[2017-09-07 16:31:00,016] worker_5 has joined.\n",
      "[2017-09-07 16:31:00,017] chief_worker_0 has joined.\n",
      "[2017-09-07 16:31:00,018] parameter_server_0 has joined.\n",
      "[2017-09-07 16:31:00,018] Launcher closed.\n",
      "Traceback (most recent call last):\n",
      "Traceback (most recent call last):\n",
      "Traceback (most recent call last):\n",
      "  File \"/Users/muzikin/anaconda/envs/tensorforce/lib/python3.6/multiprocessing/process.py\", line 249, in _bootstrap\n",
      "    self.run()\n",
      "  File \"/Users/muzikin/anaconda/envs/tensorforce/lib/python3.6/multiprocessing/process.py\", line 249, in _bootstrap\n",
      "    self.run()\n",
      "  File \"/Users/muzikin/anaconda/envs/tensorforce/lib/python3.6/multiprocessing/process.py\", line 249, in _bootstrap\n",
      "    self.run()\n",
      "Traceback (most recent call last):\n",
      "  File \"/Users/muzikin/Yandex.Disk.localized/work/btgym/btgym/server.py\", line 413, in run\n",
      "    episode = cerebro.run(stdstats=True, preload=False, oldbuysell=True)[0]\n",
      "  File \"/Users/muzikin/Yandex.Disk.localized/work/btgym/btgym/server.py\", line 413, in run\n",
      "    episode = cerebro.run(stdstats=True, preload=False, oldbuysell=True)[0]\n",
      "  File \"/Users/muzikin/Yandex.Disk.localized/work/btgym/btgym/server.py\", line 413, in run\n",
      "    episode = cerebro.run(stdstats=True, preload=False, oldbuysell=True)[0]\n",
      "  File \"/Users/muzikin/anaconda/envs/tensorforce/lib/python3.6/site-packages/backtrader/cerebro.py\", line 1073, in run\n",
      "    runstrat = self.runstrategies(iterstrat)\n",
      "  File \"/Users/muzikin/anaconda/envs/tensorforce/lib/python3.6/multiprocessing/process.py\", line 249, in _bootstrap\n",
      "    self.run()\n",
      "  File \"/Users/muzikin/anaconda/envs/tensorforce/lib/python3.6/site-packages/backtrader/cerebro.py\", line 1073, in run\n",
      "    runstrat = self.runstrategies(iterstrat)\n",
      "  File \"/Users/muzikin/anaconda/envs/tensorforce/lib/python3.6/site-packages/backtrader/cerebro.py\", line 1073, in run\n",
      "    runstrat = self.runstrategies(iterstrat)\n",
      "  File \"/Users/muzikin/anaconda/envs/tensorforce/lib/python3.6/site-packages/backtrader/cerebro.py\", line 1235, in runstrategies\n",
      "    self._runnext(runstrats)\n",
      "  File \"/Users/muzikin/anaconda/envs/tensorforce/lib/python3.6/site-packages/backtrader/cerebro.py\", line 1235, in runstrategies\n",
      "    self._runnext(runstrats)\n",
      "  File \"/Users/muzikin/Yandex.Disk.localized/work/btgym/btgym/dataserver.py\", line 100, in run\n",
      "    service_input = socket.recv_pyobj()\n",
      "  File \"/Users/muzikin/anaconda/envs/tensorforce/lib/python3.6/site-packages/backtrader/cerebro.py\", line 1235, in runstrategies\n",
      "    self._runnext(runstrats)\n",
      "  File \"/Users/muzikin/anaconda/envs/tensorforce/lib/python3.6/site-packages/backtrader/cerebro.py\", line 1564, in _runnext\n",
      "    strat._next()\n",
      "  File \"/Users/muzikin/anaconda/envs/tensorforce/lib/python3.6/site-packages/zmq/sugar/socket.py\", line 491, in recv_pyobj\n",
      "    msg = self.recv(flags)\n",
      "  File \"/Users/muzikin/anaconda/envs/tensorforce/lib/python3.6/site-packages/backtrader/cerebro.py\", line 1564, in _runnext\n",
      "    strat._next()\n",
      "  File \"/Users/muzikin/anaconda/envs/tensorforce/lib/python3.6/site-packages/backtrader/cerebro.py\", line 1564, in _runnext\n",
      "    strat._next()\n",
      "  File \"zmq/backend/cython/socket.pyx\", line 693, in zmq.backend.cython.socket.Socket.recv (zmq/backend/cython/socket.c:7683)\n",
      "  File \"/Users/muzikin/anaconda/envs/tensorforce/lib/python3.6/site-packages/backtrader/strategy.py\", line 324, in _next\n",
      "    super(Strategy, self)._next()\n",
      "  File \"/Users/muzikin/anaconda/envs/tensorforce/lib/python3.6/site-packages/backtrader/strategy.py\", line 324, in _next\n",
      "    super(Strategy, self)._next()\n",
      "  File \"zmq/backend/cython/socket.pyx\", line 727, in zmq.backend.cython.socket.Socket.recv (zmq/backend/cython/socket.c:7460)\n",
      "  File \"/Users/muzikin/anaconda/envs/tensorforce/lib/python3.6/site-packages/backtrader/strategy.py\", line 327, in _next\n",
      "    self._next_analyzers(minperstatus)\n",
      "  File \"/Users/muzikin/anaconda/envs/tensorforce/lib/python3.6/site-packages/backtrader/lineiterator.py\", line 255, in _next\n",
      "    clock_len = self._clk_update()\n",
      "  File \"/Users/muzikin/anaconda/envs/tensorforce/lib/python3.6/site-packages/backtrader/lineiterator.py\", line 260, in _next\n",
      "    self._notify()\n",
      "  File \"zmq/backend/cython/socket.pyx\", line 145, in zmq.backend.cython.socket._recv_copy (zmq/backend/cython/socket.c:2344)\n",
      "  File \"/Users/muzikin/anaconda/envs/tensorforce/lib/python3.6/site-packages/backtrader/strategy.py\", line 361, in _next_analyzers\n",
      "    analyzer._next()\n",
      "  File \"/Users/muzikin/anaconda/envs/tensorforce/lib/python3.6/site-packages/backtrader/strategy.py\", line 312, in _clk_update\n",
      "    return len(self)\n",
      "Traceback (most recent call last):\n",
      "  File \"/Users/muzikin/anaconda/envs/tensorforce/lib/python3.6/site-packages/backtrader/strategy.py\", line 587, in _notify\n",
      "    analyzer._notify_fund(cash, value, fundvalue, fundshares)\n",
      "  File \"zmq/backend/cython/checkrc.pxd\", line 12, in zmq.backend.cython.checkrc._check_rc (zmq/backend/cython/socket.c:9621)\n",
      "  File \"/Users/muzikin/anaconda/envs/tensorforce/lib/python3.6/site-packages/backtrader/analyzer.py\", line 188, in _next\n",
      "    self.next()\n",
      "  File \"/Users/muzikin/anaconda/envs/tensorforce/lib/python3.6/site-packages/backtrader/lineseries.py\", line 463, in __len__\n",
      "    return len(self.lines)\n",
      "  File \"/Users/muzikin/anaconda/envs/tensorforce/lib/python3.6/multiprocessing/process.py\", line 249, in _bootstrap\n",
      "    self.run()\n",
      "  File \"/Users/muzikin/anaconda/envs/tensorforce/lib/python3.6/site-packages/backtrader/analyzer.py\", line 164, in _notify_fund\n",
      "    self.notify_fund(cash, value, fundvalue, shares)\n",
      "KeyboardInterrupt\n",
      "  File \"/Users/muzikin/Yandex.Disk.localized/work/btgym/btgym/server.py\", line 103, in next\n",
      "    state = self.strategy.get_state()\n",
      "  File \"/Users/muzikin/Yandex.Disk.localized/work/btgym/btgym/server.py\", line 413, in run\n",
      "    episode = cerebro.run(stdstats=True, preload=False, oldbuysell=True)[0]\n",
      "KeyboardInterrupt\n",
      "  File \"/Users/muzikin/anaconda/envs/tensorforce/lib/python3.6/site-packages/backtrader/analyzers/drawdown.py\", line 93, in notify_fund\n",
      "    self._maxvalue = max(self._maxvalue, value)  # update peak value\n",
      "  File \"<ipython-input-65-b08c5c6876eb>\", line 31, in get_state\n",
      "    x_cwt_hi = signal.cwt(d_x[...,0], signal.ricker, widths)\n",
      "Traceback (most recent call last):\n",
      "  File \"/Users/muzikin/anaconda/envs/tensorforce/lib/python3.6/site-packages/backtrader/cerebro.py\", line 1073, in run\n",
      "    runstrat = self.runstrategies(iterstrat)\n",
      "  File \"/Users/muzikin/anaconda/envs/tensorforce/lib/python3.6/site-packages/backtrader/cerebro.py\", line 1235, in runstrategies\n",
      "    self._runnext(runstrats)\n",
      "  File \"/Users/muzikin/anaconda/envs/tensorforce/lib/python3.6/multiprocessing/process.py\", line 249, in _bootstrap\n",
      "    self.run()\n",
      "KeyboardInterrupt\n",
      "  File \"/Users/muzikin/anaconda/envs/tensorforce/lib/python3.6/site-packages/scipy/signal/wavelets.py\", line 362, in cwt\n",
      "    wavelet_data = wavelet(min(10 * width, len(data)), width)\n",
      "  File \"/Users/muzikin/anaconda/envs/tensorforce/lib/python3.6/site-packages/backtrader/cerebro.py\", line 1564, in _runnext\n",
      "    strat._next()\n",
      "  File \"/Users/muzikin/anaconda/envs/tensorforce/lib/python3.6/site-packages/scipy/signal/wavelets.py\", line 306, in ricker\n",
      "    gauss = np.exp(-xsq / (2 * wsq))\n",
      "  File \"/Users/muzikin/Yandex.Disk.localized/work/btgym/btgym/server.py\", line 413, in run\n",
      "    episode = cerebro.run(stdstats=True, preload=False, oldbuysell=True)[0]\n",
      "  File \"/Users/muzikin/anaconda/envs/tensorforce/lib/python3.6/site-packages/backtrader/cerebro.py\", line 1073, in run\n",
      "    runstrat = self.runstrategies(iterstrat)\n",
      "  File \"/Users/muzikin/anaconda/envs/tensorforce/lib/python3.6/site-packages/backtrader/strategy.py\", line 324, in _next\n",
      "    super(Strategy, self)._next()\n",
      "KeyboardInterrupt\n",
      "  File \"/Users/muzikin/anaconda/envs/tensorforce/lib/python3.6/site-packages/backtrader/cerebro.py\", line 1235, in runstrategies\n",
      "    self._runnext(runstrats)\n"
     ]
    },
    {
     "name": "stderr",
     "output_type": "stream",
     "text": [
      "  File \"/Users/muzikin/anaconda/envs/tensorforce/lib/python3.6/site-packages/backtrader/lineiterator.py\", line 266, in _next\n",
      "    self.next()\n",
      "  File \"/Users/muzikin/anaconda/envs/tensorforce/lib/python3.6/site-packages/backtrader/cerebro.py\", line 1564, in _runnext\n",
      "    strat._next()\n",
      "  File \"/Users/muzikin/Yandex.Disk.localized/work/btgym/btgym/strategy.py\", line 267, in next\n",
      "    self.order = self.sell()\n",
      "  File \"/Users/muzikin/anaconda/envs/tensorforce/lib/python3.6/site-packages/backtrader/strategy.py\", line 943, in sell\n",
      "    **kwargs)\n",
      "  File \"/Users/muzikin/anaconda/envs/tensorforce/lib/python3.6/site-packages/backtrader/strategy.py\", line 327, in _next\n",
      "    self._next_analyzers(minperstatus)\n",
      "  File \"/Users/muzikin/anaconda/envs/tensorforce/lib/python3.6/site-packages/backtrader/brokers/bbroker.py\", line 645, in sell\n",
      "    parent=parent, transmit=transmit)\n",
      "  File \"/Users/muzikin/anaconda/envs/tensorforce/lib/python3.6/site-packages/backtrader/strategy.py\", line 361, in _next_analyzers\n",
      "    analyzer._next()\n",
      "  File \"/Users/muzikin/anaconda/envs/tensorforce/lib/python3.6/site-packages/backtrader/analyzer.py\", line 188, in _next\n",
      "    self.next()\n",
      "  File \"/Users/muzikin/anaconda/envs/tensorforce/lib/python3.6/site-packages/backtrader/metabase.py\", line 85, in __call__\n",
      "    cls, args, kwargs = cls.doprenew(*args, **kwargs)\n",
      "  File \"/Users/muzikin/Yandex.Disk.localized/work/btgym/btgym/server.py\", line 103, in next\n",
      "    state = self.strategy.get_state()\n",
      "  File \"/Users/muzikin/anaconda/envs/tensorforce/lib/python3.6/site-packages/backtrader/metabase.py\", line 67, in doprenew\n",
      "    def doprenew(cls, *args, **kwargs):\n",
      "  File \"<ipython-input-65-b08c5c6876eb>\", line 34, in get_state\n",
      "    x_cwt_lo = signal.cwt(d_x[...,1], signal.ricker, widths)\n",
      "KeyboardInterrupt\n",
      "  File \"/Users/muzikin/anaconda/envs/tensorforce/lib/python3.6/site-packages/scipy/signal/wavelets.py\", line 364, in cwt\n",
      "    mode='same')\n",
      "  File \"/Users/muzikin/anaconda/envs/tensorforce/lib/python3.6/site-packages/scipy/signal/signaltools.py\", line 783, in convolve\n",
      "    method = choose_conv_method(volume, kernel, mode=mode)\n",
      "Traceback (most recent call last):\n",
      "  File \"/Users/muzikin/anaconda/envs/tensorforce/lib/python3.6/site-packages/scipy/signal/signaltools.py\", line 679, in choose_conv_method\n",
      "    if _fftconv_faster(volume, kernel, mode):\n",
      "  File \"/Users/muzikin/anaconda/envs/tensorforce/lib/python3.6/site-packages/scipy/signal/signaltools.py\", line 467, in _fftconv_faster\n",
      "    if h.size <= x.size:\n",
      "  File \"/Users/muzikin/anaconda/envs/tensorforce/lib/python3.6/multiprocessing/process.py\", line 249, in _bootstrap\n",
      "    self.run()\n",
      "KeyboardInterrupt\n",
      "  File \"/Users/muzikin/Yandex.Disk.localized/work/btgym/btgym/server.py\", line 413, in run\n",
      "    episode = cerebro.run(stdstats=True, preload=False, oldbuysell=True)[0]\n",
      "  File \"/Users/muzikin/anaconda/envs/tensorforce/lib/python3.6/site-packages/backtrader/cerebro.py\", line 1073, in run\n",
      "    runstrat = self.runstrategies(iterstrat)\n",
      "  File \"/Users/muzikin/anaconda/envs/tensorforce/lib/python3.6/site-packages/backtrader/cerebro.py\", line 1235, in runstrategies\n",
      "    self._runnext(runstrats)\n",
      "  File \"/Users/muzikin/anaconda/envs/tensorforce/lib/python3.6/site-packages/backtrader/cerebro.py\", line 1564, in _runnext\n",
      "    strat._next()\n",
      "  File \"/Users/muzikin/anaconda/envs/tensorforce/lib/python3.6/site-packages/backtrader/strategy.py\", line 327, in _next\n",
      "    self._next_analyzers(minperstatus)\n",
      "  File \"/Users/muzikin/anaconda/envs/tensorforce/lib/python3.6/site-packages/backtrader/strategy.py\", line 361, in _next_analyzers\n",
      "    analyzer._next()\n",
      "  File \"/Users/muzikin/anaconda/envs/tensorforce/lib/python3.6/site-packages/backtrader/analyzer.py\", line 188, in _next\n",
      "    self.next()\n",
      "  File \"/Users/muzikin/Yandex.Disk.localized/work/btgym/btgym/server.py\", line 103, in next\n",
      "    state = self.strategy.get_state()\n",
      "  File \"<ipython-input-65-b08c5c6876eb>\", line 34, in get_state\n",
      "    x_cwt_lo = signal.cwt(d_x[...,1], signal.ricker, widths)\n",
      "  File \"/Users/muzikin/anaconda/envs/tensorforce/lib/python3.6/site-packages/scipy/signal/wavelets.py\", line 364, in cwt\n",
      "    mode='same')\n",
      "  File \"/Users/muzikin/anaconda/envs/tensorforce/lib/python3.6/site-packages/scipy/signal/signaltools.py\", line 793, in convolve\n",
      "    return np.convolve(volume, kernel, mode)\n",
      "  File \"/Users/muzikin/anaconda/envs/tensorforce/lib/python3.6/site-packages/numpy/core/numeric.py\", line 1073, in convolve\n",
      "    return multiarray.correlate(a, v[::-1], mode)\n",
      "KeyboardInterrupt\n"
     ]
    }
   ],
   "source": [
    "launcher.run()"
   ]
  },
  {
   "cell_type": "code",
   "execution_count": null,
   "metadata": {
    "collapsed": true
   },
   "outputs": [],
   "source": [
    "env_config.update({'port': 5050, 'data_port': 5049})\n",
    "env = BTgymEnv(**env_config)"
   ]
  },
  {
   "cell_type": "code",
   "execution_count": null,
   "metadata": {
    "collapsed": true
   },
   "outputs": [],
   "source": [
    "o = env.reset()"
   ]
  },
  {
   "cell_type": "code",
   "execution_count": null,
   "metadata": {
    "collapsed": true
   },
   "outputs": [],
   "source": [
    "o"
   ]
  },
  {
   "cell_type": "code",
   "execution_count": null,
   "metadata": {
    "collapsed": true
   },
   "outputs": [],
   "source": [
    "o,r,d,i = env.step(0)\n",
    "print(o)"
   ]
  },
  {
   "cell_type": "code",
   "execution_count": null,
   "metadata": {
    "collapsed": true
   },
   "outputs": [],
   "source": [
    "env.close()"
   ]
  },
  {
   "cell_type": "code",
   "execution_count": null,
   "metadata": {
    "collapsed": true
   },
   "outputs": [],
   "source": []
  }
 ],
 "metadata": {
  "kernelspec": {
   "display_name": "Python 3",
   "language": "python",
   "name": "python3"
  },
  "language_info": {
   "codemirror_mode": {
    "name": "ipython",
    "version": 3
   },
   "file_extension": ".py",
   "mimetype": "text/x-python",
   "name": "python",
   "nbconvert_exporter": "python",
   "pygments_lexer": "ipython3",
   "version": "3.6.0"
  }
 },
 "nbformat": 4,
 "nbformat_minor": 2
}
