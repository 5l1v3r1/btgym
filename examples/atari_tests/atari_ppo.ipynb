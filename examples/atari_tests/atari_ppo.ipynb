{
 "cells": [
  {
   "cell_type": "code",
   "execution_count": null,
   "metadata": {
    "collapsed": true
   },
   "outputs": [],
   "source": [
    "# Pre-configured async. PPO launcher\n",
    "# for Atari Gym Environment.\n",
    "#\n",
    "# Point tensorboard to User/tmp/ppo_test_gym_ppo\n",
    "#\n",
    "# Note: this one needs finetuning.\n",
    "# \n",
    "# Paper: https://arxiv.org/pdf/1707.06347.pdf"
   ]
  },
  {
   "cell_type": "code",
   "execution_count": null,
   "metadata": {
    "collapsed": true
   },
   "outputs": [],
   "source": [
    "import os\n",
    "from btgym.algorithms import Launcher, PPO, AacPolicy"
   ]
  },
  {
   "cell_type": "code",
   "execution_count": null,
   "metadata": {
    "collapsed": true
   },
   "outputs": [],
   "source": [
    "launcher = Launcher(\n",
    "    cluster_config=dict(\n",
    "        host='127.0.0.1',\n",
    "        port=12230,\n",
    "        num_workers=6,  # Set according CPU's available \n",
    "        num_ps=1,\n",
    "        log_dir=os.path.expanduser('~/tmp/ppo_test_gym_ppo'),\n",
    "    ),\n",
    "    env_config=dict(\n",
    "        gym_id='Breakout-v0'\n",
    "    ),\n",
    "    trainer_config=dict(\n",
    "        trainer_class=PPO,\n",
    "        opt_learn_rate=[2e-4, 1e-4],  # Random log-uniform\n",
    "        opt_end_learn_rate=5e-6,\n",
    "        opt_decay_steps=20*10**6,\n",
    "        model_gae_lambda=0.95,\n",
    "        model_beta=[0.02, 0.001],  # Entropy reg, random log-uniform\n",
    "        pi_old_update_period=10,  # = every 10'th train step\n",
    "        num_epochs=3,  # PPO specific: mum. of SGD runs for every train step\n",
    "        rollout_length=20,\n",
    "        model_summary_freq=100,\n",
    "        episode_summary_freq=10,\n",
    "        env_render_freq=100,\n",
    "    ),\n",
    "    policy_config=dict(\n",
    "        policy_class=AacPolicy,\n",
    "    ),\n",
    "    max_train_steps=50*10**6,\n",
    "    test_mode=True,\n",
    "    root_random_seed=0,\n",
    "    verbose=1\n",
    ")"
   ]
  },
  {
   "cell_type": "code",
   "execution_count": null,
   "metadata": {
    "collapsed": true,
    "scrolled": false
   },
   "outputs": [],
   "source": [
    "launcher.run()"
   ]
  },
  {
   "cell_type": "code",
   "execution_count": null,
   "metadata": {
    "collapsed": true
   },
   "outputs": [],
   "source": []
  }
 ],
 "metadata": {
  "kernelspec": {
   "display_name": "Python 3",
   "language": "python",
   "name": "python3"
  },
  "language_info": {
   "codemirror_mode": {
    "name": "ipython",
    "version": 3
   },
   "file_extension": ".py",
   "mimetype": "text/x-python",
   "name": "python",
   "nbconvert_exporter": "python",
   "pygments_lexer": "ipython3",
   "version": "3.6.0"
  }
 },
 "nbformat": 4,
 "nbformat_minor": 2
}
