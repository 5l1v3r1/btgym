{
 "cells": [
  {
   "cell_type": "code",
   "execution_count": null,
   "metadata": {
    "collapsed": true
   },
   "outputs": [],
   "source": [
    "# Pre-configured async. PPO launcher\n",
    "# for Atari Gym Environment.\n",
    "#\n",
    "# Point tensorboard to User/tmp/ppo_test_gym_ppo\n",
    "#\n",
    "# Note: this one needs finetuning.\n",
    "# \n",
    "# Paper: https://arxiv.org/pdf/1707.06347.pdf"
   ]
  },
  {
   "cell_type": "code",
   "execution_count": null,
   "metadata": {},
   "outputs": [],
   "source": [
    "import os\n",
    "from btgym.algorithms import AtariRescale42x42, Launcher, PPO, AacPolicy"
   ]
  },
  {
   "cell_type": "code",
   "execution_count": null,
   "metadata": {},
   "outputs": [],
   "source": [
    "\n",
    "cluster_config=dict(\n",
    "    host='127.0.0.1',\n",
    "    port=12230,\n",
    "    num_workers=6,  # Set according CPU's available \n",
    "    num_ps=1,\n",
    "    log_dir=os.path.expanduser('~/tmp/ppo_test_gym_ppo'),\n",
    ")\n",
    "\n",
    "env_config = dict(\n",
    "    class_ref=AtariRescale42x42,  # Gym env. preprocessed to normalized grayscale 42x42 pix.\n",
    "    kwargs={'gym_id': 'Breakout-v0'}\n",
    ")\n",
    "\n",
    "policy_config = dict(\n",
    "    class_ref=AacPolicy,\n",
    "    kwargs={}\n",
    ")\n",
    "\n",
    "trainer_config=dict(\n",
    "    class_ref=PPO,\n",
    "    kwargs=dict(\n",
    "        opt_learn_rate=[2e-4, 1e-4],  # Random log-uniform\n",
    "        opt_end_learn_rate=1e-6,\n",
    "        opt_decay_steps=20*10**6,\n",
    "        model_gae_lambda=0.95,\n",
    "        model_beta=[0.02, 0.001],  # Entropy reg, random log-uniform\n",
    "        pi_old_update_period=10,  # = every 10'th train step\n",
    "        num_epochs=3,  # PPO specific: mum. of SGD runs for every train step\n",
    "        rollout_length=20,\n",
    "        model_summary_freq=100,\n",
    "        episode_summary_freq=10,\n",
    "        env_render_freq=100,\n",
    "    )\n",
    ")\n",
    "\n",
    "launcher = Launcher(\n",
    "    cluster_config=cluster_config,\n",
    "    env_config=env_config,\n",
    "    trainer_config=trainer_config,\n",
    "    policy_config=policy_config,\n",
    "    test_mode=True,\n",
    "    max_train_steps=50*10**6,\n",
    "    root_random_seed=0,\n",
    "    verbose=1\n",
    ")"
   ]
  },
  {
   "cell_type": "code",
   "execution_count": null,
   "metadata": {
    "scrolled": false
   },
   "outputs": [],
   "source": [
    "launcher.run()"
   ]
  },
  {
   "cell_type": "code",
   "execution_count": null,
   "metadata": {
    "collapsed": true
   },
   "outputs": [],
   "source": []
  }
 ],
 "metadata": {
  "kernelspec": {
   "display_name": "Python 3",
   "language": "python",
   "name": "python3"
  },
  "language_info": {
   "codemirror_mode": {
    "name": "ipython",
    "version": 3
   },
   "file_extension": ".py",
   "mimetype": "text/x-python",
   "name": "python",
   "nbconvert_exporter": "python",
   "pygments_lexer": "ipython3",
   "version": "3.6.0"
  }
 },
 "nbformat": 4,
 "nbformat_minor": 2
}
