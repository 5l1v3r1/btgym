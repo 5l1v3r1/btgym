{
 "cells": [
  {
   "cell_type": "markdown",
   "metadata": {},
   "source": [
    "# **INCOMPLETED**"
   ]
  },
  {
   "cell_type": "markdown",
   "metadata": {},
   "source": [
    "##  Settings and parameters: full power.\n",
    "##### OR: setting gym environment with your own backtrader engine.\n",
    "****\n",
    "This example assumes familarity with  Backtrader conceptions. One should at least run through Quickstart tutorial:  https://www.backtrader.com/docu/quickstart/quickstart.html\n",
    " \n",
    "Typical workfolw for traditional Backtrader backtesting procedure:\n",
    "- Define backtrader core engine:\n",
    "  \n",
    "``` python\n",
    "    import backtrader as bt\n",
    "    import backtrader.feeds as btfeeds\n",
    "    engine = bt.Cerebro()\n",
    "```\n",
    "\n",
    "- Add some starategy class, wich has been prepared in advance as backtrader base Strategy() subclass and should define  decision-making logic:\n",
    " \n",
    "``` python\n",
    "    engine.addstrategy(MyStrategy)\n",
    "```\n",
    "     \n",
    "- Set broker options, such as: cash, commission, slippage, etc.:\n",
    " \n",
    "``` python\n",
    "    engine.setcash(100000)\n",
    "    engine.setcommission(0.001)\n",
    "```\n",
    "    \n",
    "- Add analyzers, observers, sizers, writers to own needs:\n",
    " \n",
    "``` python\n",
    "    engine.addobserver(bt.observers.Trades)\n",
    "    engine.addobserver(bt.observers.BuySell)\n",
    "    engine.addanalyzer(bt.analyzers.DrawDown, _name='drawdown')\n",
    "    engine.addsizer(bt.sizers.SizerFix, stake=1000)\n",
    "```\n",
    "     \n",
    "- Define and add data feed from one or another source (live feed is possible):\n",
    " \n",
    "``` python\n",
    "    MyData = btfeeds.GenericCSVData(dataname=CSVfilename.csv)\n",
    "    engine.addata(MyData)\n",
    "```\n",
    "     \n",
    "- Now backtrader enigine is ready to run backtesting:\n",
    " \n",
    "``` python\n",
    "   results = engine.run()\n",
    "```\n",
    " \n",
    "- After that you can print, analyze and think on results:\n",
    " \n",
    "``` python\n",
    "    engine.plot()\n",
    "    my_disaster = results[0].analyzers.drawdown.get_analysis()\n",
    "```\n",
    "    \n",
    "For BT gym environment configuration, same principles apply with some major differences:\n",
    " - strategy you prepare will be subclass of base BTgymStrategy,\n",
    "   wich contains specific to RL setup methods and parameters;\n",
    "    \n",
    " - this startegy will not contain decision-making logic - this part will go to RL agent;\n",
    " \n",
    " - you define you data by creating BTgymDataset class instance;\n",
    " \n",
    " - you don't add data to your engine. Just pass it to environment, BTgym Server will do.\n",
    " \n",
    " - you dont run backtrader engine manually via run() method. BTGym Server will do.\n",
    " \n",
    "##### That's how you do it:"
   ]
  },
  {
   "cell_type": "code",
   "execution_count": 1,
   "metadata": {
    "collapsed": true
   },
   "outputs": [],
   "source": [
    "import numpy as np\n",
    "\n",
    "import backtrader as bt\n",
    "\n",
    "from btgym import BTgymEnv, BTgymStrategy, BTgymDataset"
   ]
  },
  {
   "cell_type": "code",
   "execution_count": 22,
   "metadata": {},
   "outputs": [
    {
     "name": "stderr",
     "output_type": "stream",
     "text": [
      "[2017-06-24 01:14:13,343] Custom Dataset class used.\n",
      "[2017-06-24 01:14:13,344] Custom Cerebro engine used.\n",
      "[2017-06-24 01:14:13,348] Environment is ready.\n"
     ]
    }
   ],
   "source": [
    "class MyStrategy(BTgymStrategy):\n",
    "    \"\"\"\n",
    "    Example subclass of BT server inner computation startegy,\n",
    "    jsut overrides default get_state() method.\n",
    "    \n",
    "    NOTE:\n",
    "    There are parameters every BTgymStrategy holds:\n",
    "        state_shape:   observation state shape, by convention last dimension is time embedding one;\n",
    "                       one can define any shape; should match env.observation_space.shape.\n",
    "        state_low,  \n",
    "        state_high:    observation space state min/max values.\n",
    "        drawdown_call: simplest condition to finish episode.\n",
    "        dataset_stat,   \n",
    "        episode_stat:  summary descriptive statistics for entire dataset and\n",
    "                       current episode. Got updated by server, one may need it.\n",
    "        portfolio_actions:\n",
    "                       'hold', 'buy', 'sell', 'close' -  possible agent actions.\n",
    "        skip_frame:     Number of environment steps to skip before returning next response,\n",
    "                        e.g. if set to 10 -- agent will interact with environment every 10th episode step;\n",
    "                        Every other step agent action is assumed to be 'hold'.\n",
    "\n",
    "    Those can be accessed within strategy such as: 'self.params.state_shape' \n",
    "    and shoud be explicitly set when adding strategy to bt.Cerebro() - see below:\n",
    "    \"\"\"\n",
    "    def get_state(self):\n",
    "        \"\"\"\n",
    "        Returns normalized environment observation state representation\n",
    "        by computing time-embedded vector\n",
    "        of price gradients.\n",
    "        \"\"\"\n",
    "        # Prepare:\n",
    "        sigmoid = lambda x: 1/(1 + np.exp(x))\n",
    "        \n",
    "        # T is 'gamma-like' signal hyperparameter\n",
    "        # for our signal to be in about [-5,+5] range before passing it to sigmoid;\n",
    "        # tweak it by hand to add/remove \"contrast\":\n",
    "        T = 2.0e+2\n",
    "        \n",
    "        # Get vectors of last [m] price values as [4 x m] matrix:\n",
    "        X = np.row_stack((\n",
    "            self.data.open.get(size=self.p.state_shape[-1]),\n",
    "            self.data.low.get(size=self.p.state_shape[-1]),\n",
    "            self.data.high.get(size=self.p.state_shape[-1]),\n",
    "            self.data.close.get(size=self.p.state_shape[-1]),\n",
    "        ))\n",
    "        \n",
    "        # Compute amplified gradients:\n",
    "        print('X:',X.shape)\n",
    "        #dX = np.asarray(np.gradient(X))# * T \n",
    "        dX = np.gradient(X)[-1] * T\n",
    "        print(type(dX))\n",
    "        #print(len(dX))\n",
    "        \n",
    "        # Squash values in [0,1]:\n",
    "        return sigmoid(dX * T)\n",
    "        \n",
    "# Configure backtesting engine:\n",
    "\n",
    "MyCerebro = bt.Cerebro()\n",
    "\n",
    "# Note (again): all kwargs here go to strategy parameters dict,\n",
    "# that is our responsibility to consisit observation shape / bounds with what our get_state() computes.\n",
    "MyCerebro.addstrategy(\n",
    "    MyStrategy,\n",
    "    state_shape=(4,10),\n",
    "    state_low=0,\n",
    "    state_high=1,\n",
    "    drawdown_call=99,\n",
    "    skip_frame=10,\n",
    ")\n",
    "\n",
    "# Than everything as usual:\n",
    "MyCerebro.broker.setcash(100.0)\n",
    "MyCerebro.broker.setcommission(commission=0.001)\n",
    "MyCerebro.addsizer(bt.sizers.SizerFix, stake=10)\n",
    "MyCerebro.addanalyzer(bt.analyzers.DrawDown)\n",
    "\n",
    "\n",
    "# Define dataset:\n",
    "MyDataset = BTgymDataset(\n",
    "    filename='../examples/data/DAT_ASCII_EURUSD_M1_2016.csv',\n",
    "    start_weekdays=[0, 1,],\n",
    "    # all other left to defaults\n",
    ")\n",
    "\n",
    "# Finally:\n",
    "env = BTgymEnv(\n",
    "    dataset=MyDataset,\n",
    "    engine=MyCerebro,\n",
    "    verbose=1,\n",
    ")"
   ]
  },
  {
   "cell_type": "code",
   "execution_count": 23,
   "metadata": {
    "scrolled": false
   },
   "outputs": [
    {
     "name": "stderr",
     "output_type": "stream",
     "text": [
      "[2017-06-24 01:14:14,255] No running server found, starting...\n",
      "[2017-06-24 01:14:14,297] Server PID: 73026\n",
      "[2017-06-24 01:14:15,024] Loaded 372678 records from <../examples/data/DAT_ASCII_EURUSD_M1_2016.csv>.\n",
      "[2017-06-24 01:14:15,112] Data summary:\n",
      "                open           high            low          close    volume\n",
      "count  372678.000000  372678.000000  372678.000000  372678.000000  372678.0\n",
      "mean        1.107109       1.107198       1.107019       1.107108       0.0\n",
      "std         0.024843       0.024840       0.024847       0.024844       0.0\n",
      "min         1.035250       1.035470       1.035220       1.035220       0.0\n",
      "25%         1.092140       1.092230       1.092040       1.092140       0.0\n",
      "50%         1.113530       1.113610       1.113450       1.113530       0.0\n",
      "75%         1.124710       1.124780       1.124630       1.124710       0.0\n",
      "max         1.161440       1.161600       1.160770       1.161450       0.0\n",
      "[2017-06-24 01:14:15,294] Server started, pinging tcp://127.0.0.1:5500 ...\n",
      "[2017-06-24 01:14:15,297] Server seems ready with response: <CONTROL_MODE, send <_reset>, <_getstat> or <_stop>.>\n",
      "[2017-06-24 01:14:15,298] Starting episode.\n",
      "[2017-06-24 01:14:15,302] Maximum episode time duration set to: 1 day, 23:55:00.\n",
      "[2017-06-24 01:14:15,303] Respective number of steps: 2875.\n",
      "[2017-06-24 01:14:15,305] Maximum allowed data time gap set to: 5:00:00.\n",
      "\n",
      "[2017-06-24 01:14:15,309] Episode start: 2016-09-16 14:41:00, weekday: 4.\n",
      "[2017-06-24 01:14:15,310] Not a good day to start, resampling...\n",
      "[2017-06-24 01:14:15,312] Episode start: 2016-06-09 22:01:00, weekday: 3.\n",
      "[2017-06-24 01:14:15,314] Not a good day to start, resampling...\n",
      "[2017-06-24 01:14:15,316] Episode start: 2016-01-19 10:19:00, weekday: 1.\n",
      "[2017-06-24 01:14:15,318] Start time adjusted to <00:00>\n",
      "[2017-06-24 01:14:15,336] Episode duration: 1 day, 23:54:00.\n",
      "[2017-06-24 01:14:15,338] Total episode time gap: -1 day, 23:59:00.\n",
      "[2017-06-24 01:14:15,339] Sample accepted.\n",
      "[2017-06-24 01:14:15,354] Data summary:\n",
      "              open         high          low        close  volume\n",
      "count  2875.000000  2875.000000  2875.000000  2875.000000  2875.0\n",
      "mean      1.090485     1.090598     1.090370     1.090485     0.0\n",
      "std       0.002673     0.002687     0.002662     0.002673     0.0\n",
      "min       1.086030     1.086140     1.085920     1.086020     0.0\n",
      "25%       1.088040     1.088130     1.087960     1.088040     0.0\n",
      "50%       1.090540     1.090620     1.090370     1.090530     0.0\n",
      "75%       1.092400     1.092520     1.092290     1.092400     0.0\n",
      "max       1.097430     1.097580     1.096890     1.097450     0.0\n"
     ]
    },
    {
     "name": "stdout",
     "output_type": "stream",
     "text": [
      "X: (4, 10)\n",
      "<class 'numpy.ndarray'>\n",
      "X: (4, 10)\n",
      "<class 'numpy.ndarray'>\n"
     ]
    },
    {
     "data": {
      "text/plain": [
       "array([[ 0.40131234,  0.04742587,  0.01798621,  0.23147522,  0.549834  ,\n",
       "         0.5       ,  0.5       ,  0.9168273 ,  0.98201379,  0.97340301],\n",
       "       [ 0.11920292,  0.02659699,  0.05732418,  0.26894142,  0.26894142,\n",
       "         0.5       ,  0.90024951,  0.98201379,  0.98787157,  0.99183743],\n",
       "       [ 0.05732418,  0.06913842,  0.19781611,  0.5       ,  0.549834  ,\n",
       "         0.450166  ,  0.549834  ,  0.9168273 ,  0.98201379,  0.98201379],\n",
       "       [ 0.00368424,  0.01798621,  0.19781611,  0.59868766,  0.59868766,\n",
       "         0.35434369,  0.90024951,  0.98787157,  0.97340301,  0.97340301]])"
      ]
     },
     "execution_count": 23,
     "metadata": {},
     "output_type": "execute_result"
    },
    {
     "name": "stdout",
     "output_type": "stream",
     "text": [
      "X: (4, 10)\n",
      "<class 'numpy.ndarray'>\n"
     ]
    },
    {
     "name": "stderr",
     "output_type": "stream",
     "text": [
      "[2017-06-24 01:14:38,878] Episode elapsed time: 0:00:23.519281.\n",
      "[2017-06-24 01:14:38,881] Server is exiting.\n"
     ]
    }
   ],
   "source": [
    "env.reset()"
   ]
  },
  {
   "cell_type": "code",
   "execution_count": 24,
   "metadata": {},
   "outputs": [
    {
     "name": "stderr",
     "output_type": "stream",
     "text": [
      "[2017-06-24 01:14:38,883] Server is exiting. Exit code: None\n"
     ]
    }
   ],
   "source": [
    "env._stop_server()"
   ]
  },
  {
   "cell_type": "code",
   "execution_count": null,
   "metadata": {
    "collapsed": true
   },
   "outputs": [],
   "source": []
  }
 ],
 "metadata": {
  "kernelspec": {
   "display_name": "Python 3",
   "language": "python",
   "name": "python3"
  },
  "language_info": {
   "codemirror_mode": {
    "name": "ipython",
    "version": 3
   },
   "file_extension": ".py",
   "mimetype": "text/x-python",
   "name": "python",
   "nbconvert_exporter": "python",
   "pygments_lexer": "ipython3",
   "version": "3.6.0"
  }
 },
 "nbformat": 4,
 "nbformat_minor": 2
}
