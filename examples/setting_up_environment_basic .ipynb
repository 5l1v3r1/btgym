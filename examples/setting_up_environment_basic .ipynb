{
 "cells": [
  {
   "cell_type": "code",
   "execution_count": null,
   "metadata": {
    "collapsed": true
   },
   "outputs": [],
   "source": [
    "#import itertools\n",
    "#import random\n",
    "import os\n",
    "\n",
    "import sys\n",
    "sys.path.insert(0,'..')\n",
    "\n",
    "import matplotlib \n",
    "import matplotlib.pyplot as plt\n",
    "%matplotlib inline\n",
    "#import numpy as np\n",
    "#import scipy.signal as signal\n",
    "#import pandas as pd\n",
    "\n",
    "#import datetime\n",
    "\n",
    "#import backtrader as bt\n",
    "\n",
    "#from btgym import BTgymEnv, BTgymStrategy, BTgymDataset"
   ]
  },
  {
   "cell_type": "markdown",
   "metadata": {},
   "source": [
    "-------------\n",
    "#### Basic settings and parameters\n",
    "EBTgymEnv class comes preconfigured for quick setting. Basicaly one need to provide at least data file to set it up. Here all parameters are set to defaults values. One can eyeball env. parameters by looking at nested  `MyEnvironment.params` dictionary consisting of three subdictionaries:\n",
    "- `params_dataset`,  \n",
    "- `params_engine`,\n",
    "- `params_other`\n",
    "\n",
    "One should look at source files for exact parameters descriptions, since complete reference is not ready yet. :/\n"
   ]
  },
  {
   "cell_type": "code",
   "execution_count": 4,
   "metadata": {},
   "outputs": [
    {
     "name": "stdout",
     "output_type": "stream",
     "text": [
      "\n",
      "Parameters [dataset] subset: \n",
      "filename : ./data/DAT_ASCII_EURUSD_M1_2016.csv\n",
      "start_weekdays : [0, 1, 2]\n",
      "start_00 : True\n",
      "episode_len_days : 1\n",
      "episode_len_hours : 23\n",
      "episode_len_minutes : 55\n",
      "time_gap_days : 0\n",
      "time_gap_hours : 5\n",
      "sep : ;\n",
      "header : 0\n",
      "index_col : 0\n",
      "parse_dates : True\n",
      "names : ['open', 'high', 'low', 'close', 'volume']\n",
      "timeframe : 1\n",
      "datetime : 0\n",
      "open : 1\n",
      "high : 2\n",
      "low : 3\n",
      "close : 4\n",
      "volume : -1\n",
      "openinterest : -1\n",
      "\n",
      "Parameters [engine] subset: \n",
      "state_dim_time : 10\n",
      "state_dim_0 : 4\n",
      "state_low : 1.03522\n",
      "state_high : 1.1616\n",
      "start_cash : 10.0\n",
      "broker_commission : 0.001\n",
      "fixed_stake : 10\n",
      "drawdown_call : 90\n",
      "\n",
      "Parameters [other] subset: \n",
      "portfolio_actions : ('hold', 'buy', 'sell', 'close')\n",
      "port : 5500\n",
      "verbose : 0\n"
     ]
    }
   ],
   "source": [
    "from btgym import BTgymEnv\n",
    " \n",
    "MyEnvironment = BTgymEnv(filename='./data/DAT_ASCII_EURUSD_M1_2016.csv',)\n",
    "\n",
    "# Print parameters and default values:\n",
    "\n",
    "for params_name, params_dict in MyEnvironment.params.items():\n",
    "    print('\\nParameters [{}] subset: '.format(params_name))\n",
    "    for key, value in params_dict.items():\n",
    "        print('{} : {}'.format(key,value))\n",
    "            "
   ]
  },
  {
   "cell_type": "markdown",
   "metadata": {},
   "source": [
    "----\n",
    "#### Specifying more controls:\n",
    "There is example of common setup.\n",
    " \n",
    "There's some more parameters, especially at dataset section. Those are related to correct CSV data parsing and better left default until you pick different data source. See BTgymDataset() class source for explanations."
   ]
  },
  {
   "cell_type": "code",
   "execution_count": 5,
   "metadata": {},
   "outputs": [
    {
     "name": "stderr",
     "output_type": "stream",
     "text": [
      "[2017-06-21 19:22:14,290] Using base BTgymDataset class.\n",
      "[2017-06-21 19:22:14,291] Using base BTgymStrategy class.\n",
      "[2017-06-21 19:22:15,220] Sucsessfuly loaded 372678 records from <../examples/data/DAT_ASCII_EURUSD_M1_2016.csv>.\n",
      "[2017-06-21 19:22:15,303] Dataset summary statistic:\n",
      "                open           high            low          close    volume\n",
      "count  372678.000000  372678.000000  372678.000000  372678.000000  372678.0\n",
      "mean        1.107109       1.107198       1.107019       1.107108       0.0\n",
      "std         0.024843       0.024840       0.024847       0.024844       0.0\n",
      "min         1.035250       1.035470       1.035220       1.035220       0.0\n",
      "25%         1.092140       1.092230       1.092040       1.092140       0.0\n",
      "50%         1.113530       1.113610       1.113450       1.113530       0.0\n",
      "75%         1.124710       1.124780       1.124630       1.124710       0.0\n",
      "max         1.161440       1.161600       1.160770       1.161450       0.0\n",
      "[2017-06-21 19:22:15,303] Data flushed.\n",
      "[2017-06-21 19:22:15,306] Inferring obs. space high/low form dataset: 1.035220 / 1.161600.\n",
      "[2017-06-21 19:22:15,313] Environment is ready.\n",
      "[2017-06-21 19:22:15,314] No running server found.\n"
     ]
    }
   ],
   "source": [
    "MyEnvironment = BTgymEnv(filename='../examples/data/DAT_ASCII_EURUSD_M1_2016.csv',\n",
    "                         \n",
    "                     # Dataset and single random episode related parameters:\n",
    "                         \n",
    "                         # We start trading on mondays, thuesdays and wednesdays:\n",
    "                         start_weekdays=[0, 1, 2],\n",
    "                         # Want total episode duration to be no more than 1 day 23h 55min:\n",
    "                         episode_len_days=1,\n",
    "                         episode_len_hours=23,\n",
    "                         episode_len_minutes=55,\n",
    "                         # Want to start every episode at the begiining of the day:\n",
    "                         start_00=True,\n",
    "                         \n",
    "                     # Broker and trade realted:\n",
    "                         \n",
    "                         # Set initial capital:\n",
    "                         start_cash=100,\n",
    "                         # Set broker commission as 0.1% of operation value:\n",
    "                         broker_commission=0.002,\n",
    "                         # We use fixed stake of size 10:\n",
    "                         fixed_stake=10,\n",
    "                         # We want stop episode if 50% of initial capital is lost:\n",
    "                         drawdown_call=50,\n",
    "                         \n",
    "                     # RL environment related parameters:\n",
    "                         \n",
    "                         # Set time embedding dimensionality;\n",
    "                         # that's basically means we get sequence of last 20 price values\n",
    "                         # as space observation: \n",
    "                         state_dim_time=30,\n",
    "                         \n",
    "                         # Observations min and max. possible values.\n",
    "                         # Setting these to None forces environment to infer from entire dataset.\n",
    "                         # Since our obs. space simply consisits of series of prices (by default) - it's reasonable.\n",
    "                         state_low=None,\n",
    "                         state_high=None,\n",
    "                         \n",
    "                     # Other parameters:\n",
    "                         \n",
    "                         # Network port to use:\n",
    "                         port=5555,\n",
    "                         # Be chatty: settting this to 1 makes environment report what's going on;\n",
    "                         # 2 is for debugging, dumps out a lot of data:\n",
    "                         verbose=1,)\n"
   ]
  },
  {
   "cell_type": "markdown",
   "metadata": {},
   "source": [
    "----\n",
    "#### Registering environment:\n",
    "OpenaAI way of making environment is to register it with cpecific set of parameters under some unique name and instantiate it via calling standart `make()` method. This helps for standartization and correct evaluation of results uploaded to Gym board. \n",
    " \n",
    "That's how you do it (same parameters as above):"
   ]
  },
  {
   "cell_type": "code",
   "execution_count": 8,
   "metadata": {},
   "outputs": [
    {
     "name": "stderr",
     "output_type": "stream",
     "text": [
      "[2017-06-21 19:26:09,969] Making new env: backtrader-v46\n",
      "[2017-06-21 19:26:09,986] Using base BTgymDataset class.\n",
      "[2017-06-21 19:26:09,987] Using base BTgymStrategy class.\n",
      "[2017-06-21 19:26:10,772] Sucsessfuly loaded 372678 records from <../examples/data/DAT_ASCII_EURUSD_M1_2016.csv>.\n",
      "[2017-06-21 19:26:10,860] Dataset summary statistic:\n",
      "                open           high            low          close    volume\n",
      "count  372678.000000  372678.000000  372678.000000  372678.000000  372678.0\n",
      "mean        1.107109       1.107198       1.107019       1.107108       0.0\n",
      "std         0.024843       0.024840       0.024847       0.024844       0.0\n",
      "min         1.035250       1.035470       1.035220       1.035220       0.0\n",
      "25%         1.092140       1.092230       1.092040       1.092140       0.0\n",
      "50%         1.113530       1.113610       1.113450       1.113530       0.0\n",
      "75%         1.124710       1.124780       1.124630       1.124710       0.0\n",
      "max         1.161440       1.161600       1.160770       1.161450       0.0\n",
      "[2017-06-21 19:26:10,861] Data flushed.\n",
      "[2017-06-21 19:26:10,863] Inferring obs. space high/low form dataset: 1.035220 / 1.161600.\n",
      "[2017-06-21 19:26:10,871] Environment is ready.\n",
      "[2017-06-21 19:26:10,872] No running server found.\n"
     ]
    }
   ],
   "source": [
    "import gym\n",
    "\n",
    "env_params = dict(filename='../examples/data/DAT_ASCII_EURUSD_M1_2016.csv',\n",
    "                  start_weekdays=[0, 1, 2],\n",
    "                  episode_len_days=1,\n",
    "                  episode_len_hours=23,\n",
    "                  episode_len_minutes=55,\n",
    "                  start_00=True,\n",
    "                  start_cash=100,\n",
    "                  broker_commission=0.002,\n",
    "                  fixed_stake=10,\n",
    "                  drawdown_call=50,\n",
    "                  state_dim_time=30,\n",
    "                  state_low=None,\n",
    "                  state_high=None,\n",
    "                  port=5555,\n",
    "                  verbose=1,)\n",
    "                  \n",
    "gym.envs.register(id='backtrader-v46',\n",
    "                  entry_point='btgym:BTgymEnv',\n",
    "                  kwargs=env_params)\n",
    "                  \n",
    "MyEnvironment = gym.make('backtrader-v46')"
   ]
  },
  {
   "cell_type": "code",
   "execution_count": null,
   "metadata": {
    "collapsed": true
   },
   "outputs": [],
   "source": []
  }
 ],
 "metadata": {
  "kernelspec": {
   "display_name": "Python 3",
   "language": "python",
   "name": "python3"
  },
  "language_info": {
   "codemirror_mode": {
    "name": "ipython",
    "version": 3
   },
   "file_extension": ".py",
   "mimetype": "text/x-python",
   "name": "python",
   "nbconvert_exporter": "python",
   "pygments_lexer": "ipython3",
   "version": "3.6.0"
  }
 },
 "nbformat": 4,
 "nbformat_minor": 2
}
