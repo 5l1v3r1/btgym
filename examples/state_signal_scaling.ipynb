{
 "cells": [
  {
   "cell_type": "code",
   "execution_count": 1,
   "metadata": {
    "collapsed": true
   },
   "outputs": [],
   "source": [
    "import numpy as np\n",
    "\n",
    "from btgym import BTgymEnv\n",
    "from gym import spaces\n",
    "import backtrader as bt\n",
    "from btgym.research import DevStrat_4_11, DevStrat_4_12\n",
    "\n",
    "%matplotlib inline\n",
    "import matplotlib.pyplot as plt\n",
    "plt.style.use('seaborn-white')"
   ]
  },
  {
   "cell_type": "code",
   "execution_count": 2,
   "metadata": {
    "collapsed": true
   },
   "outputs": [],
   "source": [
    "class SignalProvider():\n",
    "    \n",
    "    def __init__(self, env):\n",
    "        self.env = env\n",
    "        self.done = True\n",
    "    \n",
    "    def get_batch(self, batch_size):\n",
    "        batch_ext = []\n",
    "        batch_int = []\n",
    "        batch_r = []\n",
    "        while len(batch_r) < batch_size:\n",
    "            if not self.done:\n",
    "                o, r, self.done, i = env.step(env.action_space.sample())\n",
    "            else:\n",
    "                o = env.reset()\n",
    "                r = 0\n",
    "                self.done = False\n",
    "            batch_ext.append(o['external'])\n",
    "            batch_int.append(o['internal'])\n",
    "            batch_r.append(r)\n",
    "        return batch_ext, batch_int, batch_r\n",
    "    \n",
    "    def close(self):\n",
    "        self.env.close()\n",
    "        self.done = True"
   ]
  },
  {
   "cell_type": "code",
   "execution_count": 3,
   "metadata": {},
   "outputs": [
    {
     "name": "stderr",
     "output_type": "stream",
     "text": [
      "/Users/muzikin/anaconda/envs/tensorforce/lib/python3.6/site-packages/matplotlib/__init__.py:1405: UserWarning: \n",
      "This call to matplotlib.use() has no effect because the backend has already\n",
      "been chosen; matplotlib.use() must be called *before* pylab, matplotlib.pyplot,\n",
      "or matplotlib.backends is imported for the first time.\n",
      "\n",
      "  warnings.warn(_use_error_msg)\n"
     ]
    }
   ],
   "source": [
    "# Our Scale-state-before-tanh parameter of interest:\n",
    "state_ext_scale = 1e3\n",
    "\n",
    "# additional\n",
    "state_int_scale = 1.0\n",
    "reward_scale = 10.0\n",
    "\n",
    "engine = bt.Cerebro()\n",
    "engine.addstrategy(\n",
    "    DevStrat_4_12,\n",
    "    drawdown_call=10, # max % to loose, in percent of initial cash\n",
    "    target_call=10,  # max % to win, same\n",
    "    skip_frame=10,\n",
    "    gamma=0.99,\n",
    "    reward_scale=reward_scale,\n",
    "    state_ext_scale=state_ext_scale,\n",
    "    #state_int_scale=state_int_scale,\n",
    ")\n",
    "env = BTgymEnv(\n",
    "    filename='../examples/data/DAT_ASCII_EURUSD_M1_2016.csv',\n",
    "    #filename='../examples/data/DAT_ASCII_EURUSD_M1_201703_1_10.csv',  # ten days\n",
    "    #filename='../examples/data/test_bent_sine_1min_period1500_300_delta0002.csv',  # increasing sine freq\n",
    "    #filename='../examples/data/test_sine_1min_period256_delta0002.csv',  # simple sine \n",
    "    #state_shape=dict(raw_state=spaces.Box(low=0,high=1,shape=(30,4))),\n",
    "    engine=engine,\n",
    "    skip_frame=10,\n",
    "    verbose=0\n",
    ") \n",
    "signal_provider = SignalProvider(env)"
   ]
  },
  {
   "cell_type": "code",
   "execution_count": 5,
   "metadata": {},
   "outputs": [
    {
     "name": "stderr",
     "output_type": "stream",
     "text": [
      "/Users/muzikin/anaconda/envs/tensorforce/lib/python3.6/site-packages/matplotlib/__init__.py:1405: UserWarning: \n",
      "This call to matplotlib.use() has no effect because the backend has already\n",
      "been chosen; matplotlib.use() must be called *before* pylab, matplotlib.pyplot,\n",
      "or matplotlib.backends is imported for the first time.\n",
      "\n",
      "  warnings.warn(_use_error_msg)\n"
     ]
    },
    {
     "data": {
      "image/png": "[encoded data removed]",
      "text/plain": [
       "<matplotlib.figure.Figure at 0x10c771518>"
      ]
     },
     "metadata": {},
     "output_type": "display_data"
    }
   ],
   "source": [
    "# Make it  256 -:- 1024 (takes a minute):\n",
    "batch_size = 1024\n",
    "\n",
    "batch_ext, batch_int, batch_r = signal_provider.get_batch(batch_size)\n",
    "signal_provider.close()\n",
    "\n",
    "\n",
    "# Distribution of values:\n",
    "distr_ext = np.reshape(batch_ext, -1)\n",
    "distr_int = np.reshape(batch_int, -1)\n",
    "distr_r = np.asarray(batch_r)\n",
    "\n",
    "plt.figure(num=0, figsize=(10, 5))\n",
    "plt.title('External state values, {} points total'.format(distr_ext.shape[0]))\n",
    "plt.grid(True)\n",
    "fig = plt.hist(distr_ext, histtype='stepfilled', bins=500)\n",
    "\n",
    "#plt.figure(num=1, figsize=(10, 5))\n",
    "#plt.title('Reward values, {} points total'.format(distr_r.shape[0]))\n",
    "#plt.grid(True)\n",
    "#fig = plt.hist(distr_r, histtype='stepfilled', bins=500)\n"
   ]
  },
  {
   "cell_type": "code",
   "execution_count": null,
   "metadata": {
    "collapsed": true
   },
   "outputs": [],
   "source": [
    "signal_provider.close()\n"
   ]
  },
  {
   "cell_type": "markdown",
   "metadata": {},
   "source": [
    "##### Properly scaled:\n",
    "![Normal](./img/state_value_distr_ok.png)\n",
    "\n",
    "\n",
    "##### Overscaled:\n",
    "![Over](./img/state_value_distr_over.png)\n",
    "\n",
    "\n",
    "##### Underscaled:\n",
    "![Under](./img/state_value_distr_under2.png)"
   ]
  },
  {
   "cell_type": "code",
   "execution_count": null,
   "metadata": {
    "collapsed": true
   },
   "outputs": [],
   "source": []
  }
 ],
 "metadata": {
  "kernelspec": {
   "display_name": "Python 3",
   "language": "python",
   "name": "python3"
  },
  "language_info": {
   "codemirror_mode": {
    "name": "ipython",
    "version": 3
   },
   "file_extension": ".py",
   "mimetype": "text/x-python",
   "name": "python",
   "nbconvert_exporter": "python",
   "pygments_lexer": "ipython3",
   "version": "3.6.0"
  }
 },
 "nbformat": 4,
 "nbformat_minor": 2
}
